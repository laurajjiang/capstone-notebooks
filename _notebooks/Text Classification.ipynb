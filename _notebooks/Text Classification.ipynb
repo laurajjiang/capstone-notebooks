{
 "cells": [
  {
   "cell_type": "markdown",
   "metadata": {
    "id": "yud3kMDNFobS"
   },
   "source": [
    "# Text Classification\n",
    "\n",
    "Text classification is the process of assigning tags or categories to text according to its content. It’s one of the fundamental tasks in natural language processing. \n",
    "\n",
    "The text we wanna classify is given as input to an algorithm, the algorithm will then analyze the text’s content, and then categorize the input as one of the tags or categories previously given.\n",
    "\n",
    "**Input → Classifying Algorithm → Classification of Input**\n",
    "\n",
    "Real life examples: \n",
    "\n",
    "+ sentiment analysis: how does the writer of the sentence feel about what they are writing about, do they think positively or negatively of the subject?Ex. restaurant reviews\n",
    "+ topic labeling: given sentences and a set of topics, which topic does this sentence fall under?  Ex. is this essay about history? Math? etc?\n",
    "+ spam detection. Ex. Email filtering: is this email a real important email or spam?\n",
    "\n",
    "Example. \n",
    "A restaurant wants to evaluate their ratings but don’t want to read through all of them. Therefore, they wanna use a computer algorithm to do all their work. They simply want to know if the customer’s review is positive or negative.\n",
    "\n",
    "Here’s an example of a customer’s review and a simple way an algorithm could classify their review.\n",
    "\n",
    "Input: “The food here was too salty and too expensive” \n",
    "\n",
    "Algorithm: \n",
    "Goes through every word in the sentence and counts how many positive words and how many negative words are in the sentence.\n",
    "\n",
    "\t\t“The, food, here, was, too, and” are all neutral words\n",
    "\n",
    "\t\t“Salty, expensive” are negative words.\n",
    "\n",
    "\t\tNegative words: 2\n",
    "\t\tPositive words: 0\n",
    "\n",
    "Classification: Negative Review, because there are more negative words (2) than positive (0).\n",
    "\n",
    "However, this algorithm obviously doesn’t work in a lot of cases. \n",
    "\n",
    "For example, “The food here was good, not expensive and not salty” would be classified as negative but it’s actually a positive review. \n",
    "\n",
    "Language and text can get very complicated which makes creating these algorithms difficult. Some things that make language difficult could be words that have multiple meanings, negation words (words such as not), slang, etc.\n",
    "\n"
   ]
  },
  {
   "cell_type": "markdown",
   "metadata": {
    "id": "4X8mkZErFoba"
   },
   "source": [
    "## Importing Data"
   ]
  },
  {
   "cell_type": "code",
   "execution_count": 1,
   "metadata": {
    "colab": {
     "base_uri": "https://localhost:8080/"
    },
    "executionInfo": {
     "elapsed": 32001,
     "status": "ok",
     "timestamp": 1611379733787,
     "user": {
      "displayName": "Junhyeok Jeong",
      "photoUrl": "",
      "userId": "02192780254880206882"
     },
     "user_tz": 480
    },
    "id": "qS67p4NnFobb",
    "outputId": "c2b82523-5db0-4a8d-f895-910b279e440a"
   },
   "outputs": [],
   "source": [
    "import sys\n",
    "import string\n",
    "from scipy import sparse\n",
    "import numpy as np\n",
    "import re\n",
    "import nltk\n",
    "from nltk.corpus import stopwords\n",
    "from IPython.display import display\n",
    "import ipywidgets as widgets\n",
    "\n",
    "from pprint import pprint\n",
    "import seaborn as sns\n",
    "import pandas as pd\n",
    "\n",
    "# Adding some comment explanations...\n",
    "\n",
    "# Our input files, divided into a training and test  set\n",
    "trainingFile = \"dataset/trainingSet.txt\"\n",
    "testingFile = \"dataset/testSet.txt\""
   ]
  },
  {
   "cell_type": "code",
   "execution_count": 2,
   "metadata": {
    "executionInfo": {
     "elapsed": 675,
     "status": "ok",
     "timestamp": 1611379751343,
     "user": {
      "displayName": "Junhyeok Jeong",
      "photoUrl": "",
      "userId": "02192780254880206882"
     },
     "user_tz": 480
    },
    "id": "eq1xTUPUFobc"
   },
   "outputs": [],
   "source": [
    "# Takes a filename string as input, and divides them into arrays containing the sentences, and their related sentiments.\n",
    "def getData(fileName):\n",
    "    f = open(fileName)\n",
    "    file = f.readlines()\n",
    "\n",
    "    sentences = []\n",
    "    sentiments = []\n",
    "\n",
    "    for line in file:\n",
    "        sentence, sentiment = line.split('\\t')\n",
    "        sentences.append(sentence.strip())\n",
    "        sentiments.append(int(sentiment.strip())) # Sentiment in {0,1}\n",
    "\n",
    "    return sentences, np.array(sentiments)"
   ]
  },
  {
   "cell_type": "code",
   "execution_count": 3,
   "metadata": {
    "executionInfo": {
     "elapsed": 1726,
     "status": "ok",
     "timestamp": 1611379756173,
     "user": {
      "displayName": "Junhyeok Jeong",
      "photoUrl": "",
      "userId": "02192780254880206882"
     },
     "user_tz": 480
    },
    "id": "0clq6iMtFobd"
   },
   "outputs": [
    {
     "name": "stdout",
     "output_type": "stream",
     "text": [
      "Training Sentence Sample: \n",
      "['Wow... Loved this place.',\n",
      " 'Not tasty and the texture was just nasty.',\n",
      " 'Stopped by during the late May bank holiday off Rick Steve recommendation '\n",
      " 'and loved it.',\n",
      " 'The selection on the menu was great and so were the prices.',\n",
      " 'Now I am getting angry and I want my damn pho.',\n",
      " \"Honeslty it didn't taste THAT fresh.)\",\n",
      " 'The potatoes were like rubber and you could tell they had been made up ahead '\n",
      " 'of time being kept under a warmer.',\n",
      " 'The fries were great too.',\n",
      " 'A great touch.',\n",
      " 'Service was very prompt.']\n",
      "Training Label Sample: \n",
      "array([1, 0, 1, 1, 0, 0, 0, 1, 1, 1])\n",
      "Testing Sentence Sample: \n",
      "['Crust is not good.',\n",
      " 'Would not go back.',\n",
      " 'I was shocked because no signs indicate cash only.',\n",
      " 'The food, amazing.',\n",
      " 'Service is also cute.',\n",
      " 'I could care less... The interior is just beautiful.',\n",
      " 'So they performed.',\n",
      " 'This hole in the wall has great Mexican street tacos, and friendly staff.',\n",
      " 'The worst was the salmon sashimi.',\n",
      " 'Also there are combos like a burger, fries, and beer for 23 which is a '\n",
      " 'decent deal.']\n",
      "Testing Label Sample: \n",
      "array([0, 0, 0, 1, 1, 1, 1, 1, 0, 1])\n"
     ]
    }
   ],
   "source": [
    "trainingSentences, trainingLabels = getData(trainingFile)\n",
    "testingSentences, testingLabels = getData(testingFile)\n",
    "\n",
    "print(\"Training Sentence Sample: \")\n",
    "pprint(trainingSentences[:10])\n",
    "print(\"Training Label Sample: \")\n",
    "pprint(trainingLabels[:10])\n",
    "print(\"Testing Sentence Sample: \")\n",
    "pprint(testingSentences[:10])\n",
    "print(\"Testing Label Sample: \")\n",
    "pprint(testingLabels[:10])"
   ]
  },
  {
   "cell_type": "markdown",
   "metadata": {
    "id": "h5bmxzE0Fobd"
   },
   "source": [
    "## Pre-Processing Data"
   ]
  },
  {
   "cell_type": "code",
   "execution_count": 4,
   "metadata": {
    "executionInfo": {
     "elapsed": 540,
     "status": "ok",
     "timestamp": 1611379796091,
     "user": {
      "displayName": "Junhyeok Jeong",
      "photoUrl": "",
      "userId": "02192780254880206882"
     },
     "user_tz": 480
    },
    "id": "CEFiIbsLFobd"
   },
   "outputs": [],
   "source": [
    "# Various grammar elements which have no sentence effect are removed\n",
    "def cleanText(sentence):\n",
    "\n",
    "    # Remove punctuations and numbers\n",
    "    sentence = re.sub('[^a-zA-Z]', ' ', sentence)\n",
    "\n",
    "    # Single character removal\n",
    "    sentence = re.sub(r\"\\s+[a-zA-Z]\\s+\", ' ', sentence)\n",
    "\n",
    "    # Removing multiple spaces\n",
    "    sentence = re.sub(r'\\s+', ' ', sentence)\n",
    "\n",
    "    return sentence\n",
    "\n",
    "# Cleaning up text and tokenizing sentences. \n",
    "def preProcess(text):\n",
    "    # Make lower case\n",
    "    text = text.lower()\n",
    "\n",
    "    # Replace non-text characters with spaces\n",
    "    nonText = string.punctuation + (\"\")\n",
    "    text = text.translate(str.maketrans(nonText, ' ' * (len(nonText))))\n",
    "\n",
    "    # Tokenize\n",
    "    words = text.split()\n",
    "\n",
    "    return words\n",
    "\n",
    "    #return list(map(cleanText, sentences))"
   ]
  },
  {
   "cell_type": "code",
   "execution_count": 5,
   "metadata": {
    "colab": {
     "base_uri": "https://localhost:8080/",
     "height": 350
    },
    "executionInfo": {
     "elapsed": 972,
     "status": "ok",
     "timestamp": 1611379798127,
     "user": {
      "displayName": "Junhyeok Jeong",
      "photoUrl": "",
      "userId": "02192780254880206882"
     },
     "user_tz": 480
    },
    "id": "9NpPZFmdFobe",
    "outputId": "d029d253-9f96-4d2b-91ff-e8d29d4276b4"
   },
   "outputs": [
    {
     "name": "stdout",
     "output_type": "stream",
     "text": [
      "Percentage Negative:  0.4909819639278557\n",
      "Percentage Positive:  0.5090180360721442\n"
     ]
    },
    {
     "data": {
      "image/png": "[encoded data removed]",
      "text/plain": [
       "<Figure size 432x288 with 1 Axes>"
      ]
     },
     "metadata": {
      "needs_background": "light"
     },
     "output_type": "display_data"
    }
   ],
   "source": [
    "train_sentence = []\n",
    "train_words = []\n",
    "test_sentence = []\n",
    "# Note, test_words is currently un-used in the rest of the code\n",
    "test_words = []\n",
    "# get cleaned sentences and bag of words\n",
    "for sen in trainingSentences:\n",
    "    train_sentence.append(cleanText(sen))\n",
    "    train_words.append(preProcess(sen))\n",
    "for sen in testingSentences:\n",
    "    test_sentence.append(cleanText(sen))\n",
    "    test_words.append(preProcess(sen))\n",
    "    \n",
    "# Pre-processed sets of words / sentences are hereby referred to using the array\n",
    "# variables above. \n",
    "\n",
    "train_df = pd.DataFrame(data=trainingLabels, columns=[\"sentiment\"])\n",
    "sns.countplot(x='sentiment', data=train_df)\n",
    "print(\"Percentage Negative: \", train_df[\"sentiment\"].value_counts()[0] / train_df[\"sentiment\"].count())\n",
    "print(\"Percentage Positive: \", train_df[\"sentiment\"].value_counts()[1] / train_df[\"sentiment\"].count())"
   ]
  },
  {
   "cell_type": "markdown",
   "metadata": {
    "id": "XKcwnJeaFobf"
   },
   "source": [
    "## Getting Data and Setting it Up"
   ]
  },
  {
   "cell_type": "code",
   "execution_count": 6,
   "metadata": {
    "executionInfo": {
     "elapsed": 2638,
     "status": "ok",
     "timestamp": 1611379804039,
     "user": {
      "displayName": "Junhyeok Jeong",
      "photoUrl": "",
      "userId": "02192780254880206882"
     },
     "user_tz": 480
    },
    "id": "lf1CNuIbFobf"
   },
   "outputs": [],
   "source": [
    "# Importing ML Libraries\n",
    "from keras.preprocessing.text import one_hot\n",
    "from keras.preprocessing.sequence import pad_sequences\n",
    "from keras.models import Sequential\n",
    "from keras.layers.core import Activation, Dropout, Dense\n",
    "from keras.layers import Flatten\n",
    "from keras.layers import GlobalMaxPooling1D\n",
    "from keras.layers.embeddings import Embedding\n",
    "from sklearn.model_selection import train_test_split\n",
    "from keras.preprocessing.text import Tokenizer\n",
    "\n",
    "from keras.callbacks import Callback\n",
    "\n",
    "from numpy import array\n",
    "from numpy import asarray\n",
    "from numpy import zeros\n",
    "\n",
    "from sklearn.metrics import classification_report\n",
    "\n",
    "import matplotlib.pyplot as plt\n",
    "\n",
    "# Turning 2d word arrays into set of vocab words\n",
    "def getVocab(sentences):\n",
    "    vocab = set()\n",
    "    for sentence in sentences:\n",
    "        for word in sentence:\n",
    "            vocab.add(word)\n",
    "    return sorted(vocab)\n",
    "\n",
    "vocabulary = getVocab(train_words)"
   ]
  },
  {
   "cell_type": "code",
   "execution_count": 7,
   "metadata": {
    "colab": {
     "base_uri": "https://localhost:8080/",
     "height": 86,
     "referenced_widgets": [
      "a9339ea58d834d4a84ceb920ae325de6",
      "68b9b08dcc394c729203c48ddc74f446",
      "d4b64698bad9425f98d698c7641ed972"
     ]
    },
    "executionInfo": {
     "elapsed": 482,
     "status": "ok",
     "timestamp": 1611379807182,
     "user": {
      "displayName": "Junhyeok Jeong",
      "photoUrl": "",
      "userId": "02192780254880206882"
     },
     "user_tz": 480
    },
    "id": "Hu59MgyyFobg",
    "outputId": "00181500-0eea-4157-d3a4-fbbce16ce590"
   },
   "outputs": [
    {
     "data": {
      "application/vnd.jupyter.widget-view+json": {
       "model_id": "7390cf21b1bf44d882589f0e99ba81db",
       "version_major": 2,
       "version_minor": 0
      },
      "text/plain": [
       "Button(description='Click to see Vocab', style=ButtonStyle())"
      ]
     },
     "metadata": {},
     "output_type": "display_data"
    }
   ],
   "source": [
    "def clicked(arg):\n",
    "    print(vocabulary)\n",
    "\n",
    "button_download = widgets.Button(description = 'Click to see Vocab')   \n",
    "button_download.on_click(clicked)\n",
    "display(button_download)"
   ]
  },
  {
   "cell_type": "code",
   "execution_count": 8,
   "metadata": {
    "executionInfo": {
     "elapsed": 525,
     "status": "ok",
     "timestamp": 1611379811941,
     "user": {
      "displayName": "Junhyeok Jeong",
      "photoUrl": "",
      "userId": "02192780254880206882"
     },
     "user_tz": 480
    },
    "id": "ug9ZUaUrFobh"
   },
   "outputs": [],
   "source": [
    "# Function is currently uncalled in code\n",
    "def createVector(vocab, sentences):\n",
    "    indices = []\n",
    "    wordOccurrences = []\n",
    "\n",
    "    for sentenceIndex, sentence in enumerate(sentences):\n",
    "        alreadyCounted = set() # Keep track of words so we don't double count.\n",
    "        for word in sentence:\n",
    "            if (word in vocab) and word not in alreadyCounted:\n",
    "                # If we just want {0,1} for the presence of the word (bernoulli NB),\n",
    "                # only count each word once. Otherwise (multinomial NB) count each\n",
    "                # occurrence of the word.\n",
    "                \n",
    "            \n",
    "                #which sentence, which word\n",
    "                indices.append((sentenceIndex, vocab.index(word)))\n",
    "                \n",
    "                wordOccurrences.append(1)\n",
    "                alreadyCounted.add(word)\n",
    "\n",
    "    # Unzip\n",
    "    rows = [row for row, _ in indices]\n",
    "    columns = [column for _, column in indices]\n",
    "\n",
    "    sentenceVectors = sparse.csr_matrix((wordOccurrences, (rows, columns)), dtype=int, shape=(len(sentences), len(vocab)))\n",
    "\n",
    "    return sentenceVectors"
   ]
  },
  {
   "cell_type": "code",
   "execution_count": 9,
   "metadata": {
    "colab": {
     "base_uri": "https://localhost:8080/"
    },
    "executionInfo": {
     "elapsed": 530,
     "status": "ok",
     "timestamp": 1611379816468,
     "user": {
      "displayName": "Junhyeok Jeong",
      "photoUrl": "",
      "userId": "02192780254880206882"
     },
     "user_tz": 480
    },
    "id": "uiOAc62-Fobh",
    "outputId": "3c8d1e5d-4904-4a6c-a087-9a0948b345be"
   },
   "outputs": [],
   "source": [
    "# Tokenizer creates a dictionary of used words in training,\n",
    "# keeping the 2000 most frequent.\n",
    "tokenizer = Tokenizer(num_words=2000)\n",
    "tokenizer.fit_on_texts(train_sentence)\n",
    "\n",
    "# Sentences are then converted into sequences of indeces which correspond to\n",
    "# our dictionary created above\n",
    "X_train = tokenizer.texts_to_sequences(train_sentence)\n",
    "X_test = tokenizer.texts_to_sequences(test_sentence)\n",
    "# print(X_train)"
   ]
  },
  {
   "cell_type": "code",
   "execution_count": 10,
   "metadata": {
    "executionInfo": {
     "elapsed": 481,
     "status": "ok",
     "timestamp": 1611379819020,
     "user": {
      "displayName": "Junhyeok Jeong",
      "photoUrl": "",
      "userId": "02192780254880206882"
     },
     "user_tz": 480
    },
    "id": "mYy0bw9VYUsh"
   },
   "outputs": [],
   "source": [
    "# Adding 1 because of reserved 0 index\n",
    "vocab_size = len(tokenizer.word_index) + 1 # Use num_words variable? \n",
    "\n",
    "maxlen = 10\n",
    "\n",
    "# Index Sequence sentences have zeroes added or are truncated to make all\n",
    "# sentences of length 'maxlen'. Purpose is to create uniform data for the\n",
    "# embedding layer later on. \n",
    "X_train = pad_sequences(X_train, padding='post', maxlen=maxlen)\n",
    "y_train = trainingLabels\n",
    "X_test = pad_sequences(X_test, padding='post', maxlen=maxlen)\n",
    "y_test = testingLabels"
   ]
  },
  {
   "cell_type": "code",
   "execution_count": 11,
   "metadata": {},
   "outputs": [],
   "source": [
    "\n",
    "\n",
    "class ConfMatrixCallbackPlotter(Callback):\n",
    "    def __init__(self, model, validation_data):\n",
    "        super().__init__()\n",
    "        self.model = model\n",
    "        self.validation_data = validation_data\n",
    "        \n",
    "    def on_epoch_end(self, epoch, logs={}):\n",
    "        # Using same prediction as below section\n",
    "        y_prediction = np.asarray((self.model.predict(self.validation_data[0])) > 0.5).astype(\"int32\")\n",
    "        y_hat_probabilities = self.model.predict(self.validation_data[0] > 0.5, batch_size=128)\n",
    "        \n",
    "        data = {'Actual':    self.validation_data[1],\n",
    "                'Predicted': y_prediction.reshape(len(self.validation_data[1]),)\n",
    "        }\n",
    "        \n",
    "        df = pd.DataFrame(data, columns=['Actual','Predicted'])\n",
    "        confusion_matrix = pd.crosstab(df['Actual'], df['Predicted'], rownames=['Actual'], colnames=['Predicted'])\n",
    "\n",
    "        sns.heatmap(confusion_matrix, annot=True,cmap=\"YlGnBu\", fmt='d').set_title('Confusion Matrix of Testing')\n",
    "        plt.show()\n",
    "        \n",
    "#         y_true = self.validation_data[1]             \n",
    "#         y_pred_class = np.argmax(y_prediction, axis=1)\n",
    "#         print(\"End epoch {} of training.\".format(epoch))\n",
    "#         print(df)"
   ]
  },
  {
   "cell_type": "code",
   "execution_count": 12,
   "metadata": {
    "colab": {
     "base_uri": "https://localhost:8080/"
    },
    "executionInfo": {
     "elapsed": 3880,
     "status": "ok",
     "timestamp": 1611379824416,
     "user": {
      "displayName": "Junhyeok Jeong",
      "photoUrl": "",
      "userId": "02192780254880206882"
     },
     "user_tz": 480
    },
    "id": "xButWWKRZnbj",
    "outputId": "e07de997-bea8-4506-a95f-c5df492bc243",
    "scrolled": true
   },
   "outputs": [
    {
     "name": "stdout",
     "output_type": "stream",
     "text": [
      "Model: \"sequential\"\n",
      "_________________________________________________________________\n",
      "Layer (type)                 Output Shape              Param #   \n",
      "=================================================================\n",
      "embedding (Embedding)        (None, 10, 100)           133200    \n",
      "_________________________________________________________________\n",
      "flatten (Flatten)            (None, 1000)              0         \n",
      "_________________________________________________________________\n",
      "dense (Dense)                (None, 1)                 1001      \n",
      "=================================================================\n",
      "Total params: 134,201\n",
      "Trainable params: 1,001\n",
      "Non-trainable params: 133,200\n",
      "_________________________________________________________________\n",
      "None\n",
      "Epoch 1/20\n"
     ]
    },
    {
     "data": {
      "image/png": "[encoded data removed]",
      "text/plain": [
       "<Figure size 432x288 with 2 Axes>"
      ]
     },
     "metadata": {
      "needs_background": "light"
     },
     "output_type": "display_data"
    },
    {
     "name": "stdout",
     "output_type": "stream",
     "text": [
      "4/4 - 0s - loss: 0.6927 - acc: 0.5130 - val_loss: 0.6914 - val_acc: 0.5392\n",
      "Epoch 2/20\n"
     ]
    },
    {
     "data": {
      "image/png": "[encoded data removed]",
      "text/plain": [
       "<Figure size 432x288 with 2 Axes>"
      ]
     },
     "metadata": {
      "needs_background": "light"
     },
     "output_type": "display_data"
    },
    {
     "name": "stdout",
     "output_type": "stream",
     "text": [
      "4/4 - 0s - loss: 0.6912 - acc: 0.5391 - val_loss: 0.6911 - val_acc: 0.5594\n",
      "Epoch 3/20\n"
     ]
    },
    {
     "data": {
      "image/png": "[encoded data removed]",
      "text/plain": [
       "<Figure size 432x288 with 2 Axes>"
      ]
     },
     "metadata": {
      "needs_background": "light"
     },
     "output_type": "display_data"
    },
    {
     "name": "stdout",
     "output_type": "stream",
     "text": [
      "4/4 - 0s - loss: 0.6900 - acc: 0.5591 - val_loss: 0.6909 - val_acc: 0.5674\n",
      "Epoch 4/20\n"
     ]
    },
    {
     "data": {
      "image/png": "[encoded data removed]",
      "text/plain": [
       "<Figure size 432x288 with 2 Axes>"
      ]
     },
     "metadata": {
      "needs_background": "light"
     },
     "output_type": "display_data"
    },
    {
     "name": "stdout",
     "output_type": "stream",
     "text": [
      "4/4 - 0s - loss: 0.6888 - acc: 0.5792 - val_loss: 0.6906 - val_acc: 0.5755\n",
      "Epoch 5/20\n"
     ]
    },
    {
     "data": {
      "image/png": "[encoded data removed]",
      "text/plain": [
       "<Figure size 432x288 with 2 Axes>"
      ]
     },
     "metadata": {
      "needs_background": "light"
     },
     "output_type": "display_data"
    },
    {
     "name": "stdout",
     "output_type": "stream",
     "text": [
      "4/4 - 0s - loss: 0.6877 - acc: 0.5772 - val_loss: 0.6904 - val_acc: 0.5634\n",
      "Epoch 6/20\n"
     ]
    },
    {
     "data": {
      "image/png": "[encoded data removed]",
      "text/plain": [
       "<Figure size 432x288 with 2 Axes>"
      ]
     },
     "metadata": {
      "needs_background": "light"
     },
     "output_type": "display_data"
    },
    {
     "name": "stdout",
     "output_type": "stream",
     "text": [
      "4/4 - 0s - loss: 0.6866 - acc: 0.6032 - val_loss: 0.6901 - val_acc: 0.5634\n",
      "Epoch 7/20\n"
     ]
    },
    {
     "data": {
      "image/png": "[encoded data removed]",
      "text/plain": [
       "<Figure size 432x288 with 2 Axes>"
      ]
     },
     "metadata": {
      "needs_background": "light"
     },
     "output_type": "display_data"
    },
    {
     "name": "stdout",
     "output_type": "stream",
     "text": [
      "4/4 - 0s - loss: 0.6856 - acc: 0.6132 - val_loss: 0.6900 - val_acc: 0.5453\n",
      "Epoch 8/20\n"
     ]
    },
    {
     "data": {
      "image/png": "[encoded data removed]",
      "text/plain": [
       "<Figure size 432x288 with 2 Axes>"
      ]
     },
     "metadata": {
      "needs_background": "light"
     },
     "output_type": "display_data"
    },
    {
     "name": "stdout",
     "output_type": "stream",
     "text": [
      "4/4 - 0s - loss: 0.6845 - acc: 0.6273 - val_loss: 0.6898 - val_acc: 0.5533\n",
      "Epoch 9/20\n"
     ]
    },
    {
     "data": {
      "image/png": "[encoded data removed]",
      "text/plain": [
       "<Figure size 432x288 with 2 Axes>"
      ]
     },
     "metadata": {
      "needs_background": "light"
     },
     "output_type": "display_data"
    },
    {
     "name": "stdout",
     "output_type": "stream",
     "text": [
      "4/4 - 0s - loss: 0.6835 - acc: 0.6493 - val_loss: 0.6897 - val_acc: 0.5513\n",
      "Epoch 10/20\n"
     ]
    },
    {
     "data": {
      "image/png": "[encoded data removed]",
      "text/plain": [
       "<Figure size 432x288 with 2 Axes>"
      ]
     },
     "metadata": {
      "needs_background": "light"
     },
     "output_type": "display_data"
    },
    {
     "name": "stdout",
     "output_type": "stream",
     "text": [
      "4/4 - 0s - loss: 0.6825 - acc: 0.6453 - val_loss: 0.6895 - val_acc: 0.5473\n",
      "Epoch 11/20\n"
     ]
    },
    {
     "data": {
      "image/png": "[encoded data removed]",
      "text/plain": [
       "<Figure size 432x288 with 2 Axes>"
      ]
     },
     "metadata": {
      "needs_background": "light"
     },
     "output_type": "display_data"
    },
    {
     "name": "stdout",
     "output_type": "stream",
     "text": [
      "4/4 - 0s - loss: 0.6814 - acc: 0.6533 - val_loss: 0.6893 - val_acc: 0.5513\n",
      "Epoch 12/20\n"
     ]
    },
    {
     "data": {
      "image/png": "[encoded data removed]",
      "text/plain": [
       "<Figure size 432x288 with 2 Axes>"
      ]
     },
     "metadata": {
      "needs_background": "light"
     },
     "output_type": "display_data"
    },
    {
     "name": "stdout",
     "output_type": "stream",
     "text": [
      "4/4 - 0s - loss: 0.6804 - acc: 0.6593 - val_loss: 0.6892 - val_acc: 0.5473\n",
      "Epoch 13/20\n"
     ]
    },
    {
     "data": {
      "image/png": "[encoded data removed]",
      "text/plain": [
       "<Figure size 432x288 with 2 Axes>"
      ]
     },
     "metadata": {
      "needs_background": "light"
     },
     "output_type": "display_data"
    },
    {
     "name": "stdout",
     "output_type": "stream",
     "text": [
      "4/4 - 0s - loss: 0.6794 - acc: 0.6693 - val_loss: 0.6890 - val_acc: 0.5453\n",
      "Epoch 14/20\n"
     ]
    },
    {
     "data": {
      "image/png": "[encoded data removed]",
      "text/plain": [
       "<Figure size 432x288 with 2 Axes>"
      ]
     },
     "metadata": {
      "needs_background": "light"
     },
     "output_type": "display_data"
    },
    {
     "name": "stdout",
     "output_type": "stream",
     "text": [
      "4/4 - 0s - loss: 0.6785 - acc: 0.6733 - val_loss: 0.6889 - val_acc: 0.5412\n",
      "Epoch 15/20\n"
     ]
    },
    {
     "data": {
      "image/png": "[encoded data removed]",
      "text/plain": [
       "<Figure size 432x288 with 2 Axes>"
      ]
     },
     "metadata": {
      "needs_background": "light"
     },
     "output_type": "display_data"
    },
    {
     "name": "stdout",
     "output_type": "stream",
     "text": [
      "4/4 - 0s - loss: 0.6775 - acc: 0.6733 - val_loss: 0.6887 - val_acc: 0.5412\n",
      "Epoch 16/20\n"
     ]
    },
    {
     "data": {
      "image/png": "[encoded data removed]",
      "text/plain": [
       "<Figure size 432x288 with 2 Axes>"
      ]
     },
     "metadata": {
      "needs_background": "light"
     },
     "output_type": "display_data"
    },
    {
     "name": "stdout",
     "output_type": "stream",
     "text": [
      "4/4 - 0s - loss: 0.6765 - acc: 0.6794 - val_loss: 0.6886 - val_acc: 0.5453\n",
      "Epoch 17/20\n"
     ]
    },
    {
     "data": {
      "image/png": "[encoded data removed]",
      "text/plain": [
       "<Figure size 432x288 with 2 Axes>"
      ]
     },
     "metadata": {
      "needs_background": "light"
     },
     "output_type": "display_data"
    },
    {
     "name": "stdout",
     "output_type": "stream",
     "text": [
      "4/4 - 0s - loss: 0.6755 - acc: 0.6814 - val_loss: 0.6884 - val_acc: 0.5453\n",
      "Epoch 18/20\n"
     ]
    },
    {
     "data": {
      "image/png": "[encoded data removed]",
      "text/plain": [
       "<Figure size 432x288 with 2 Axes>"
      ]
     },
     "metadata": {
      "needs_background": "light"
     },
     "output_type": "display_data"
    },
    {
     "name": "stdout",
     "output_type": "stream",
     "text": [
      "4/4 - 0s - loss: 0.6745 - acc: 0.6814 - val_loss: 0.6883 - val_acc: 0.5493\n",
      "Epoch 19/20\n"
     ]
    },
    {
     "data": {
      "image/png": "[encoded data removed]",
      "text/plain": [
       "<Figure size 432x288 with 2 Axes>"
      ]
     },
     "metadata": {
      "needs_background": "light"
     },
     "output_type": "display_data"
    },
    {
     "name": "stdout",
     "output_type": "stream",
     "text": [
      "4/4 - 0s - loss: 0.6735 - acc: 0.6934 - val_loss: 0.6881 - val_acc: 0.5473\n",
      "Epoch 20/20\n"
     ]
    },
    {
     "data": {
      "image/png": "[encoded data removed]",
      "text/plain": [
       "<Figure size 432x288 with 2 Axes>"
      ]
     },
     "metadata": {
      "needs_background": "light"
     },
     "output_type": "display_data"
    },
    {
     "name": "stdout",
     "output_type": "stream",
     "text": [
      "4/4 - 0s - loss: 0.6725 - acc: 0.6974 - val_loss: 0.6880 - val_acc: 0.5433\n",
      "16/16 [==============================] - 0s 657us/step - loss: 0.6880 - acc: 0.5433\n"
     ]
    }
   ],
   "source": [
    "\n",
    "\n",
    "# Sequential model has layers added to it to develop it\n",
    "model = Sequential()\n",
    "\n",
    "# Embedding layer will give each input from the training set a vector of size\n",
    "# 100.This is a process that allows us to take a 'discrete' vocabulary, and \n",
    "# try to map this data to higher dimensions. \n",
    "embedding_layer = Embedding(vocab_size, 100, input_length=maxlen , trainable=False)\n",
    "# Why does the above layer have trainable as false? Wouldn't this prevent it\n",
    "# from updating weights on the embedded vectors? True gives lower test score,\n",
    "# higher test accuracy\n",
    "model.add(embedding_layer)\n",
    "# In order to attach a dense layer, it is required to first flatten the prior\n",
    "# layer's output. Example: 4 vectors of 8 dimensions, would become a single\n",
    "# 32 dimension vector.\n",
    "model.add(Flatten())\n",
    "# Creating dense layer, single dimension output, activation with sigmoid. \n",
    "model.add(Dense(1, activation='sigmoid'))\n",
    "\n",
    "# Compiled for training\n",
    "model.compile(optimizer='adam', loss='binary_crossentropy', metrics=['acc'])\n",
    "print(model.summary())\n",
    "\n",
    "# Setting up Callback function for epoch updates of conf matrix\n",
    "confusion_matrix_updates = ConfMatrixCallbackPlotter(\n",
    "                                model=model,\n",
    "                                validation_data=(X_test, y_test))\n",
    "\n",
    "# Trains with training dataset, 128 samples per batch, 20 epochs.\n",
    "history = model.fit(X_train, y_train, batch_size=128, epochs=20, verbose=2 , validation_data=(X_test, y_test), callbacks=[confusion_matrix_updates])\n",
    "score = model.evaluate(X_test, y_test, verbose=1)\n",
    "# print(\"Test Score:\", score[0])\n",
    "# print(\"Test Accuracy:\", score[1])\n",
    "\n",
    "\n"
   ]
  },
  {
   "cell_type": "code",
   "execution_count": 13,
   "metadata": {
    "colab": {
     "base_uri": "https://localhost:8080/"
    },
    "executionInfo": {
     "elapsed": 493,
     "status": "ok",
     "timestamp": 1611381122060,
     "user": {
      "displayName": "Junhyeok Jeong",
      "photoUrl": "",
      "userId": "02192780254880206882"
     },
     "user_tz": 480
    },
    "id": "rnLJfN9Op3mm",
    "outputId": "e7d6f2ff-53bb-41b6-b9a2-643a80ed5f22"
   },
   "outputs": [],
   "source": [
    "\n",
    "\n",
    "testingPredictions = (model.predict(X_test) > 0.5).astype(\"int32\")\n",
    "# print(testingPredictions)\n",
    "yhat_probabilities = model.predict(X_test > 0.5, batch_size=128)\n",
    "# print(yhat_probabilities)\n",
    "target_names = ['negative', 'positive']\n",
    "# print(classification_report(testingLabels, testingPredictions, target_names=target_names))"
   ]
  },
  {
   "cell_type": "code",
   "execution_count": 14,
   "metadata": {
    "colab": {
     "base_uri": "https://localhost:8080/",
     "height": 573
    },
    "executionInfo": {
     "elapsed": 1112,
     "status": "ok",
     "timestamp": 1611381145018,
     "user": {
      "displayName": "Junhyeok Jeong",
      "photoUrl": "",
      "userId": "02192780254880206882"
     },
     "user_tz": 480
    },
    "id": "SMmpXCgBcrmc",
    "outputId": "69607c93-d3f5-4321-e16c-9ec7def07824"
   },
   "outputs": [
    {
     "data": {
      "image/png": "[encoded data removed]",
      "text/plain": [
       "<Figure size 432x288 with 1 Axes>"
      ]
     },
     "metadata": {
      "needs_background": "light"
     },
     "output_type": "display_data"
    },
    {
     "data": {
      "image/png": "[encoded data removed]",
      "text/plain": [
       "<Figure size 432x288 with 1 Axes>"
      ]
     },
     "metadata": {
      "needs_background": "light"
     },
     "output_type": "display_data"
    }
   ],
   "source": [
    "\n",
    "\n",
    "plt.plot(history.history['acc'])\n",
    "plt.plot(history.history['val_acc'])\n",
    "\n",
    "plt.title('model accuracy')\n",
    "plt.ylabel('accuracy')\n",
    "plt.xlabel('epoch')\n",
    "plt.legend(['train','test'], loc='upper left')\n",
    "plt.show()\n",
    "\n",
    "plt.plot(history.history['loss'])\n",
    "plt.plot(history.history['val_loss'])\n",
    "\n",
    "plt.title('model loss')\n",
    "plt.ylabel('loss')\n",
    "plt.xlabel('epoch')\n",
    "plt.legend(['train','test'], loc='upper left')\n",
    "plt.show()"
   ]
  },
  {
   "cell_type": "code",
   "execution_count": 15,
   "metadata": {
    "colab": {
     "base_uri": "https://localhost:8080/",
     "height": 295
    },
    "executionInfo": {
     "elapsed": 691,
     "status": "ok",
     "timestamp": 1611381148138,
     "user": {
      "displayName": "Junhyeok Jeong",
      "photoUrl": "",
      "userId": "02192780254880206882"
     },
     "user_tz": 480
    },
    "id": "RIsrDlWoufUs",
    "outputId": "53419470-aab4-4ca8-e078-54930fee551c"
   },
   "outputs": [
    {
     "data": {
      "image/png": "[encoded data removed]",
      "text/plain": [
       "<Figure size 432x288 with 2 Axes>"
      ]
     },
     "metadata": {
      "needs_background": "light"
     },
     "output_type": "display_data"
    }
   ],
   "source": [
    "data = {'Actual':    testingLabels,\n",
    "        'Predicted': testingPredictions.reshape(len(testingLabels),)\n",
    "        }\n",
    "#print(testingLabels.reshape(len(testingLabels),1))\n",
    "df = pd.DataFrame(data, columns=['Actual','Predicted'])\n",
    "confusion_matrix = pd.crosstab(df['Actual'], df['Predicted'], rownames=['Actual'], colnames=['Predicted'])\n",
    "\n",
    "sns.heatmap(confusion_matrix, annot=True,cmap=\"YlGnBu\", fmt='d').set_title('Confusion Matrix of Testing')\n",
    "plt.show()\n",
    "# It appears that 1 is predicted much too frequently"
   ]
  },
  {
   "cell_type": "code",
   "execution_count": 16,
   "metadata": {
    "colab": {
     "base_uri": "https://localhost:8080/",
     "height": 17
    },
    "executionInfo": {
     "elapsed": 535,
     "status": "ok",
     "timestamp": 1611381312796,
     "user": {
      "displayName": "Junhyeok Jeong",
      "photoUrl": "",
      "userId": "02192780254880206882"
     },
     "user_tz": 480
    },
    "id": "SFg0E22Qw1lQ",
    "outputId": "bffc7a25-cdb9-448c-d622-960b2956c5fc"
   },
   "outputs": [],
   "source": [
    "import json\n",
    "\n",
    "output_filename = 'neural_net_prediction.json'\n",
    "\n",
    "data = []\n",
    "for i in range(len(testingPredictions)):\n",
    "  data.append({\n",
    "      'index': i,\n",
    "      'true_label': int(testingLabels[i]),\n",
    "      'predicted_label': int(testingPredictions[i]),\n",
    "      'confidence_score': yhat_probabilities.tolist()[i],\n",
    "      'text': testingSentences[i]\n",
    "  })\n",
    "\n",
    "with open(output_filename, 'w') as outfile:\n",
    "    json.dump(data, outfile, indent=4, sort_keys=False)\n",
    "# Confidence Scores consistently weak at around .53\n",
    "    \n",
    "# from google.colab import files\n",
    "# files.download('predict.json')\n",
    "\n",
    "\n",
    "\n",
    "######################### dont run below cells ################################################"
   ]
  },
  {
   "cell_type": "markdown",
   "metadata": {},
   "source": [
    "# D3 Confusion Matrix"
   ]
  },
  {
   "cell_type": "code",
   "execution_count": 17,
   "metadata": {},
   "outputs": [
    {
     "data": {
      "text/html": [
       "<script src=\"https://d3js.org/d3.v3.min.js\" charset=\"utf-8\"></script>"
      ],
      "text/plain": [
       "<IPython.core.display.HTML object>"
      ]
     },
     "execution_count": 17,
     "metadata": {},
     "output_type": "execute_result"
    }
   ],
   "source": [
    "from IPython.core.display import display, HTML\n",
    "from string import Template\n",
    "\n",
    "\n",
    "json_filepath = \"\\\"\" + output_filename + \"\\\"\"\n",
    "HTML('<script src=\"https://d3js.org/d3.v3.min.js\" charset=\"utf-8\"></script>')"
   ]
  },
  {
   "cell_type": "code",
   "execution_count": 18,
   "metadata": {},
   "outputs": [],
   "source": [
    "css_text = '''\n",
    "h1{\n",
    "    color: black;\n",
    "}\n",
    "body {\n",
    "    background-color: black;\n",
    "    font-family: Arial, sans-serif;\n",
    "    font-size: larger;\n",
    "}\n",
    ".box_highlighted { \n",
    "    background-color: #ffb; \n",
    "    border: 1px solid #b53;\n",
    "}\n",
    ".highlight{\n",
    "    background-color: yellow;\n",
    "}\n",
    ".lighthigh{\n",
    "    background-color: green;\n",
    "}\n",
    "li{\n",
    "    font-size: smaller;\n",
    "}\n",
    "td{\n",
    "    min-width: 100px;\n",
    "}\n",
    "#review{\n",
    "    border:1px solid pink; \n",
    "    padding: 5px; \n",
    "    float: left; \n",
    "    width: 750px; \n",
    "    height: 500px; \n",
    "    background-color: white;\n",
    "    color: black;\n",
    "    margin: 20px;\n",
    "    overflow: scroll;\n",
    "}\n",
    "#matrix{\n",
    "    border:1px solid pink; \n",
    "    background-color: black;\n",
    "    padding: 5px; \n",
    "    float: left;\n",
    "    width: 750px; \n",
    "    height: 500px;\n",
    "    margin: 20px;\n",
    "    overflow: scroll;\n",
    "}\n",
    "'''"
   ]
  },
  {
   "cell_type": "code",
   "execution_count": 19,
   "metadata": {},
   "outputs": [],
   "source": [
    "js_template = Template('''\n",
    "\n",
    "console.log(\"Loading JavaScript...\")\n",
    "var conf_data = $confusion_data\n",
    "\n",
    "console.log(\"Loaded Data:\")\n",
    "d3.json( $conf_data_filepath, function(d) {\n",
    "    console.log(d)\n",
    "})\n",
    "\n",
    "/* I've temporarily left out the 'getType' function, since the names of these\n",
    "types are not included in the JSON file that is given to the JavaScript. More functionality can be incldued later to bring the names in as well as the raw data. Type will be represented by the given numeric identifier for now. */\n",
    "\n",
    "/* extractTypes: identifies different types each data point can be identified\n",
    "as, based off of the 'true_label' attribute in JSON file\n",
    "given: JSON file\n",
    "returns: dictionary of possible values for 'true_label' */\n",
    "function extractTypes(data){\n",
    "    var lookup = {};\n",
    "    var items = data\n",
    "    var result = [];\n",
    "\n",
    "    for (var item, i=0; item = items[i++];){\n",
    "        var name = item.true_label;\n",
    "\n",
    "        if(!(name in lookup)){\n",
    "            lookup[name] = 1;\n",
    "            result.push(name);\n",
    "        }\n",
    "    }\n",
    "\n",
    "    return lookup;\n",
    "}\n",
    "\n",
    "d3.json(\"neural_net_prediction.json\", function(d) {\n",
    "    console.log(d); // Ensuring that data is properly read in.\n",
    "    console.log(Object.keys(extractTypes(d))); // Logging list of possible types\n",
    "\n",
    "    // # of Categories x # of Categories Table\n",
    "    tableDimension = Object.keys(extractTypes(d)).length\n",
    "    var table = new Array(tableDimension);\n",
    "    var dataset = [];\n",
    "    for(var i=0; i<tableDimension; i++){\n",
    "        table[i] = new Array(tableDimension);\n",
    "        for(var j=0; j<tableDimension; j++){\n",
    "            table[i][j] = 0;\n",
    "        }\n",
    "    }\n",
    "\n",
    "    // Filling out table with prediction counts and recording dataset\n",
    "    /* Code is currently dependent on JSON having the data points: \n",
    "    \"true_label\" and \"predicted_label\" */\n",
    "    for(var i=0; i<d.length; i+=1){ // i+=1 or i++ ?\n",
    "        table[parseInt(d[i][\"true_label\"])][parseInt(d[i][\"predicted_label\"])]+=1;\n",
    "        dataset.push([d[i][\"true_label\"], d[i][\"predicted_label\"], d[i][\"text\"], d[i][\"index\"]]);\n",
    "    }\n",
    "\n",
    "    console.log(table); // Reporting current state of table values.\n",
    "\n",
    "    var w = 750;\n",
    "    var h = 750; // These are dimensions?\n",
    "\n",
    "    // Create SVG element\n",
    "    var svg = d3.select(\"body\") // This could be problematic later\n",
    "                .select(\"#matrix\")\n",
    "                .append(\"svg\")\n",
    "                .attr(\"width\", w)\n",
    "                .attr(\"height\", h);\n",
    "\n",
    "    var rect = svg.selectAll(\"rect\")\n",
    "                  .data(dataset)\n",
    "                  .enter()\n",
    "                  .append(\"rect\");\n",
    "\n",
    "    // Give these a more descriptive name later\n",
    "    var counters = new Array(tableDimension * tableDimension).fill(0);\n",
    "    var ycounters = new Array(tableDimension * tableDimension).fill(0);\n",
    "\n",
    "    var confusing = h / tableDimension;\n",
    "\n",
    "    // JSON Object Format Guide: \n",
    "    // d[0] = true_label ; d[1] = predicted_label ; d[2] = text\n",
    "    rect.attr(\"x\", function (d, i){\n",
    "        var matrixnum = (parseInt(d[1]) * tableDimension) + parseInt(d[0]);\n",
    "        var inmatrixcol = counters[matrixnum] % 12;\n",
    "\n",
    "        counters[matrixnum]++;\n",
    "\n",
    "        return 10 + (d[0] * confusing) + (inmatrixcol * 16);\n",
    "\n",
    "        })\n",
    "        .attr(\"y\", function(d, i){\n",
    "            var matricvol = d[1];\n",
    "            var matrixnum = (parseInt(d[1] * tableDimension) + parseInt(d[0]));\n",
    "            var hm = Math.floor(ycounters[matrixnum]/12);\n",
    "\n",
    "            ycounters[matrixnum]++;\n",
    "\n",
    "            return 10 + (d[1] * confusing) + (hm * 16);\n",
    "        })\n",
    "        .attr(\"id\", function(d){\n",
    "            return \"rect\" + d[3];\n",
    "        })\n",
    "        .attr(\"width\", function(d){\n",
    "            return 15;\n",
    "        })\n",
    "        .attr(\"height\", function(d){\n",
    "            return 15;\n",
    "        })\n",
    "        .attr(\"opacity\", function(d){\n",
    "            return .85;\n",
    "        })\n",
    "        .attr(\"fill\", function(d){\n",
    "            return (\"pink\");\n",
    "        })\n",
    "        .attr(\"class\", function(d){\n",
    "            predicted_label = \"predicted_label_\" + d[1];\n",
    "            true_label = \"true_label_\" + d[0];\n",
    "\n",
    "            return true_label + \" \" + predicted_label;\n",
    "    });\n",
    "\n",
    "    d3.select(\"#review\")\n",
    "        .select(\"testList\")\n",
    "        .selectAll(\"rect\")\n",
    "        .data(\n",
    "            dataset.filter(d => d[0] != d[1]),\n",
    "            function(d){\n",
    "                return d[3];\n",
    "            }\n",
    "        )\n",
    "        .enter()\n",
    "        .append(\"li\")\n",
    "        .attr(\"id\", function(d){\n",
    "            return \"text\" + d[3];\n",
    "        })\n",
    "        .html(function(d){\n",
    "            table = \"<table><tr>\"\n",
    "\n",
    "            table += \"<td> True: \";\n",
    "            table += parseInt(d[0]); //getType(d[0]);\n",
    "            table += \"</td>\"\n",
    "\n",
    "            table += \"<td> Predict: \";\n",
    "            table += parseInt(d[1]); //getType(d[1]);\n",
    "            table += \"</td>\"\n",
    "\n",
    "            table += \"<td>\" + d[2].substr(0,200); + \"</td>\"\n",
    "            table += \"</tr> </table>\"\n",
    "\n",
    "            return  table;\n",
    "    });\n",
    "\n",
    "    rect.on(\"click\", function(d_on){\n",
    "        d3.select(\"#review\")\n",
    "            .select(\"#testList\")\n",
    "            .html(\"\");\n",
    "\n",
    "        if(!this.classList.contains(\"past\")){\n",
    "            d3.selectAll(\".past\")\n",
    "                .attr(\"fill\", \"pink\")\n",
    "                .classed(\"past\", false);\n",
    "\n",
    "            d3.selectAll(\".reclick\")\n",
    "                .attr(\"fill\", \"pink\")\n",
    "                .classed(\"reclick\", false)\n",
    "        }\n",
    "\n",
    "        if(!this.classList.contains(\"reclick\")){\n",
    "            d3.selectAll(\".reclick\")\n",
    "                .attr(\"fill\", \"pink\")\n",
    "                .classed(\"reclick\", false);\n",
    "        }\n",
    "\n",
    "        d3.select(this);\n",
    "\n",
    "        textId = \"\";\n",
    "        x = \".\" + this.classList[0];\n",
    "        y = \".\" + this.classList[1];\n",
    "        test = x + y;\n",
    "\n",
    "        x1 = x.charAt(x.length - 1);\n",
    "        y1 = y.charAt(y.length - 1);\n",
    "\n",
    "        if(this.classList.contains(\"past\")){\n",
    "            d3.select(this)\n",
    "                .classed(\"reclick\", true)\n",
    "            Id = this.id;\n",
    "            textId = \"#text\" + Id.substring(4);\n",
    "        }\n",
    "\n",
    "        d3.selectAll(test)\n",
    "            .attr(\"fill\", \"purple\")\n",
    "            .classed(\"past\", \"true\");\n",
    "\n",
    "        d3.select(\"#review\")\n",
    "            .select(\"#testList\")\n",
    "            .selectAll(\"rect\")\n",
    "            .data(\n",
    "                dataset\n",
    "                    .filter(d => d[0] == x1)\n",
    "                    .filter(d => d[1] == y1),\n",
    "                    function(d){\n",
    "                        return d[3];\n",
    "                    }\n",
    "            )\n",
    "            .enter()\n",
    "            .append(\"li\")\n",
    "            .attr(\"id\", function(d){\n",
    "                return \"text\" + d[3];\n",
    "            })\n",
    "            .html(function(d){\n",
    "                table = \"<table><tr>\"\n",
    "\n",
    "                table += \"<td> True: \";\n",
    "                table += parseInt(d[0]); //getType(d[0]);\n",
    "                table += \"</td>\"\n",
    "\n",
    "                table += \"<td> Predict: \";\n",
    "                table += parseInt(d[1]); //getType(d[1]);\n",
    "                table += \"</td>\"\n",
    "\n",
    "                table += \"<td>\" + d[2].substr(0,200); + \"</td>\"\n",
    "                table += \"</tr> </table>\"\n",
    "\n",
    "                return table;\n",
    "        });\n",
    "\n",
    "        d3.select(\"#review\")\n",
    "            .select(\"testList\")\n",
    "            .selectAll(\"li\")\n",
    "            .on(\"mouseover\", function(d_on){\n",
    "                d3.select(this)\n",
    "                    .classed(\"lighthigh\", true)\n",
    "                    id = this.id;\n",
    "                    rectId = \"#rect\" + id.substring(4);\n",
    "                    d3.selectAll(rectId)\n",
    "                        .attr(\"fill\", \"green\");\n",
    "            })\n",
    "            .on(\"mouseout\", function(d_on){\n",
    "                d3.select(this)\n",
    "                    .classed(\"lighthigh\", false)\n",
    "                    id = this.id;\n",
    "                    rectId = \"#rect\" + id.substring(4);\n",
    "                    d3.selectAll(rectId)\n",
    "                        .attr(\"fill\", \"purple\");\n",
    "        });\n",
    "    });\n",
    "\n",
    "    d3.select(\"#review\")\n",
    "        .select(\"#testList\")\n",
    "        .selectAll(\"li\")\n",
    "        .on(\"mouseover\", function(d_on){\n",
    "            d3.select(this)\n",
    "                .classed(\"lighthigh\", true)\n",
    "                id = this.id;\n",
    "                rectId = \"#rect\" + id.substring(4);\n",
    "                d3.selectAll(rectId)\n",
    "                    .attr(\"fill\", \"green\");\n",
    "        })\n",
    "        .on(\"mouseout\", function(d_on){\n",
    "            d3.select(this)\n",
    "                .classed(\"lighthigh\", false)\n",
    "                id = this.id;\n",
    "                rectId = \"#rect\" + id.substring(4);\n",
    "                d3.selectAll(rectId)\n",
    "                    .attr(\"fill\", \"pink\");\n",
    "    });\n",
    "    });\n",
    "\n",
    "''')"
   ]
  },
  {
   "cell_type": "code",
   "execution_count": 20,
   "metadata": {},
   "outputs": [],
   "source": [
    "html_template = Template('''\n",
    "<style> $css_text </style>\n",
    "<h1> Interactive Confusion Matrix </h1>\n",
    "<div id=\"matrix\"> </div>\n",
    "<div id=\"review\">\n",
    "    Data \n",
    "    <ul id = \"testList\"></ul>\n",
    "</div>\n",
    "<script> $js_text </script>\n",
    "''')"
   ]
  },
  {
   "cell_type": "code",
   "execution_count": 21,
   "metadata": {},
   "outputs": [
    {
     "data": {
      "text/html": [
       "\n",
       "<style> \n",
       "h1{\n",
       "    color: black;\n",
       "}\n",
       "body {\n",
       "    background-color: black;\n",
       "    font-family: Arial, sans-serif;\n",
       "    font-size: larger;\n",
       "}\n",
       ".box_highlighted { \n",
       "    background-color: #ffb; \n",
       "    border: 1px solid #b53;\n",
       "}\n",
       ".highlight{\n",
       "    background-color: yellow;\n",
       "}\n",
       ".lighthigh{\n",
       "    background-color: green;\n",
       "}\n",
       "li{\n",
       "    font-size: smaller;\n",
       "}\n",
       "td{\n",
       "    min-width: 100px;\n",
       "}\n",
       "#review{\n",
       "    border:1px solid pink; \n",
       "    padding: 5px; \n",
       "    float: left; \n",
       "    width: 750px; \n",
       "    height: 500px; \n",
       "    background-color: white;\n",
       "    color: black;\n",
       "    margin: 20px;\n",
       "    overflow: scroll;\n",
       "}\n",
       "#matrix{\n",
       "    border:1px solid pink; \n",
       "    background-color: black;\n",
       "    padding: 5px; \n",
       "    float: left;\n",
       "    width: 750px; \n",
       "    height: 500px;\n",
       "    margin: 20px;\n",
       "    overflow: scroll;\n",
       "}\n",
       " </style>\n",
       "<h1> Interactive Confusion Matrix </h1>\n",
       "<div id=\"matrix\"> </div>\n",
       "<div id=\"review\">\n",
       "    Data \n",
       "    <ul id = \"testList\"></ul>\n",
       "</div>\n",
       "<script> \n",
       "\n",
       "console.log(\"Loading JavaScript...\")\n",
       "var conf_data = [{'index': 0, 'true_label': 0, 'predicted_label': 1, 'confidence_score': [0.5379310250282288], 'text': 'Crust is not good.'}, {'index': 1, 'true_label': 0, 'predicted_label': 1, 'confidence_score': [0.5379310250282288], 'text': 'Would not go back.'}, {'index': 2, 'true_label': 0, 'predicted_label': 0, 'confidence_score': [0.5512046813964844], 'text': 'I was shocked because no signs indicate cash only.'}, {'index': 3, 'true_label': 1, 'predicted_label': 1, 'confidence_score': [0.5390580296516418], 'text': 'The food, amazing.'}, {'index': 4, 'true_label': 1, 'predicted_label': 1, 'confidence_score': [0.5379310250282288], 'text': 'Service is also cute.'}, {'index': 5, 'true_label': 1, 'predicted_label': 1, 'confidence_score': [0.5521579384803772], 'text': 'I could care less... The interior is just beautiful.'}, {'index': 6, 'true_label': 1, 'predicted_label': 1, 'confidence_score': [0.5333750247955322], 'text': 'So they performed.'}, {'index': 7, 'true_label': 1, 'predicted_label': 1, 'confidence_score': [0.5666728615760803], 'text': 'This hole in the wall has great Mexican street tacos, and friendly staff.'}, {'index': 8, 'true_label': 0, 'predicted_label': 1, 'confidence_score': [0.5521579384803772], 'text': 'The worst was the salmon sashimi.'}, {'index': 9, 'true_label': 1, 'predicted_label': 1, 'confidence_score': [0.5666728615760803], 'text': 'Also there are combos like a burger, fries, and beer for 23 which is a decent deal.'}, {'index': 10, 'true_label': 0, 'predicted_label': 1, 'confidence_score': [0.5379310250282288], 'text': 'This was like the final blow!'}, {'index': 11, 'true_label': 1, 'predicted_label': 1, 'confidence_score': [0.5704175233840942], 'text': 'I found this place by accident and I could not be happier.'}, {'index': 12, 'true_label': 0, 'predicted_label': 0, 'confidence_score': [0.5666728615760803], 'text': 'seems like a good quick place to grab a bite of some familiar pub food, but do yourself a favor and look elsewhere.'}, {'index': 13, 'true_label': 1, 'predicted_label': 1, 'confidence_score': [0.5379310250282288], 'text': 'Ample portions and good prices.'}, {'index': 14, 'true_label': 0, 'predicted_label': 1, 'confidence_score': [0.5208932161331177], 'text': 'Service sucks.'}, {'index': 15, 'true_label': 0, 'predicted_label': 1, 'confidence_score': [0.5704175233840942], 'text': 'Frozen pucks of disgust, with some of the worst people behind the register.'}, {'index': 16, 'true_label': 0, 'predicted_label': 0, 'confidence_score': [0.5638204216957092], 'text': \"It's too bad the food is so damn generic.\"}, {'index': 17, 'true_label': 1, 'predicted_label': 1, 'confidence_score': [0.5638204216957092], 'text': 'If you want a sandwich just go to any Firehouse!!!!!'}, {'index': 18, 'true_label': 1, 'predicted_label': 0, 'confidence_score': [0.5666728615760803], 'text': 'My side Greek salad with the Greek dressing was so tasty, and the pita and hummus was very refreshing.'}, {'index': 19, 'true_label': 1, 'predicted_label': 1, 'confidence_score': [0.5379310250282288], 'text': 'Their chow mein is so good!'}, {'index': 20, 'true_label': 1, 'predicted_label': 1, 'confidence_score': [0.5390580296516418], 'text': 'The portion was huge!'}, {'index': 21, 'true_label': 1, 'predicted_label': 1, 'confidence_score': [0.5704175233840942], 'text': 'Loved it...friendly servers, great food, wonderful and imaginative menu.'}, {'index': 22, 'true_label': 0, 'predicted_label': 0, 'confidence_score': [0.5666728615760803], 'text': 'The Heart Attack Grill in downtown Vegas is an absolutely flat-lined excuse for a restaurant.'}, {'index': 23, 'true_label': 1, 'predicted_label': 1, 'confidence_score': [0.5666728615760803], 'text': 'The salad had just the right amount of sauce to not over power the scallop, which was perfectly cooked.'}, {'index': 24, 'true_label': 0, 'predicted_label': 1, 'confidence_score': [0.5573149919509888], 'text': 'The ripped banana was not only ripped, but petrified and tasteless.'}, {'index': 25, 'true_label': 1, 'predicted_label': 1, 'confidence_score': [0.5704175233840942], 'text': 'Great food and service, huge portions and they give a military discount.'}, {'index': 26, 'true_label': 1, 'predicted_label': 1, 'confidence_score': [0.5666728615760803], 'text': 'Update.....went back for a second time and it was still just as amazing'}, {'index': 27, 'true_label': 0, 'predicted_label': 1, 'confidence_score': [0.5666728615760803], 'text': 'We got the food and apparently they have never heard of salt and the batter on the fish was chewy.'}, {'index': 28, 'true_label': 1, 'predicted_label': 0, 'confidence_score': [0.5666728615760803], 'text': 'The deal included 5 tastings and 2 drinks, and Jeff went above and beyond what we expected.'}, {'index': 29, 'true_label': 1, 'predicted_label': 1, 'confidence_score': [0.5573149919509888], 'text': '- Really, really good rice, all the time.'}, {'index': 30, 'true_label': 0, 'predicted_label': 1, 'confidence_score': [0.5379310250282288], 'text': 'The service was meh.'}, {'index': 31, 'true_label': 0, 'predicted_label': 1, 'confidence_score': [0.5666728615760803], 'text': 'It took over 30 min to get their milkshake, which was nothing more than chocolate milk.'}, {'index': 32, 'true_label': 0, 'predicted_label': 0, 'confidence_score': [0.5666728615760803], 'text': \"I guess I should have known that this place would suck, because it is inside of the Excalibur, but I didn't use my common sense.\"}, {'index': 33, 'true_label': 0, 'predicted_label': 1, 'confidence_score': [0.5512046813964844], 'text': '2 times - Very Bad Customer Service !'}, {'index': 34, 'true_label': 1, 'predicted_label': 1, 'confidence_score': [0.5666728615760803], 'text': 'The sweet potato fries were very good and seasoned well.'}, {'index': 35, 'true_label': 1, 'predicted_label': 0, 'confidence_score': [0.5666728615760803], 'text': \"Today is the second time I've been to their lunch buffet and it was pretty good.\"}, {'index': 36, 'true_label': 0, 'predicted_label': 0, 'confidence_score': [0.5666728615760803], 'text': 'walked in and the place smelled like an old grease trap and only 2 others there eating.'}, {'index': 37, 'true_label': 0, 'predicted_label': 0, 'confidence_score': [0.5666728615760803], 'text': 'The pan cakes everyone are raving about taste like a sugary disaster tailored to the palate of a six year old.'}, {'index': 38, 'true_label': 0, 'predicted_label': 1, 'confidence_score': [0.5638204216957092], 'text': 'The poor batter to meat ratio made the chicken tenders very unsatisfying.'}, {'index': 39, 'true_label': 1, 'predicted_label': 1, 'confidence_score': [0.5704175233840942], 'text': 'All I have to say is the food was amazing!!!'}, {'index': 40, 'true_label': 1, 'predicted_label': 1, 'confidence_score': [0.5512046813964844], 'text': 'Everything was fresh and delicious!'}, {'index': 41, 'true_label': 0, 'predicted_label': 1, 'confidence_score': [0.5666728615760803], 'text': 'Never been to Hard Rock Casino before, WILL NEVER EVER STEP FORWARD IN IT AGAIN!'}, {'index': 42, 'true_label': 0, 'predicted_label': 1, 'confidence_score': [0.5512046813964844], 'text': 'say bye bye to your tip lady!'}, {'index': 43, 'true_label': 0, 'predicted_label': 1, 'confidence_score': [0.5512046813964844], 'text': \"We'll never go again.\"}, {'index': 44, 'true_label': 1, 'predicted_label': 1, 'confidence_score': [0.5333750247955322], 'text': 'Food arrived quickly!'}, {'index': 45, 'true_label': 0, 'predicted_label': 1, 'confidence_score': [0.5379310250282288], 'text': 'It was not good.'}, {'index': 46, 'true_label': 1, 'predicted_label': 1, 'confidence_score': [0.5704175233840942], 'text': 'On the up side, their cafe serves really good food.'}, {'index': 47, 'true_label': 1, 'predicted_label': 1, 'confidence_score': [0.5666728615760803], 'text': 'I LOVED their mussels cooked in this wine reduction, the duck was tender, and their potato dishes were delicious.'}, {'index': 48, 'true_label': 1, 'predicted_label': 1, 'confidence_score': [0.5666728615760803], 'text': 'This is one of the better buffets that I have been to.'}, {'index': 49, 'true_label': 1, 'predicted_label': 1, 'confidence_score': [0.5208932161331177], 'text': 'Sooooo good!!'}, {'index': 50, 'true_label': 1, 'predicted_label': 0, 'confidence_score': [0.5390580296516418], 'text': 'Check it out.'}, {'index': 51, 'true_label': 0, 'predicted_label': 1, 'confidence_score': [0.5379310250282288], 'text': 'It was pretty gross!'}, {'index': 52, 'true_label': 0, 'predicted_label': 0, 'confidence_score': [0.5512046813964844], 'text': \"I've had better atmosphere.\"}, {'index': 53, 'true_label': 0, 'predicted_label': 1, 'confidence_score': [0.5704175233840942], 'text': 'Kind of hard to mess up a steak but they did.'}, {'index': 54, 'true_label': 0, 'predicted_label': 1, 'confidence_score': [0.5666728615760803], 'text': 'Although I very much liked the look and sound of this place, the actual experience was a bit disappointing.'}, {'index': 55, 'true_label': 0, 'predicted_label': 0, 'confidence_score': [0.5666728615760803], 'text': 'Worst service to boot, but that is the least of their worries.'}, {'index': 56, 'true_label': 1, 'predicted_label': 1, 'confidence_score': [0.5638204216957092], 'text': 'Service was fine and the waitress was friendly.'}, {'index': 57, 'true_label': 1, 'predicted_label': 0, 'confidence_score': [0.5666728615760803], 'text': \"The guys all had steaks, and our steak loving son who has had steak at the best and worst places said it was the best steak he's ever eaten.\"}, {'index': 58, 'true_label': 1, 'predicted_label': 1, 'confidence_score': [0.5666728615760803], 'text': \"We thought you'd have to venture further away to get good sushi, but this place really hit the spot that night.\"}, {'index': 59, 'true_label': 1, 'predicted_label': 1, 'confidence_score': [0.5379310250282288], 'text': 'Phenomenal food, service and ambiance.'}, {'index': 60, 'true_label': 0, 'predicted_label': 1, 'confidence_score': [0.5390580296516418], 'text': \"I wouldn't return.\"}, {'index': 61, 'true_label': 1, 'predicted_label': 1, 'confidence_score': [0.5666728615760803], 'text': \"Definitely worth venturing off the strip for the pork belly, will return next time I'm in Vegas.\"}, {'index': 62, 'true_label': 1, 'predicted_label': 1, 'confidence_score': [0.5208932161331177], 'text': 'Penne vodka excellent!'}, {'index': 63, 'true_label': 1, 'predicted_label': 1, 'confidence_score': [0.5512046813964844], 'text': 'I had a seriously solid breakfast here.'}, {'index': 64, 'true_label': 1, 'predicted_label': 1, 'confidence_score': [0.5666728615760803], 'text': 'This is one of the best bars with food in Vegas.'}, {'index': 65, 'true_label': 1, 'predicted_label': 0, 'confidence_score': [0.5666728615760803], 'text': 'My drink was never empty and he made some really great menu suggestions.'}, {'index': 66, 'true_label': 0, 'predicted_label': 0, 'confidence_score': [0.5390580296516418], 'text': \"Don't do it!!!!\"}, {'index': 67, 'true_label': 0, 'predicted_label': 1, 'confidence_score': [0.5666728615760803], 'text': 'My husband and I ate lunch here and were very disappointed with the food and service.'}, {'index': 68, 'true_label': 1, 'predicted_label': 1, 'confidence_score': [0.5573149919509888], 'text': 'This is a great restaurant at the Mandalay Bay.'}, {'index': 69, 'true_label': 0, 'predicted_label': 1, 'confidence_score': [0.5512046813964844], 'text': 'We waited for forty five minutes in vain.'}, {'index': 70, 'true_label': 0, 'predicted_label': 1, 'confidence_score': [0.5573149919509888], 'text': 'Crostini that came with the salad was stale.'}, {'index': 71, 'true_label': 1, 'predicted_label': 1, 'confidence_score': [0.5666728615760803], 'text': \"I ordered the Voodoo pasta and it was the first time I'd had really excellent pasta since going gluten free several years ago.\"}, {'index': 72, 'true_label': 0, 'predicted_label': 0, 'confidence_score': [0.5666728615760803], 'text': 'I came back today since they relocated and still not impressed.'}, {'index': 73, 'true_label': 1, 'predicted_label': 1, 'confidence_score': [0.5379310250282288], 'text': 'Their menu is diverse, and reasonably priced.'}, {'index': 74, 'true_label': 0, 'predicted_label': 1, 'confidence_score': [0.5666728615760803], 'text': \"So don't go there if you are looking for good food...\"}, {'index': 75, 'true_label': 0, 'predicted_label': 0, 'confidence_score': [0.5573149919509888], 'text': \"I've never been treated so bad.\"}, {'index': 76, 'true_label': 1, 'predicted_label': 1, 'confidence_score': [0.5333750247955322], 'text': 'Bacon is hella salty.'}, {'index': 77, 'true_label': 1, 'predicted_label': 0, 'confidence_score': [0.5666728615760803], 'text': 'This really is how Vegas fine dining used to be, right down to the menus handed to the ladies that have no prices listed.'}, {'index': 78, 'true_label': 1, 'predicted_label': 0, 'confidence_score': [0.5666728615760803], 'text': 'Everything on the menu is terrific and we were also thrilled that they made amazing accommodations for our vegetarian daughter.'}, {'index': 79, 'true_label': 0, 'predicted_label': 1, 'confidence_score': [0.5666728615760803], 'text': \"Perhaps I caught them on an off night judging by the other reviews, but I'm not inspired to go back.\"}, {'index': 80, 'true_label': 0, 'predicted_label': 1, 'confidence_score': [0.5521579384803772], 'text': 'The service here leaves a lot to be desired.'}, {'index': 81, 'true_label': 1, 'predicted_label': 1, 'confidence_score': [0.5666728615760803], 'text': 'Not a weekly haunt, but definitely a place to come back to every once in a while.'}, {'index': 82, 'true_label': 0, 'predicted_label': 0, 'confidence_score': [0.5666728615760803], 'text': 'We literally sat there for 20 minutes with no one asking to take our order.'}, {'index': 83, 'true_label': 0, 'predicted_label': 1, 'confidence_score': [0.5666728615760803], 'text': 'The burger had absolutely no flavor - the meat itself was totally bland, the burger was overcooked and there was no charcoal flavor.'}, {'index': 84, 'true_label': 0, 'predicted_label': 1, 'confidence_score': [0.5390580296516418], 'text': 'It was probably dirt.'}, {'index': 85, 'true_label': 1, 'predicted_label': 0, 'confidence_score': [0.5666728615760803], 'text': 'Love this place, hits the spot when I want something healthy but not lacking in quantity or flavor.'}, {'index': 86, 'true_label': 1, 'predicted_label': 0, 'confidence_score': [0.5666728615760803], 'text': 'Also were served hot bread and butter, and home made potato chips with bacon bits on top....very original and very good.'}, {'index': 87, 'true_label': 1, 'predicted_label': 1, 'confidence_score': [0.5573149919509888], 'text': 'Both of the egg rolls were fantastic.'}, {'index': 88, 'true_label': 0, 'predicted_label': 1, 'confidence_score': [0.5573149919509888], 'text': 'When my order arrived, one of the gyros was missing.'}, {'index': 89, 'true_label': 0, 'predicted_label': 0, 'confidence_score': [0.5666728615760803], 'text': \"I'm not really sure how Joey's was voted best hot dog in the Valley by readers of Phoenix Magazine.\"}, {'index': 90, 'true_label': 1, 'predicted_label': 1, 'confidence_score': [0.5704175233840942], 'text': 'The best place to go for a tasty bowl of Pho!'}, {'index': 91, 'true_label': 1, 'predicted_label': 1, 'confidence_score': [0.5390580296516418], 'text': 'Very friendly staff.'}, {'index': 92, 'true_label': 1, 'predicted_label': 1, 'confidence_score': [0.5512046813964844], 'text': 'It is worth the drive.'}, {'index': 93, 'true_label': 1, 'predicted_label': 1, 'confidence_score': [0.5666728615760803], 'text': 'I had heard good things about this place, but it exceeding every hope I could have dreamed of.'}, {'index': 94, 'true_label': 1, 'predicted_label': 1, 'confidence_score': [0.5573149919509888], 'text': 'Food was great and so was the serivce!'}, {'index': 95, 'true_label': 0, 'predicted_label': 1, 'confidence_score': [0.5379310250282288], 'text': \"The warm beer didn't help.\"}, {'index': 96, 'true_label': 0, 'predicted_label': 1, 'confidence_score': [0.5666728615760803], 'text': \"I've lived here since 1979 and this was the first (and last) time I've stepped foot into this place.\"}, {'index': 97, 'true_label': 0, 'predicted_label': 0, 'confidence_score': [0.5704175233840942], 'text': 'Must have been an off night at this place.'}, {'index': 98, 'true_label': 0, 'predicted_label': 0, 'confidence_score': [0.5666728615760803], 'text': \"For about 10 minutes, we we're waiting for her salad when we realized that it wasn't coming any time soon.\"}, {'index': 99, 'true_label': 0, 'predicted_label': 1, 'confidence_score': [0.5390580296516418], 'text': \"Won't go back.\"}, {'index': 100, 'true_label': 1, 'predicted_label': 1, 'confidence_score': [0.5333750247955322], 'text': 'Extremely Tasty!'}, {'index': 101, 'true_label': 1, 'predicted_label': 1, 'confidence_score': [0.5390580296516418], 'text': 'Waitress was good though!'}, {'index': 102, 'true_label': 1, 'predicted_label': 1, 'confidence_score': [0.5390580296516418], 'text': 'The Jamaican mojitos are delicious.'}, {'index': 103, 'true_label': 1, 'predicted_label': 1, 'confidence_score': [0.5512046813964844], 'text': '- the food is rich so order accordingly.'}, {'index': 104, 'true_label': 0, 'predicted_label': 1, 'confidence_score': [0.5666728615760803], 'text': \"The shower area is outside so you can only rinse, not take a full shower, unless you don't mind being nude for everyone to see!\"}, {'index': 105, 'true_label': 0, 'predicted_label': 1, 'confidence_score': [0.5379310250282288], 'text': 'The service was a bit lacking.'}, {'index': 106, 'true_label': 0, 'predicted_label': 1, 'confidence_score': [0.5666728615760803], 'text': 'Lobster Bisque, Bussell Sprouts, Risotto, Filet ALL needed salt and pepper..and of course there is none at the tables.'}, {'index': 107, 'true_label': 0, 'predicted_label': 1, 'confidence_score': [0.5666728615760803], 'text': 'It was either too cold, not enough flavor or just bad.'}, {'index': 108, 'true_label': 1, 'predicted_label': 1, 'confidence_score': [0.5666728615760803], 'text': 'The folks at Otto always make us feel so welcome and special.'}, {'index': 109, 'true_label': 1, 'predicted_label': 0, 'confidence_score': [0.5666728615760803], 'text': 'This is the place where I first had pho and it was amazing!!'}, {'index': 110, 'true_label': 1, 'predicted_label': 0, 'confidence_score': [0.5666728615760803], 'text': 'This wonderful experience made this place a must-stop whenever we are in town again.'}, {'index': 111, 'true_label': 0, 'predicted_label': 1, 'confidence_score': [0.5666728615760803], 'text': \"If the food isn't bad enough for you, then enjoy dealing with the world's worst/annoying drunk people.\"}, {'index': 112, 'true_label': 0, 'predicted_label': 1, 'confidence_score': [0.5521579384803772], 'text': 'Ordered a double cheeseburger & got a single patty that was falling apart (picture uploaded) Yeah, still sucks.'}, {'index': 113, 'true_label': 0, 'predicted_label': 0, 'confidence_score': [0.5666728615760803], 'text': \"If it were possible to give them zero stars, they'd have it.\"}, {'index': 114, 'true_label': 0, 'predicted_label': 0, 'confidence_score': [0.5666728615760803], 'text': 'The descriptions said yum yum sauce and another said eel sauce , yet another said spicy mayo ...well NONE of the rolls had sauces on them.'}, {'index': 115, 'true_label': 0, 'predicted_label': 0, 'confidence_score': [0.5666728615760803], 'text': 'If she had not rolled the eyes we may have stayed... Not sure if we will go back and try it again.'}, {'index': 116, 'true_label': 1, 'predicted_label': 1, 'confidence_score': [0.5521579384803772], 'text': 'Everyone is very attentive, providing excellent customer service.'}, {'index': 117, 'true_label': 0, 'predicted_label': 1, 'confidence_score': [0.5573149919509888], 'text': \"Horrible - don't waste your time and money.\"}, {'index': 118, 'true_label': 1, 'predicted_label': 1, 'confidence_score': [0.5512046813964844], 'text': 'Now this dish was quite flavourful.'}, {'index': 119, 'true_label': 0, 'predicted_label': 1, 'confidence_score': [0.5704175233840942], 'text': \"(It wasn't busy either) Also, the building was FREEZING cold.\"}, {'index': 120, 'true_label': 0, 'predicted_label': 0, 'confidence_score': [0.5666728615760803], 'text': \"like the other reviewer said you couldn't pay me to eat at this place again.\"}, {'index': 121, 'true_label': 1, 'predicted_label': 1, 'confidence_score': [0.5390580296516418], 'text': 'Seriously flavorful delights, folks.'}, {'index': 122, 'true_label': 1, 'predicted_label': 1, 'confidence_score': [0.5666728615760803], 'text': 'Much better than the other AYCE sushi place I went to in Vegas.'}, {'index': 123, 'true_label': 0, 'predicted_label': 1, 'confidence_score': [0.5521579384803772], 'text': 'There is nothing privileged about working/eating there.'}, {'index': 124, 'true_label': 0, 'predicted_label': 1, 'confidence_score': [0.5666728615760803], 'text': \"Overall, I don't think that I would take my parents to this place again because they made most of the similar complaints that I silently felt too.\"}, {'index': 125, 'true_label': 1, 'predicted_label': 1, 'confidence_score': [0.5390580296516418], 'text': 'Fantastic service here.'}, {'index': 126, 'true_label': 0, 'predicted_label': 1, 'confidence_score': [0.5512046813964844], 'text': 'very tough and very short on flavor!'}, {'index': 127, 'true_label': 1, 'predicted_label': 1, 'confidence_score': [0.5379310250282288], 'text': 'I hope this place sticks around.'}, {'index': 128, 'true_label': 0, 'predicted_label': 0, 'confidence_score': [0.5666728615760803], 'text': 'I have been in more than a few bars in Vegas, and do not ever recall being charged for tap water.'}, {'index': 129, 'true_label': 1, 'predicted_label': 1, 'confidence_score': [0.5573149919509888], 'text': 'The seafood was fresh and generous in portion.'}, {'index': 130, 'true_label': 1, 'predicted_label': 1, 'confidence_score': [0.5379310250282288], 'text': \"You can't beat that.\"}, {'index': 131, 'true_label': 1, 'predicted_label': 1, 'confidence_score': [0.5666728615760803], 'text': \"The goat taco didn't skimp on the meat and wow what FLAVOR!\"}, {'index': 132, 'true_label': 1, 'predicted_label': 0, 'confidence_score': [0.5666728615760803], 'text': \"I went to Bachi Burger on a friend's recommendation and was not disappointed.\"}, {'index': 133, 'true_label': 0, 'predicted_label': 0, 'confidence_score': [0.5666728615760803], 'text': 'This place is not quality sushi, it is not a quality restaurant.'}, {'index': 134, 'true_label': 1, 'predicted_label': 1, 'confidence_score': [0.5379310250282288], 'text': 'Great Pizza and Salads!'}, {'index': 135, 'true_label': 1, 'predicted_label': 1, 'confidence_score': [0.5379310250282288], 'text': 'This place is amazing!'}, {'index': 136, 'true_label': 0, 'predicted_label': 0, 'confidence_score': [0.5666728615760803], 'text': 'I hate to disagree with my fellow Yelpers, but my husband and I were so disappointed with this place.'}, {'index': 137, 'true_label': 0, 'predicted_label': 1, 'confidence_score': [0.5666728615760803], 'text': \"I live in the neighborhood so I am disappointed I won't be back here, because it is a convenient location.\"}, {'index': 138, 'true_label': 0, 'predicted_label': 0, 'confidence_score': [0.5666728615760803], 'text': 'Before I go in to why I gave a 1 star rating please know that this was my third time eating at Bachi burger before writing a review.'}, {'index': 139, 'true_label': 1, 'predicted_label': 1, 'confidence_score': [0.5666728615760803], 'text': 'I love the fact that everything on their menu is worth it.'}, {'index': 140, 'true_label': 0, 'predicted_label': 1, 'confidence_score': [0.5638204216957092], 'text': 'Never again will I be dining at this place!'}, {'index': 141, 'true_label': 0, 'predicted_label': 1, 'confidence_score': [0.5521579384803772], 'text': 'Please stay away from the shrimp stir fried noodles.'}, {'index': 142, 'true_label': 0, 'predicted_label': 1, 'confidence_score': [0.5573149919509888], 'text': 'This greedy corporation will NEVER see another dime from me!'}, {'index': 143, 'true_label': 0, 'predicted_label': 1, 'confidence_score': [0.5512046813964844], 'text': 'Will never, ever go back.'}, {'index': 144, 'true_label': 1, 'predicted_label': 1, 'confidence_score': [0.5704175233840942], 'text': 'In the summer, you can dine in a charming outdoor patio - so very delightful.'}, {'index': 145, 'true_label': 1, 'predicted_label': 1, 'confidence_score': [0.5333750247955322], 'text': 'Fantastic food!'}, {'index': 146, 'true_label': 0, 'predicted_label': 1, 'confidence_score': [0.5521579384803772], 'text': 'She ordered a toasted English muffin that came out untoasted.'}, {'index': 147, 'true_label': 1, 'predicted_label': 1, 'confidence_score': [0.5512046813964844], 'text': 'The food was very good.'}, {'index': 148, 'true_label': 1, 'predicted_label': 1, 'confidence_score': [0.5666728615760803], 'text': 'Great food for the price, which is very high quality and house made.'}, {'index': 149, 'true_label': 1, 'predicted_label': 1, 'confidence_score': [0.5666728615760803], 'text': 'Back to good BBQ, lighter fare, reasonable pricing and tell the public they are back to the old ways.'}, {'index': 150, 'true_label': 1, 'predicted_label': 0, 'confidence_score': [0.5666728615760803], 'text': \"And considering the two of us left there very full and happy for about $20, you just can't go wrong.\"}, {'index': 151, 'true_label': 1, 'predicted_label': 1, 'confidence_score': [0.5521579384803772], 'text': 'All the bread is made in-house!'}, {'index': 152, 'true_label': 1, 'predicted_label': 1, 'confidence_score': [0.5704175233840942], 'text': 'Service was exceptional and food was a good as all the reviews.'}, {'index': 153, 'true_label': 1, 'predicted_label': 1, 'confidence_score': [0.5512046813964844], 'text': 'The black eyed peas and sweet potatoes... UNREAL!'}, {'index': 154, 'true_label': 1, 'predicted_label': 1, 'confidence_score': [0.5379310250282288], 'text': \"You won't be disappointed.\"}, {'index': 155, 'true_label': 0, 'predicted_label': 0, 'confidence_score': [0.5666728615760803], 'text': \"I go to far too many places and I've never seen any restaurant that serves a 1 egg breakfast, especially for $4.00.\"}, {'index': 156, 'true_label': 1, 'predicted_label': 1, 'confidence_score': [0.5666728615760803], 'text': 'Both of them were truly unbelievably good, and I am so glad we went back.'}, {'index': 157, 'true_label': 1, 'predicted_label': 1, 'confidence_score': [0.5666728615760803], 'text': 'We had fantastic service, and were pleased by the atmosphere.'}, {'index': 158, 'true_label': 1, 'predicted_label': 1, 'confidence_score': [0.5379310250282288], 'text': 'I love this place.'}, {'index': 159, 'true_label': 1, 'predicted_label': 1, 'confidence_score': [0.5379310250282288], 'text': 'Great service and food.'}, {'index': 160, 'true_label': 0, 'predicted_label': 1, 'confidence_score': [0.5666728615760803], 'text': 'First - the bathrooms at this location were dirty- Seat covers were not replenished & just plain yucky!!!'}, {'index': 161, 'true_label': 0, 'predicted_label': 1, 'confidence_score': [0.5666728615760803], 'text': 'The burger... I got the Gold Standard a $17 burger and was kind of disappointed.'}, {'index': 162, 'true_label': 1, 'predicted_label': 1, 'confidence_score': [0.5390580296516418], 'text': 'OMG, the food was delicioso!'}, {'index': 163, 'true_label': 0, 'predicted_label': 1, 'confidence_score': [0.5573149919509888], 'text': 'There is nothing authentic about this place.'}, {'index': 164, 'true_label': 1, 'predicted_label': 1, 'confidence_score': [0.5666728615760803], 'text': 'Of all the dishes, the salmon was the best, but all were great.'}, {'index': 165, 'true_label': 1, 'predicted_label': 1, 'confidence_score': [0.5512046813964844], 'text': 'Pretty good beer selection too.'}, {'index': 166, 'true_label': 1, 'predicted_label': 1, 'confidence_score': [0.5638204216957092], 'text': 'Classy/warm atmosphere, fun and fresh appetizers, succulent steaks (Baseball steak!!!!!'}, {'index': 167, 'true_label': 0, 'predicted_label': 1, 'confidence_score': [0.5704175233840942], 'text': 'We sat another ten minutes and finally gave up and left.'}, {'index': 168, 'true_label': 0, 'predicted_label': 1, 'confidence_score': [0.5390580296516418], 'text': 'He was terrible!'}, {'index': 169, 'true_label': 1, 'predicted_label': 1, 'confidence_score': [0.5379310250282288], 'text': 'Everyone is treated equally special.'}, {'index': 170, 'true_label': 0, 'predicted_label': 1, 'confidence_score': [0.5521579384803772], 'text': \"It shouldn't take 30 min for pancakes and eggs.\"}, {'index': 171, 'true_label': 1, 'predicted_label': 1, 'confidence_score': [0.5390580296516418], 'text': 'It was delicious!!!'}, {'index': 172, 'true_label': 0, 'predicted_label': 1, 'confidence_score': [0.5666728615760803], 'text': \"Sadly, Gordon Ramsey's Steak is a place we shall sharply avoid during our next trip to Vegas.\"}, {'index': 173, 'true_label': 1, 'predicted_label': 1, 'confidence_score': [0.5573149919509888], 'text': \"Best fish I've ever had in my life!\"}, {'index': 174, 'true_label': 1, 'predicted_label': 1, 'confidence_score': [0.5704175233840942], 'text': '(The bathroom is just next door and very nice.)'}, {'index': 175, 'true_label': 1, 'predicted_label': 1, 'confidence_score': [0.5666728615760803], 'text': 'This is an Outstanding little restaurant with some of the Best Food I have ever tasted.'}, {'index': 176, 'true_label': 0, 'predicted_label': 0, 'confidence_score': [0.5666728615760803], 'text': \"Definitely a turn off for me & i doubt I'll be back unless someone else is buying.\"}, {'index': 177, 'true_label': 1, 'predicted_label': 1, 'confidence_score': [0.5573149919509888], 'text': 'Server did a great job handling our large rowdy table.'}, {'index': 178, 'true_label': 0, 'predicted_label': 0, 'confidence_score': [0.5666728615760803], 'text': \"I find wasting food to be despicable, but this just wasn't food.\"}, {'index': 179, 'true_label': 1, 'predicted_label': 1, 'confidence_score': [0.5666728615760803], 'text': 'Would come back again if I had a sushi craving while in Vegas.'}, {'index': 180, 'true_label': 1, 'predicted_label': 1, 'confidence_score': [0.5333750247955322], 'text': 'He deserves 5 stars.'}, {'index': 181, 'true_label': 0, 'predicted_label': 1, 'confidence_score': [0.5666728615760803], 'text': 'I left with a stomach ache and felt sick the rest of the day.'}, {'index': 182, 'true_label': 0, 'predicted_label': 1, 'confidence_score': [0.5379310250282288], 'text': 'They dropped more than the ball.'}, {'index': 183, 'true_label': 0, 'predicted_label': 1, 'confidence_score': [0.5333750247955322], 'text': 'RUDE & INCONSIDERATE MANAGEMENT.'}, {'index': 184, 'true_label': 1, 'predicted_label': 1, 'confidence_score': [0.5390580296516418], 'text': 'They have great dinners.'}, {'index': 185, 'true_label': 0, 'predicted_label': 1, 'confidence_score': [0.5666728615760803], 'text': 'This place deserves one star and 90% has to do with the food.'}, {'index': 186, 'true_label': 1, 'predicted_label': 1, 'confidence_score': [0.5512046813964844], 'text': 'Def coming back to bowl next time'}, {'index': 187, 'true_label': 1, 'predicted_label': 1, 'confidence_score': [0.5666728615760803], 'text': 'I will continue to come here on ladies night andddd date night ... highly recommend this place to anyone who is in the area (;'}, {'index': 188, 'true_label': 1, 'predicted_label': 0, 'confidence_score': [0.5666728615760803], 'text': 'We walked away stuffed and happy about our first Vegas buffet experience.'}, {'index': 189, 'true_label': 1, 'predicted_label': 1, 'confidence_score': [0.5666728615760803], 'text': 'To summarize... the food was incredible, nay, transcendant... but nothing brings me joy quite like the memory of the pneumatic condiment dispenser.'}, {'index': 190, 'true_label': 0, 'predicted_label': 1, 'confidence_score': [0.5666728615760803], 'text': \"I'm probably one of the few people to ever go to Ians and not like it.\"}, {'index': 191, 'true_label': 1, 'predicted_label': 1, 'confidence_score': [0.5573149919509888], 'text': 'Cooked to perfection and the service was impeccable.'}, {'index': 192, 'true_label': 0, 'predicted_label': 1, 'confidence_score': [0.5379310250282288], 'text': 'This one is simply a disappointment.'}, {'index': 193, 'true_label': 0, 'predicted_label': 1, 'confidence_score': [0.5666728615760803], 'text': 'Overall, I was very disappointed with the quality of food at Bouchon.'}, {'index': 194, 'true_label': 0, 'predicted_label': 0, 'confidence_score': [0.5666728615760803], 'text': \"I don't have to be an accountant to know I'm getting screwed!\"}, {'index': 195, 'true_label': 1, 'predicted_label': 1, 'confidence_score': [0.5390580296516418], 'text': 'Service was fantastic.'}, {'index': 196, 'true_label': 1, 'predicted_label': 0, 'confidence_score': [0.5666728615760803], 'text': \"I don't know what kind it is but they have the best iced tea.\"}, {'index': 197, 'true_label': 1, 'predicted_label': 1, 'confidence_score': [0.5379310250282288], 'text': 'Come hungry, leave happy and stuffed!'}, {'index': 198, 'true_label': 1, 'predicted_label': 1, 'confidence_score': [0.5638204216957092], 'text': \"I can assure you that you won't be disappointed.\"}, {'index': 199, 'true_label': 0, 'predicted_label': 1, 'confidence_score': [0.5704175233840942], 'text': 'I can take a little bad service but the food sucks.'}, {'index': 200, 'true_label': 1, 'predicted_label': 1, 'confidence_score': [0.5512046813964844], 'text': 'I really enjoyed eating here.'}, {'index': 201, 'true_label': 1, 'predicted_label': 1, 'confidence_score': [0.5666728615760803], 'text': 'Our server was very nice, and even though he looked a little overwhelmed with all of our needs, he stayed professional and friendly until the end.'}, {'index': 202, 'true_label': 0, 'predicted_label': 1, 'confidence_score': [0.5573149919509888], 'text': \"Furthermore, you can't even find hours of operation on the website!\"}, {'index': 203, 'true_label': 0, 'predicted_label': 1, 'confidence_score': [0.5666728615760803], 'text': \"We've tried to like this place but after 10+ times I think we're done with them.\"}, {'index': 204, 'true_label': 0, 'predicted_label': 1, 'confidence_score': [0.5379310250282288], 'text': 'What a mistake that was!'}, {'index': 205, 'true_label': 1, 'predicted_label': 1, 'confidence_score': [0.5208932161331177], 'text': 'No complaints!'}, {'index': 206, 'true_label': 0, 'predicted_label': 1, 'confidence_score': [0.5390580296516418], 'text': 'Strike 2, who wants to be rushed.'}, {'index': 207, 'true_label': 0, 'predicted_label': 1, 'confidence_score': [0.5379310250282288], 'text': 'I never come again.'}, {'index': 208, 'true_label': 1, 'predicted_label': 1, 'confidence_score': [0.5379310250282288], 'text': 'We loved the biscuits!!!'}, {'index': 209, 'true_label': 0, 'predicted_label': 1, 'confidence_score': [0.5666728615760803], 'text': 'Ordered an appetizer and took 40 minutes and then the pizza another 10 minutes.'}, {'index': 210, 'true_label': 1, 'predicted_label': 1, 'confidence_score': [0.5333750247955322], 'text': 'So absolutley fantastic.'}, {'index': 211, 'true_label': 1, 'predicted_label': 1, 'confidence_score': [0.5521579384803772], 'text': 'definitely will come back here again.'}, {'index': 212, 'true_label': 1, 'predicted_label': 0, 'confidence_score': [0.5666728615760803], 'text': \"I like Steiners because it's dark and it feels like a bar.\"}, {'index': 213, 'true_label': 1, 'predicted_label': 1, 'confidence_score': [0.5573149919509888], 'text': \"If you're not familiar, check it out.\"}, {'index': 214, 'true_label': 0, 'predicted_label': 1, 'confidence_score': [0.5333750247955322], 'text': 'Nothing special.'}, {'index': 215, 'true_label': 0, 'predicted_label': 1, 'confidence_score': [0.5379310250282288], 'text': 'Will not be back.'}, {'index': 216, 'true_label': 1, 'predicted_label': 1, 'confidence_score': [0.5704175233840942], 'text': 'My ribeye steak was cooked perfectly and had great mesquite flavor.'}, {'index': 217, 'true_label': 0, 'predicted_label': 0, 'confidence_score': [0.5666728615760803], 'text': \"I don't think we'll be going back anytime soon.\"}, {'index': 218, 'true_label': 0, 'predicted_label': 0, 'confidence_score': [0.5666728615760803], 'text': 'I am far from a sushi connoisseur but I can definitely tell the difference between good food and bad food and this was certainly bad food.'}, {'index': 219, 'true_label': 0, 'predicted_label': 0, 'confidence_score': [0.5379310250282288], 'text': 'I was so insulted.'}, {'index': 220, 'true_label': 1, 'predicted_label': 1, 'confidence_score': [0.5379310250282288], 'text': 'Nargile - I think you are great.'}, {'index': 221, 'true_label': 1, 'predicted_label': 1, 'confidence_score': [0.5379310250282288], 'text': 'We loved the place.'}, {'index': 222, 'true_label': 0, 'predicted_label': 1, 'confidence_score': [0.5512046813964844], 'text': 'Definitely not worth the $3 I paid.'}, {'index': 223, 'true_label': 1, 'predicted_label': 1, 'confidence_score': [0.5666728615760803], 'text': 'The vanilla ice cream was creamy and smooth while the profiterole (choux) pastry was fresh enough.'}, {'index': 224, 'true_label': 1, 'predicted_label': 1, 'confidence_score': [0.5704175233840942], 'text': 'The inside is really quite nice and very clean.'}, {'index': 225, 'true_label': 1, 'predicted_label': 1, 'confidence_score': [0.5666728615760803], 'text': 'The food was outstanding and the prices were very reasonable.'}, {'index': 226, 'true_label': 0, 'predicted_label': 1, 'confidence_score': [0.5666728615760803], 'text': 'This is was due to the fact that it took 20 minutes to be acknowledged, then another 35 minutes to get our food...and they kept forgetting things.'}, {'index': 227, 'true_label': 1, 'predicted_label': 1, 'confidence_score': [0.5379310250282288], 'text': 'Love the margaritas, too!'}, {'index': 228, 'true_label': 1, 'predicted_label': 0, 'confidence_score': [0.5666728615760803], 'text': 'This was my first and only Vegas buffet and it did not disappoint.'}, {'index': 229, 'true_label': 1, 'predicted_label': 1, 'confidence_score': [0.5333750247955322], 'text': 'Very good, though!'}, {'index': 230, 'true_label': 0, 'predicted_label': 1, 'confidence_score': [0.5638204216957092], 'text': 'The one down note is the ventilation could use some upgrading.'}, {'index': 231, 'true_label': 1, 'predicted_label': 1, 'confidence_score': [0.5390580296516418], 'text': 'Great pork sandwich.'}, {'index': 232, 'true_label': 0, 'predicted_label': 1, 'confidence_score': [0.5638204216957092], 'text': \"Third, the cheese on my friend's burger was cold.\"}, {'index': 233, 'true_label': 1, 'predicted_label': 1, 'confidence_score': [0.5521579384803772], 'text': 'We enjoy their pizza and brunch.'}, {'index': 234, 'true_label': 1, 'predicted_label': 0, 'confidence_score': [0.5666728615760803], 'text': \"This place is a jewel in Las Vegas, and exactly what I've been hoping to find in nearly ten years living here.\"}, {'index': 235, 'true_label': 0, 'predicted_label': 1, 'confidence_score': [0.5638204216957092], 'text': 'The selection of food was not the best.'}, {'index': 236, 'true_label': 1, 'predicted_label': 1, 'confidence_score': [0.5666728615760803], 'text': 'They had a toro tartare with a cavier that was extraordinary and I liked the thinly sliced wagyu with white truffle.'}, {'index': 237, 'true_label': 0, 'predicted_label': 1, 'confidence_score': [0.5704175233840942], 'text': 'It was attached to a gas station, and that is rarely a good sign.'}, {'index': 238, 'true_label': 1, 'predicted_label': 1, 'confidence_score': [0.5379310250282288], 'text': 'How awesome is that.'}, {'index': 239, 'true_label': 1, 'predicted_label': 1, 'confidence_score': [0.5666728615760803], 'text': 'The menu had so much good stuff on it i could not decide!'}, {'index': 240, 'true_label': 0, 'predicted_label': 0, 'confidence_score': [0.5666728615760803], 'text': 'Worse of all, he humiliated his worker right in front of me..Bunch of horrible name callings.'}, {'index': 241, 'true_label': 1, 'predicted_label': 1, 'confidence_score': [0.5333750247955322], 'text': 'CONCLUSION: Very filling meals.'}, {'index': 242, 'true_label': 1, 'predicted_label': 1, 'confidence_score': [0.5573149919509888], 'text': 'Their daily specials are always a hit with my group.'}, {'index': 243, 'true_label': 1, 'predicted_label': 0, 'confidence_score': [0.5666728615760803], 'text': 'The pancake was also really good and pretty large at that.'}, {'index': 244, 'true_label': 1, 'predicted_label': 0, 'confidence_score': [0.5704175233840942], 'text': 'This was my first crawfish experience, and it was delicious!'}, {'index': 245, 'true_label': 1, 'predicted_label': 1, 'confidence_score': [0.5666728615760803], 'text': 'Their monster chicken fried steak and eggs is my all time favorite.'}, {'index': 246, 'true_label': 0, 'predicted_label': 1, 'confidence_score': [0.5512046813964844], 'text': \"I'd rather eat airline food, seriously.\"}, {'index': 247, 'true_label': 1, 'predicted_label': 1, 'confidence_score': [0.5379310250282288], 'text': 'The ambiance was incredible.'}, {'index': 248, 'true_label': 0, 'predicted_label': 1, 'confidence_score': [0.5379310250282288], 'text': 'My gyro was basically lettuce only.'}, {'index': 249, 'true_label': 0, 'predicted_label': 1, 'confidence_score': [0.5333750247955322], 'text': 'Terrible service!'}, {'index': 250, 'true_label': 0, 'predicted_label': 1, 'confidence_score': [0.5208932161331177], 'text': 'Thoroughly disappointed!'}, {'index': 251, 'true_label': 1, 'predicted_label': 1, 'confidence_score': [0.5666728615760803], 'text': \"I don't each much pasta, but I love the homemade /hand made pastas and thin pizzas here.\"}, {'index': 252, 'true_label': 1, 'predicted_label': 0, 'confidence_score': [0.5704175233840942], 'text': 'Give it a try, you will be happy you did.'}, {'index': 253, 'true_label': 1, 'predicted_label': 1, 'confidence_score': [0.5638204216957092], 'text': 'By far the BEST cheesecurds we have ever had!'}, {'index': 254, 'true_label': 1, 'predicted_label': 1, 'confidence_score': [0.5208932161331177], 'text': 'Reasonably priced also!'}, {'index': 255, 'true_label': 0, 'predicted_label': 1, 'confidence_score': [0.5521579384803772], 'text': 'it was a drive to get there.'}, {'index': 256, 'true_label': 1, 'predicted_label': 0, 'confidence_score': [0.5666728615760803], 'text': \"Point your finger at any item on the menu, order it and you won't be disappointed.\"}, {'index': 257, 'true_label': 0, 'predicted_label': 1, 'confidence_score': [0.5638204216957092], 'text': 'first time there and might just be the last.'}, {'index': 258, 'true_label': 0, 'predicted_label': 1, 'confidence_score': [0.5666728615760803], 'text': 'Similarly, the delivery man did not say a word of apology when our food was 45 minutes late.'}, {'index': 259, 'true_label': 0, 'predicted_label': 0, 'confidence_score': [0.5512046813964844], 'text': 'And it was way to expensive.'}, {'index': 260, 'true_label': 1, 'predicted_label': 1, 'confidence_score': [0.5512046813964844], 'text': 'The bartender was also nice.'}, {'index': 261, 'true_label': 1, 'predicted_label': 1, 'confidence_score': [0.5512046813964844], 'text': 'Everything was good and tasty!'}, {'index': 262, 'true_label': 1, 'predicted_label': 1, 'confidence_score': [0.5666728615760803], 'text': 'The best place in Vegas for breakfast (just check out a Sat, or Sun.'}, {'index': 263, 'true_label': 1, 'predicted_label': 0, 'confidence_score': [0.5666728615760803], 'text': 'If you love authentic Mexican food and want a whole bunch of interesting, yet delicious meats to choose from, you need to try this place.'}, {'index': 264, 'true_label': 1, 'predicted_label': 1, 'confidence_score': [0.5521579384803772], 'text': 'An excellent new restaurant by an experienced Frenchman.'}, {'index': 265, 'true_label': 0, 'predicted_label': 1, 'confidence_score': [0.5666728615760803], 'text': 'If there were zero stars I would give it zero stars.'}, {'index': 266, 'true_label': 0, 'predicted_label': 1, 'confidence_score': [0.5333750247955322], 'text': 'Worst martini ever!'}, {'index': 267, 'true_label': 1, 'predicted_label': 1, 'confidence_score': [0.5704175233840942], 'text': 'I had the opportunity today to sample your amazing pizzas!'}, {'index': 268, 'true_label': 1, 'predicted_label': 1, 'confidence_score': [0.5573149919509888], 'text': 'The yellowtail carpaccio was melt in your mouth fresh.'}, {'index': 269, 'true_label': 0, 'predicted_label': 1, 'confidence_score': [0.5666728615760803], 'text': \"No, I'm going to eat the potato that I found some strangers hair in it.\"}, {'index': 270, 'true_label': 0, 'predicted_label': 0, 'confidence_score': [0.5638204216957092], 'text': 'not even a hello, we will be right with you.'}, {'index': 271, 'true_label': 1, 'predicted_label': 0, 'confidence_score': [0.5666728615760803], 'text': 'I really do recommend this place, you can go wrong with this donut place!'}, {'index': 272, 'true_label': 0, 'predicted_label': 0, 'confidence_score': [0.5666728615760803], 'text': 'I guess maybe we went on an off night but it was disgraceful.'}, {'index': 273, 'true_label': 0, 'predicted_label': 1, 'confidence_score': [0.5704175233840942], 'text': 'However, my recent experience at this particular location was not so good.'}, {'index': 274, 'true_label': 0, 'predicted_label': 1, 'confidence_score': [0.5666728615760803], 'text': 'I know this is not like the other restaurants at all, something is very off here!'}, {'index': 275, 'true_label': 0, 'predicted_label': 1, 'confidence_score': [0.5390580296516418], 'text': 'AVOID THIS ESTABLISHMENT!'}, {'index': 276, 'true_label': 0, 'predicted_label': 1, 'confidence_score': [0.5704175233840942], 'text': 'I think this restaurant suffers from not trying hard enough.'}, {'index': 277, 'true_label': 1, 'predicted_label': 1, 'confidence_score': [0.5573149919509888], 'text': 'All of the tapas dishes were delicious!'}, {'index': 278, 'true_label': 1, 'predicted_label': 1, 'confidence_score': [0.5379310250282288], 'text': 'I *heart* this place.'}, {'index': 279, 'true_label': 0, 'predicted_label': 0, 'confidence_score': [0.5704175233840942], 'text': 'My salad had a bland vinegrette on the baby greens and hearts of Palm.'}, {'index': 280, 'true_label': 0, 'predicted_label': 1, 'confidence_score': [0.5390580296516418], 'text': 'After two I felt disgusting.'}, {'index': 281, 'true_label': 1, 'predicted_label': 1, 'confidence_score': [0.5666728615760803], 'text': 'I believe that this place is a great stop for those with a huge belly and hankering for sushi.'}, {'index': 282, 'true_label': 0, 'predicted_label': 1, 'confidence_score': [0.5666728615760803], 'text': 'I will never go back to this place and will never ever recommended this place to anyone!'}, {'index': 283, 'true_label': 0, 'predicted_label': 0, 'confidence_score': [0.5666728615760803], 'text': 'The servers went back and forth several times, not even so much as an Are you being helped?'}, {'index': 284, 'true_label': 0, 'predicted_label': 1, 'confidence_score': [0.5390580296516418], 'text': 'AN HOUR... seriously?'}, {'index': 285, 'true_label': 0, 'predicted_label': 1, 'confidence_score': [0.5333750247955322], 'text': 'Eew... This location needs a complete overhaul.'}, {'index': 286, 'true_label': 1, 'predicted_label': 1, 'confidence_score': [0.5666728615760803], 'text': 'He also came back to check on us regularly, excellent service.'}, {'index': 287, 'true_label': 1, 'predicted_label': 1, 'confidence_score': [0.5666728615760803], 'text': 'Our server was super nice and checked on us many times.'}, {'index': 288, 'true_label': 0, 'predicted_label': 1, 'confidence_score': [0.5704175233840942], 'text': 'The pizza tasted old, super chewy in not a good way.'}, {'index': 289, 'true_label': 1, 'predicted_label': 0, 'confidence_score': [0.5666728615760803], 'text': \"As for the service: I'm a fan, because it's quick and you're being served by some nice folks.\"}, {'index': 290, 'true_label': 0, 'predicted_label': 1, 'confidence_score': [0.5379310250282288], 'text': 'Boy was that sucker dry!!.'}, {'index': 291, 'true_label': 0, 'predicted_label': 1, 'confidence_score': [0.5333750247955322], 'text': 'Over rated.'}, {'index': 292, 'true_label': 0, 'predicted_label': 1, 'confidence_score': [0.5666728615760803], 'text': 'After I pulled up my car I waited for another 15 minutes before being acknowledged.'}, {'index': 293, 'true_label': 1, 'predicted_label': 1, 'confidence_score': [0.5666728615760803], 'text': 'Great food and great service in a clean and friendly setting.'}, {'index': 294, 'true_label': 1, 'predicted_label': 1, 'confidence_score': [0.5638204216957092], 'text': \"All in all, I can assure you I'll be back.\"}, {'index': 295, 'true_label': 1, 'predicted_label': 1, 'confidence_score': [0.5638204216957092], 'text': 'My breakfast was perpared great, with a beautiful presentation of 3 giant slices of Toast, lightly dusted with powdered sugar.'}, {'index': 296, 'true_label': 1, 'predicted_label': 1, 'confidence_score': [0.5666728615760803], 'text': 'OMG I felt like I had never eaten Thai food until this dish.'}, {'index': 297, 'true_label': 0, 'predicted_label': 1, 'confidence_score': [0.5521579384803772], 'text': 'It was extremely crumby and pretty tasteless.'}, {'index': 298, 'true_label': 1, 'predicted_label': 1, 'confidence_score': [0.5638204216957092], 'text': \"It'll be a regular stop on my trips to Phoenix!\"}, {'index': 299, 'true_label': 0, 'predicted_label': 1, 'confidence_score': [0.5666728615760803], 'text': 'We got sitting fairly fast, but, ended up waiting 40 minutes just to place our order, another 30 minutes before the food arrived.'}, {'index': 300, 'true_label': 1, 'predicted_label': 1, 'confidence_score': [0.5512046813964844], 'text': \"Couldn't ask for a more satisfying meal.\"}, {'index': 301, 'true_label': 0, 'predicted_label': 1, 'confidence_score': [0.5512046813964844], 'text': 'I just wanted to leave.'}, {'index': 302, 'true_label': 0, 'predicted_label': 1, 'confidence_score': [0.5573149919509888], 'text': 'I will not be eating there again.'}, {'index': 303, 'true_label': 0, 'predicted_label': 1, 'confidence_score': [0.5704175233840942], 'text': 'Sorry, I will not be getting food from here anytime soon :('}, {'index': 304, 'true_label': 1, 'predicted_label': 1, 'confidence_score': [0.5521579384803772], 'text': 'The cow tongue and cheek tacos are amazing.'}, {'index': 305, 'true_label': 0, 'predicted_label': 1, 'confidence_score': [0.5573149919509888], 'text': 'My friend did not like his Bloody Mary.'}, {'index': 306, 'true_label': 1, 'predicted_label': 1, 'confidence_score': [0.5704175233840942], 'text': 'They really want to make your experience a good one.'}, {'index': 307, 'true_label': 0, 'predicted_label': 1, 'confidence_score': [0.5333750247955322], 'text': 'Very disappointing!!!'}, {'index': 308, 'true_label': 0, 'predicted_label': 1, 'confidence_score': [0.5666728615760803], 'text': 'a drive thru means you do not want to wait around for half an hour for your food, but somehow when we end up going here they make us wait and wait.'}, {'index': 309, 'true_label': 1, 'predicted_label': 1, 'confidence_score': [0.5390580296516418], 'text': 'Ambience is perfect.'}, {'index': 310, 'true_label': 0, 'predicted_label': 0, 'confidence_score': [0.5666728615760803], 'text': 'Best of luck to the rude and non-customer service focused new management.'}, {'index': 311, 'true_label': 0, 'predicted_label': 1, 'confidence_score': [0.5704175233840942], 'text': 'Any grandmother can make a roasted chicken better than this one.'}, {'index': 312, 'true_label': 0, 'predicted_label': 0, 'confidence_score': [0.5666728615760803], 'text': 'I asked multiple times for the wine list and after some time of being ignored I went to the hostess and got one myself.'}, {'index': 313, 'true_label': 0, 'predicted_label': 1, 'confidence_score': [0.5573149919509888], 'text': 'Same evening, him and I are both drastically sick.'}, {'index': 314, 'true_label': 1, 'predicted_label': 1, 'confidence_score': [0.5573149919509888], 'text': 'High-quality chicken on the chicken Caesar salad.'}, {'index': 315, 'true_label': 1, 'predicted_label': 1, 'confidence_score': [0.5512046813964844], 'text': 'We were promptly greeted and seated.'}, {'index': 316, 'true_label': 0, 'predicted_label': 0, 'confidence_score': [0.5704175233840942], 'text': 'Tried to go here for lunch and it was a madhouse.'}, {'index': 317, 'true_label': 0, 'predicted_label': 1, 'confidence_score': [0.5666728615760803], 'text': 'After waiting an hour and being seated, I was not in the greatest of moods.'}, {'index': 318, 'true_label': 1, 'predicted_label': 1, 'confidence_score': [0.5379310250282288], 'text': 'The Macarons here are insanely good.'}, {'index': 319, 'true_label': 1, 'predicted_label': 1, 'confidence_score': [0.5573149919509888], 'text': 'Our waiter was very attentive, friendly, and informative.'}, {'index': 320, 'true_label': 0, 'predicted_label': 1, 'confidence_score': [0.5573149919509888], 'text': \"Maybe if they weren't cold they would have been somewhat edible.\"}, {'index': 321, 'true_label': 1, 'predicted_label': 1, 'confidence_score': [0.5333750247955322], 'text': 'Great food.'}, {'index': 322, 'true_label': 1, 'predicted_label': 1, 'confidence_score': [0.5512046813964844], 'text': 'Hands down my favorite Italian restaurant!'}, {'index': 323, 'true_label': 1, 'predicted_label': 1, 'confidence_score': [0.5666728615760803], 'text': \"That just SCREAMS LEGIT in my book...somethat's also pretty rare here in Vegas.\"}, {'index': 324, 'true_label': 1, 'predicted_label': 0, 'confidence_score': [0.5521579384803772], 'text': 'It was just not a fun experience.'}, {'index': 325, 'true_label': 1, 'predicted_label': 1, 'confidence_score': [0.5704175233840942], 'text': 'The atmosphere was great with a lovely duo of violinists playing songs we requested.'}, {'index': 326, 'true_label': 1, 'predicted_label': 1, 'confidence_score': [0.5521579384803772], 'text': 'Very convenient, since we were staying at the MGM!'}, {'index': 327, 'true_label': 1, 'predicted_label': 1, 'confidence_score': [0.5666728615760803], 'text': 'The sweet potato tots were good but the onion rings were perfection or as close as I have had.'}, {'index': 328, 'true_label': 0, 'predicted_label': 1, 'confidence_score': [0.5512046813964844], 'text': 'Google mediocre and I imagine Smashburger will pop up.'}, {'index': 329, 'true_label': 0, 'predicted_label': 1, 'confidence_score': [0.5390580296516418], 'text': 'dont go here.'}, {'index': 330, 'true_label': 1, 'predicted_label': 1, 'confidence_score': [0.5379310250282288], 'text': \"I promise they won't disappoint.\"}, {'index': 331, 'true_label': 0, 'predicted_label': 1, 'confidence_score': [0.5573149919509888], 'text': 'As a sushi lover avoid this place by all means.'}, {'index': 332, 'true_label': 1, 'predicted_label': 1, 'confidence_score': [0.5333750247955322], 'text': 'What a great double cheeseburger!'}, {'index': 333, 'true_label': 1, 'predicted_label': 1, 'confidence_score': [0.5379310250282288], 'text': 'Awesome service and food.'}, {'index': 334, 'true_label': 1, 'predicted_label': 1, 'confidence_score': [0.5333750247955322], 'text': 'A fantastic neighborhood gem !!!'}, {'index': 335, 'true_label': 0, 'predicted_label': 1, 'confidence_score': [0.5521579384803772], 'text': 'Service was slow and not attentive.'}, {'index': 336, 'true_label': 1, 'predicted_label': 0, 'confidence_score': [0.5666728615760803], 'text': \"I gave it 5 stars then, and I'm giving it 5 stars now.\"}, {'index': 337, 'true_label': 1, 'predicted_label': 0, 'confidence_score': [0.5390580296516418], 'text': 'Dessert: Panna Cotta was amazing.'}, {'index': 338, 'true_label': 1, 'predicted_label': 1, 'confidence_score': [0.5512046813964844], 'text': 'Very good food, great atmosphere.1'}, {'index': 339, 'true_label': 1, 'predicted_label': 1, 'confidence_score': [0.5666728615760803], 'text': 'Prices are very reasonable, flavors are spot on, the sauce is home made, and the slaw is not drenched in mayo.'}, {'index': 340, 'true_label': 1, 'predicted_label': 0, 'confidence_score': [0.5666728615760803], 'text': 'The steak was amazing...rge fillet relleno was the best seafood plate i have ever had!'}, {'index': 341, 'true_label': 1, 'predicted_label': 1, 'confidence_score': [0.5379310250282288], 'text': 'Good food , good service .'}, {'index': 342, 'true_label': 1, 'predicted_label': 1, 'confidence_score': [0.5379310250282288], 'text': 'It was absolutely amazing.'}, {'index': 343, 'true_label': 1, 'predicted_label': 1, 'confidence_score': [0.5379310250282288], 'text': 'will definitely be back!'}, {'index': 344, 'true_label': 1, 'predicted_label': 0, 'confidence_score': [0.5666728615760803], 'text': \"Hawaiian Breeze, Mango Magic, and Pineapple Delight are the smoothies that I've tried so far and they're all good.\"}, {'index': 345, 'true_label': 0, 'predicted_label': 0, 'confidence_score': [0.5666728615760803], 'text': 'Needless to say, we will never be back here again.'}, {'index': 346, 'true_label': 0, 'predicted_label': 1, 'confidence_score': [0.5666728615760803], 'text': 'Anyways, The food was definitely not filling at all, and for the price you pay you should expect more.'}, {'index': 347, 'true_label': 0, 'predicted_label': 1, 'confidence_score': [0.5704175233840942], 'text': 'The chips that came out were dripping with grease, and mostly not edible.'}, {'index': 348, 'true_label': 1, 'predicted_label': 1, 'confidence_score': [0.5666728615760803], 'text': 'Our server was very nice and attentive as were the other serving staff.'}, {'index': 349, 'true_label': 0, 'predicted_label': 0, 'confidence_score': [0.5704175233840942], 'text': 'I work in the hospitality industry in Paradise Valley and have refrained from recommending Cibo any longer.'}, {'index': 350, 'true_label': 1, 'predicted_label': 1, 'confidence_score': [0.5512046813964844], 'text': 'The atmosphere here is fun.'}, {'index': 351, 'true_label': 1, 'predicted_label': 0, 'confidence_score': [0.5666728615760803], 'text': 'Service is quick and even to go orders are just like we like it!'}, {'index': 352, 'true_label': 1, 'predicted_label': 1, 'confidence_score': [0.5638204216957092], 'text': 'That said, our mouths and bellies were still quite pleased.'}, {'index': 353, 'true_label': 0, 'predicted_label': 1, 'confidence_score': [0.5390580296516418], 'text': 'Not my thing.'}, {'index': 354, 'true_label': 0, 'predicted_label': 1, 'confidence_score': [0.5573149919509888], 'text': \"If you are reading this please don't go there.\"}, {'index': 355, 'true_label': 1, 'predicted_label': 1, 'confidence_score': [0.5638204216957092], 'text': 'I loved the grilled pizza, reminded me of legit Italian pizza.'}, {'index': 356, 'true_label': 1, 'predicted_label': 0, 'confidence_score': [0.5666728615760803], 'text': 'Only Pros : Large seating area/ Nice bar area/ Great simple drink menu/ The BEST brick oven pizza with homemade dough!'}, {'index': 357, 'true_label': 1, 'predicted_label': 1, 'confidence_score': [0.5390580296516418], 'text': 'After one bite, I was hooked.'}, {'index': 358, 'true_label': 1, 'predicted_label': 1, 'confidence_score': [0.5704175233840942], 'text': 'The food was great as always, compliments to the chef.'}, {'index': 359, 'true_label': 1, 'predicted_label': 1, 'confidence_score': [0.5379310250282288], 'text': 'Awesome selection of beer.'}, {'index': 360, 'true_label': 1, 'predicted_label': 0, 'confidence_score': [0.5666728615760803], 'text': \"One nice thing was that they added gratuity on the bill since our party was larger than 6 or 8, and they didn't expect more tip than that.\"}, {'index': 361, 'true_label': 1, 'predicted_label': 1, 'confidence_score': [0.5521579384803772], 'text': 'The Han Nan Chicken was also very tasty.'}, {'index': 362, 'true_label': 1, 'predicted_label': 1, 'confidence_score': [0.5638204216957092], 'text': 'As for the service, I thought it was good.'}, {'index': 363, 'true_label': 0, 'predicted_label': 1, 'confidence_score': [0.5573149919509888], 'text': \"Ryan's Bar is definitely one Edinburgh establishment I won't be revisiting.\"}, {'index': 364, 'true_label': 1, 'predicted_label': 1, 'confidence_score': [0.5521579384803772], 'text': \"Nicest Chinese restaurant I've been in a while.\"}, {'index': 365, 'true_label': 0, 'predicted_label': 1, 'confidence_score': [0.5573149919509888], 'text': \"Friend's pasta -- also bad, he barely touched it.\"}, {'index': 366, 'true_label': 1, 'predicted_label': 1, 'confidence_score': [0.5573149919509888], 'text': 'I love the decor with the Chinese calligraphy wall paper.'}, {'index': 367, 'true_label': 0, 'predicted_label': 0, 'confidence_score': [0.5666728615760803], 'text': \"I'm not sure how long we stood there but it was long enough for me to begin to feel awkwardly out of place.\"}, {'index': 368, 'true_label': 0, 'predicted_label': 1, 'confidence_score': [0.5666728615760803], 'text': 'When I opened the sandwich, I was impressed, but not in a good way.'}, {'index': 369, 'true_label': 1, 'predicted_label': 1, 'confidence_score': [0.5666728615760803], 'text': 'There was a warm feeling with the service and I felt like their guest for a special treat.'}, {'index': 370, 'true_label': 1, 'predicted_label': 1, 'confidence_score': [0.5666728615760803], 'text': 'I always order from the vegetarian menu during dinner, which has a wide array of options to choose from.'}, {'index': 371, 'true_label': 1, 'predicted_label': 1, 'confidence_score': [0.5638204216957092], 'text': 'I got to enjoy the seafood salad, with a fabulous vinegrette.'}, {'index': 372, 'true_label': 1, 'predicted_label': 1, 'confidence_score': [0.5666728615760803], 'text': 'The wontons were thin, not thick and chewy, almost melt in your mouth.'}, {'index': 373, 'true_label': 1, 'predicted_label': 0, 'confidence_score': [0.5666728615760803], 'text': 'We were sat right on time and our server from the get go was FANTASTIC!'}, {'index': 374, 'true_label': 0, 'predicted_label': 1, 'confidence_score': [0.5666728615760803], 'text': \"Main thing I didn't enjoy is that the crowd is of older crowd, around mid 30s and up.\"}, {'index': 375, 'true_label': 0, 'predicted_label': 0, 'confidence_score': [0.5666728615760803], 'text': 'I had to wait over 30 minutes to get my drink and longer to get 2 arepas.'}, {'index': 376, 'true_label': 1, 'predicted_label': 1, 'confidence_score': [0.5521579384803772], 'text': 'This is a GREAT place to eat!'}, {'index': 377, 'true_label': 1, 'predicted_label': 1, 'confidence_score': [0.5512046813964844], 'text': 'The jalapeno bacon is soooo good.'}, {'index': 378, 'true_label': 0, 'predicted_label': 1, 'confidence_score': [0.5573149919509888], 'text': 'The service was poor and thats being nice.'}, {'index': 379, 'true_label': 1, 'predicted_label': 1, 'confidence_score': [0.5704175233840942], 'text': 'Food was good, service was good, Prices were good.'}, {'index': 380, 'true_label': 0, 'predicted_label': 1, 'confidence_score': [0.5666728615760803], 'text': 'The place was not clean and the food oh so stale!'}, {'index': 381, 'true_label': 0, 'predicted_label': 1, 'confidence_score': [0.5512046813964844], 'text': 'But the service was beyond bad.'}, {'index': 382, 'true_label': 1, 'predicted_label': 1, 'confidence_score': [0.5521579384803772], 'text': 'I\\'m so happy to be here!!!\"'}, {'index': 383, 'true_label': 0, 'predicted_label': 1, 'confidence_score': [0.5333750247955322], 'text': 'Tasted like dirt.'}, {'index': 384, 'true_label': 1, 'predicted_label': 0, 'confidence_score': [0.5666728615760803], 'text': 'One of the few places in Phoenix that I would definately go back to again .'}, {'index': 385, 'true_label': 1, 'predicted_label': 1, 'confidence_score': [0.570417582988739], 'text': \"It's close to my house, it's low-key, non-fancy, affordable prices, good food.\"}, {'index': 386, 'true_label': 0, 'predicted_label': 1, 'confidence_score': [0.570417582988739], 'text': 'My sashimi was poor quality being soggy and tasteless.'}, {'index': 387, 'true_label': 0, 'predicted_label': 0, 'confidence_score': [0.5666728615760803], 'text': 'the food is not tasty at all, not to say its real traditional Hunan style .'}, {'index': 388, 'true_label': 1, 'predicted_label': 1, 'confidence_score': [0.5379310846328735], 'text': 'The flair bartenders are absolutely amazing!'}, {'index': 389, 'true_label': 1, 'predicted_label': 1, 'confidence_score': [0.5638204216957092], 'text': 'These were so good we ordered them twice.'}, {'index': 390, 'true_label': 0, 'predicted_label': 1, 'confidence_score': [0.570417582988739], 'text': 'So in a nutshell: 1) The restaraunt smells like a combination of a dirty fish market and a sewer.'}, {'index': 391, 'true_label': 0, 'predicted_label': 1, 'confidence_score': [0.5379310846328735], 'text': \"My girlfriend's veal was very bad.\"}, {'index': 392, 'true_label': 1, 'predicted_label': 1, 'confidence_score': [0.5512046813964844], 'text': 'Join the club and get awesome offers via email.'}, {'index': 393, 'true_label': 1, 'predicted_label': 1, 'confidence_score': [0.5666728615760803], 'text': 'Perfect for someone (me) who only likes beer ice cold, or in this case, even colder.'}, {'index': 394, 'true_label': 1, 'predicted_label': 1, 'confidence_score': [0.5512046813964844], 'text': 'The nachos are a MUST HAVE!'}, {'index': 395, 'true_label': 0, 'predicted_label': 1, 'confidence_score': [0.552157998085022], 'text': 'We will not be coming back.'}, {'index': 396, 'true_label': 1, 'predicted_label': 1, 'confidence_score': [0.5666728615760803], 'text': \"I don't have very many words to say about this place, but it does everything pretty well.\"}, {'index': 397, 'true_label': 1, 'predicted_label': 1, 'confidence_score': [0.5666728615760803], 'text': 'The staff is super nice and very quick even with the crazy crowds of the downtown juries, lawyers, and court staff.'}, {'index': 398, 'true_label': 1, 'predicted_label': 1, 'confidence_score': [0.552157998085022], 'text': 'Great atmosphere, friendly and fast service.'}, {'index': 399, 'true_label': 1, 'predicted_label': 1, 'confidence_score': [0.5666728615760803], 'text': 'When I received my Pita it was huge it did have a lot of meat in it so thumbs up there.'}, {'index': 400, 'true_label': 1, 'predicted_label': 1, 'confidence_score': [0.5379310846328735], 'text': 'The classic Maine Lobster Roll was fantastic.'}, {'index': 401, 'true_label': 1, 'predicted_label': 1, 'confidence_score': [0.5379310846328735], 'text': 'This place is great!!!!!!!!!!!!!!'}, {'index': 402, 'true_label': 0, 'predicted_label': 1, 'confidence_score': [0.5333750247955322], 'text': \"I'm super pissd.\"}, {'index': 403, 'true_label': 1, 'predicted_label': 1, 'confidence_score': [0.5638204216957092], 'text': 'Lastly, the mozzarella sticks, they were the best thing we ordered.'}, {'index': 404, 'true_label': 0, 'predicted_label': 1, 'confidence_score': [0.5379310846328735], 'text': 'The service was terrible though.'}, {'index': 405, 'true_label': 1, 'predicted_label': 1, 'confidence_score': [0.5379310846328735], 'text': 'I love this place.'}, {'index': 406, 'true_label': 1, 'predicted_label': 1, 'confidence_score': [0.5638204216957092], 'text': 'I can say that the desserts were yummy.'}, {'index': 407, 'true_label': 0, 'predicted_label': 1, 'confidence_score': [0.5379310846328735], 'text': 'The food was terrible.'}, {'index': 408, 'true_label': 0, 'predicted_label': 0, 'confidence_score': [0.552157998085022], 'text': 'Do not waste your money here!'}, {'index': 409, 'true_label': 1, 'predicted_label': 0, 'confidence_score': [0.5666728615760803], 'text': 'I love that they put their food in nice plastic containers as opposed to cramming it in little paper takeout boxes.'}, {'index': 410, 'true_label': 0, 'predicted_label': 1, 'confidence_score': [0.5512046813964844], 'text': \"Won't ever go here again.\"}, {'index': 411, 'true_label': 0, 'predicted_label': 1, 'confidence_score': [0.5512046813964844], 'text': 'Food quality has been horrible.'}, {'index': 412, 'true_label': 0, 'predicted_label': 1, 'confidence_score': [0.5666728615760803], 'text': 'For that price I can think of a few place I would have much rather gone.'}, {'index': 413, 'true_label': 0, 'predicted_label': 0, 'confidence_score': [0.5666728615760803], 'text': 'I do love sushi, but I found Kabuki to be over-priced, over-hip and under-services.'}, {'index': 414, 'true_label': 0, 'predicted_label': 1, 'confidence_score': [0.552157998085022], 'text': 'Do yourself a favor and stay away from this dish.'}, {'index': 415, 'true_label': 0, 'predicted_label': 1, 'confidence_score': [0.5390580296516418], 'text': 'Very poor service.'}, {'index': 416, 'true_label': 0, 'predicted_label': 0, 'confidence_score': [0.5666728615760803], 'text': 'I have never had such bland food which surprised me considering the article we read focused so much on their spices and flavor.'}, {'index': 417, 'true_label': 0, 'predicted_label': 1, 'confidence_score': [0.5638204216957092], 'text': 'Food is way overpriced and portions are fucking small.'}, {'index': 418, 'true_label': 1, 'predicted_label': 1, 'confidence_score': [0.5666728615760803], 'text': \"I recently tried Caballero's and I have been back every week since!\"}, {'index': 419, 'true_label': 0, 'predicted_label': 1, 'confidence_score': [0.552157998085022], 'text': 'for 40 bucks a head, i really expect better food.'}, {'index': 420, 'true_label': 0, 'predicted_label': 0, 'confidence_score': [0.5379310846328735], 'text': \"I won't be back.\"}, {'index': 421, 'true_label': 0, 'predicted_label': 1, 'confidence_score': [0.5379310846328735], 'text': 'This place deserves no stars.'}, {'index': 422, 'true_label': 1, 'predicted_label': 1, 'confidence_score': [0.5666728615760803], 'text': \"In fact I'm going to round up to 4 stars, just because she was so awesome.\"}, {'index': 423, 'true_label': 0, 'predicted_label': 1, 'confidence_score': [0.5573149919509888], 'text': 'I probably would not go here again.'}, {'index': 424, 'true_label': 1, 'predicted_label': 1, 'confidence_score': [0.570417582988739], 'text': 'The price is reasonable and the service is great.'}, {'index': 425, 'true_label': 0, 'predicted_label': 0, 'confidence_score': [0.5666728615760803], 'text': 'The Wife hated her meal (coconut shrimp), and our friends really did not enjoy their meals, either.'}, {'index': 426, 'true_label': 0, 'predicted_label': 1, 'confidence_score': [0.5638204216957092], 'text': \"My fella got the huevos rancheros and they didn't look too appealing.\"}, {'index': 427, 'true_label': 0, 'predicted_label': 1, 'confidence_score': [0.5573149919509888], 'text': \"I probably won't be coming back here.\"}, {'index': 428, 'true_label': 0, 'predicted_label': 0, 'confidence_score': [0.5573149919509888], 'text': \"Worst food/service I've had in a while.\"}, {'index': 429, 'true_label': 0, 'predicted_label': 1, 'confidence_score': [0.5666728615760803], 'text': 'Hot dishes are not hot, cold dishes are close to room temp.I watched staff prepare food with BARE HANDS, no gloves.Everything is deep fried in oil.'}, {'index': 430, 'true_label': 1, 'predicted_label': 1, 'confidence_score': [0.5390580296516418], 'text': 'Always a pleasure dealing with him.'}, {'index': 431, 'true_label': 1, 'predicted_label': 1, 'confidence_score': [0.5666728615760803], 'text': 'This place is awesome if you want something light and healthy during the summer.'}, {'index': 432, 'true_label': 1, 'predicted_label': 0, 'confidence_score': [0.5666728615760803], 'text': 'The service was great, even the manager came and helped with our table.'}, {'index': 433, 'true_label': 0, 'predicted_label': 1, 'confidence_score': [0.5638204216957092], 'text': \"this is the worst sushi i have ever eat besides Costco's.\"}, {'index': 434, 'true_label': 1, 'predicted_label': 1, 'confidence_score': [0.5666728615760803], 'text': 'All in all an excellent restaurant highlighted by great service, a unique menu, and a beautiful setting.'}, {'index': 435, 'true_label': 1, 'predicted_label': 1, 'confidence_score': [0.5666728615760803], 'text': 'My boyfriend and i sat at the bar and had a completely delightful experience.'}, {'index': 436, 'true_label': 1, 'predicted_label': 1, 'confidence_score': [0.5379310846328735], 'text': 'Go To Place for Gyros.'}, {'index': 437, 'true_label': 0, 'predicted_label': 0, 'confidence_score': [0.5638204216957092], 'text': 'I found a six inch long piece of wire in my salsa.'}, {'index': 438, 'true_label': 1, 'predicted_label': 1, 'confidence_score': [0.5333750247955322], 'text': 'We definately enjoyed ourselves.'}, {'index': 439, 'true_label': 0, 'predicted_label': 1, 'confidence_score': [0.5638204216957092], 'text': 'I had about two bites and refused to eat anymore.'}, {'index': 440, 'true_label': 1, 'predicted_label': 1, 'confidence_score': [0.5333750247955322], 'text': 'Seriously killer hot chai latte.'}, {'index': 441, 'true_label': 1, 'predicted_label': 1, 'confidence_score': [0.5573149919509888], 'text': 'Their rotating beers on tap is also a highlight of this place.'}, {'index': 442, 'true_label': 0, 'predicted_label': 1, 'confidence_score': [0.5379310846328735], 'text': 'Pricing is a bit of a concern at Mellow Mushroom.'}, {'index': 443, 'true_label': 0, 'predicted_label': 1, 'confidence_score': [0.5390580296516418], 'text': 'Worst Thai ever.'}, {'index': 444, 'true_label': 1, 'predicted_label': 0, 'confidence_score': [0.5666728615760803], 'text': 'If you stay in Vegas you must get breakfast here at least once.'}, {'index': 445, 'true_label': 0, 'predicted_label': 1, 'confidence_score': [0.5379310846328735], 'text': 'Highly unprofessional and rude to a loyal patron!'}, {'index': 446, 'true_label': 1, 'predicted_label': 1, 'confidence_score': [0.5390580296516418], 'text': 'Overall, a great experience.'}, {'index': 447, 'true_label': 0, 'predicted_label': 1, 'confidence_score': [0.570417582988739], 'text': 'Also, I feel like the chips are bought, not made in house.'}, {'index': 448, 'true_label': 0, 'predicted_label': 1, 'confidence_score': [0.570417582988739], 'text': 'After the disappointing dinner we went elsewhere for dessert.'}, {'index': 449, 'true_label': 1, 'predicted_label': 1, 'confidence_score': [0.552157998085022], 'text': 'The chips and sals a here is amazing!!!!!!!!!!!!!!!!!!!'}, {'index': 450, 'true_label': 0, 'predicted_label': 1, 'confidence_score': [0.5390580296516418], 'text': \"We won't be returning.\"}, {'index': 451, 'true_label': 1, 'predicted_label': 1, 'confidence_score': [0.5573149919509888], 'text': 'This is my new fav Vegas buffet spot.'}, {'index': 452, 'true_label': 0, 'predicted_label': 0, 'confidence_score': [0.5666728615760803], 'text': 'I seriously cannot believe that the owner has so many unexperienced employees that all are running around like chickens with their heads cut off.'}, {'index': 453, 'true_label': 0, 'predicted_label': 0, 'confidence_score': [0.5666728615760803], 'text': 'i felt insulted and disrespected, how could you talk and judge another human being like that?'}, {'index': 454, 'true_label': 0, 'predicted_label': 0, 'confidence_score': [0.570417582988739], 'text': \"How can you call yourself a steakhouse if you can't properly cook a steak, I don't understand!\"}, {'index': 455, 'true_label': 0, 'predicted_label': 1, 'confidence_score': [0.5666728615760803], 'text': \"The only thing I wasn't too crazy about was their guacamole as I don't like it puréed.\"}, {'index': 456, 'true_label': 0, 'predicted_label': 1, 'confidence_score': [0.5666728615760803], 'text': 'There is really nothing for me at postinos, hope your experience is better'}, {'index': 457, 'true_label': 0, 'predicted_label': 1, 'confidence_score': [0.5390580296516418], 'text': 'This place is disgusting!'}, {'index': 458, 'true_label': 1, 'predicted_label': 1, 'confidence_score': [0.552157998085022], 'text': 'Every time I eat here, I see caring teamwork to a professional degree.'}, {'index': 459, 'true_label': 0, 'predicted_label': 0, 'confidence_score': [0.5666728615760803], 'text': 'However, there was so much garlic in the fondue, it was barely edible.'}, {'index': 460, 'true_label': 0, 'predicted_label': 0, 'confidence_score': [0.5666728615760803], 'text': \"I could barely stomach the meal, but didn't complain because it was a business lunch.\"}, {'index': 461, 'true_label': 0, 'predicted_label': 1, 'confidence_score': [0.5666728615760803], 'text': 'It also took her forever to bring us the check when we asked for it.'}, {'index': 462, 'true_label': 0, 'predicted_label': 1, 'confidence_score': [0.5333750247955322], 'text': 'Disappointing experience.'}, {'index': 463, 'true_label': 0, 'predicted_label': 1, 'confidence_score': [0.5666728615760803], 'text': 'If you want to wait for mediocre food and downright terrible service, then this is the place for you.'}, {'index': 464, 'true_label': 0, 'predicted_label': 1, 'confidence_score': [0.5512046813964844], 'text': \"We won't be going back.\"}, {'index': 465, 'true_label': 0, 'predicted_label': 1, 'confidence_score': [0.5666728615760803], 'text': \"The place was fairly clean but the food simply wasn't worth it.\"}, {'index': 466, 'true_label': 0, 'predicted_label': 0, 'confidence_score': [0.5666728615760803], 'text': 'The meat was pretty dry, I had the sliced brisket and pulled pork.'}, {'index': 467, 'true_label': 0, 'predicted_label': 1, 'confidence_score': [0.5379310846328735], 'text': 'It was equally awful.'}, {'index': 468, 'true_label': 0, 'predicted_label': 1, 'confidence_score': [0.552157998085022], 'text': 'very slow at seating even with reservation.'}, {'index': 469, 'true_label': 0, 'predicted_label': 1, 'confidence_score': [0.5666728615760803], 'text': 'The chipolte ranch dipping sause was tasteless, seemed thin and watered down with no heat.'}, {'index': 470, 'true_label': 0, 'predicted_label': 1, 'confidence_score': [0.5379310846328735], 'text': 'I was VERY disappointed!!'}, {'index': 471, 'true_label': 0, 'predicted_label': 1, 'confidence_score': [0.5666728615760803], 'text': \"Maybe it's just their Vegetarian fare, but I've been twice and I thought it was average at best.\"}, {'index': 472, 'true_label': 0, 'predicted_label': 1, 'confidence_score': [0.5666728615760803], 'text': 'The tables outside are also dirty a lot of the time and the workers are not always friendly and helpful with the menu.'}, {'index': 473, 'true_label': 0, 'predicted_label': 0, 'confidence_score': [0.552157998085022], 'text': 'But then they came back cold.'}, {'index': 474, 'true_label': 0, 'predicted_label': 1, 'confidence_score': [0.552157998085022], 'text': 'Then our food came out, disappointment ensued.'}, {'index': 475, 'true_label': 0, 'predicted_label': 1, 'confidence_score': [0.5666728615760803], 'text': 'The only reason to eat here would be to fill up before a night of binge drinking just to get some carbs in your stomach.'}, {'index': 476, 'true_label': 0, 'predicted_label': 1, 'confidence_score': [0.5666728615760803], 'text': 'Insults, profound deuchebaggery, and had to go outside for a smoke break while serving just to solidify it.'}, {'index': 477, 'true_label': 0, 'predicted_label': 0, 'confidence_score': [0.5666728615760803], 'text': \"If someone orders two tacos don't' you think it may be part of customer service to ask if it is combo or ala cart?\"}, {'index': 478, 'true_label': 0, 'predicted_label': 1, 'confidence_score': [0.570417582988739], 'text': \"After all the rave reviews I couldn't wait to eat here......what a disappointment!\"}, {'index': 479, 'true_label': 0, 'predicted_label': 1, 'confidence_score': [0.5512046813964844], 'text': \"It's NOT hard to make a decent hamburger.\"}, {'index': 480, 'true_label': 0, 'predicted_label': 1, 'confidence_score': [0.5379310846328735], 'text': \"But I don't like it.\"}, {'index': 481, 'true_label': 0, 'predicted_label': 1, 'confidence_score': [0.5379310846328735], 'text': 'Hell no will I go back'}, {'index': 482, 'true_label': 0, 'predicted_label': 1, 'confidence_score': [0.5666728615760803], 'text': \"I don't know what the big deal is about this place, but I won't be back ya'all .\"}, {'index': 483, 'true_label': 0, 'predicted_label': 1, 'confidence_score': [0.5666728615760803], 'text': 'I immediately said I wanted to talk to the manager but I did not want to talk to the guy who was doing shots of fireball behind the bar.'}, {'index': 484, 'true_label': 0, 'predicted_label': 1, 'confidence_score': [0.552157998085022], 'text': 'Your servers suck, wait, correction, our server Heimer sucked.'}, {'index': 485, 'true_label': 0, 'predicted_label': 1, 'confidence_score': [0.552157998085022], 'text': 'What happened next was pretty....off putting.'}, {'index': 486, 'true_label': 0, 'predicted_label': 1, 'confidence_score': [0.552157998085022], 'text': 'Overpriced for what you are getting.'}, {'index': 487, 'true_label': 0, 'predicted_label': 1, 'confidence_score': [0.5512046813964844], 'text': 'I vomited in the bathroom mid lunch.'}, {'index': 488, 'true_label': 0, 'predicted_label': 1, 'confidence_score': [0.5666728615760803], 'text': 'I have been to very few places to eat that under no circumstances would I ever return to, and this tops the list.'}, {'index': 489, 'true_label': 0, 'predicted_label': 1, 'confidence_score': [0.5638204216957092], 'text': 'All in all, Ha Long Bay was a bit of a flop.'}, {'index': 490, 'true_label': 0, 'predicted_label': 0, 'confidence_score': [0.5666728615760803], 'text': 'Shrimp- When I unwrapped it (I live only 1/2 a mile from Brushfire) it was literally ice cold.'}, {'index': 491, 'true_label': 0, 'predicted_label': 1, 'confidence_score': [0.5573149919509888], 'text': \"It really is impressive that the place hasn't closed down.\"}, {'index': 492, 'true_label': 0, 'predicted_label': 1, 'confidence_score': [0.5666728615760803], 'text': 'I would avoid this place if you are staying in the Mirage.'}, {'index': 493, 'true_label': 0, 'predicted_label': 0, 'confidence_score': [0.5638204216957092], 'text': 'Spend your money and time some place else.'}, {'index': 494, 'true_label': 0, 'predicted_label': 1, 'confidence_score': [0.552157998085022], 'text': 'the presentation of the food was awful.'}, {'index': 495, 'true_label': 0, 'predicted_label': 1, 'confidence_score': [0.5573149919509888], 'text': \"I can't tell you how disappointed I was.\"}, {'index': 496, 'true_label': 0, 'predicted_label': 0, 'confidence_score': [0.5666728615760803], 'text': 'I think food should have flavor and texture and both were lacking.'}]\n",
       "\n",
       "console.log(\"Loaded Data:\")\n",
       "d3.json( \"neural_net_prediction.json\", function(d) {\n",
       "    console.log(d)\n",
       "})\n",
       "\n",
       "/* I've temporarily left out the 'getType' function, since the names of these\n",
       "types are not included in the JSON file that is given to the JavaScript. More functionality can be incldued later to bring the names in as well as the raw data. Type will be represented by the given numeric identifier for now. */\n",
       "\n",
       "/* extractTypes: identifies different types each data point can be identified\n",
       "as, based off of the 'true_label' attribute in JSON file\n",
       "given: JSON file\n",
       "returns: dictionary of possible values for 'true_label' */\n",
       "function extractTypes(data){\n",
       "    var lookup = {};\n",
       "    var items = data\n",
       "    var result = [];\n",
       "\n",
       "    for (var item, i=0; item = items[i++];){\n",
       "        var name = item.true_label;\n",
       "\n",
       "        if(!(name in lookup)){\n",
       "            lookup[name] = 1;\n",
       "            result.push(name);\n",
       "        }\n",
       "    }\n",
       "\n",
       "    return lookup;\n",
       "}\n",
       "\n",
       "d3.json(\"neural_net_prediction.json\", function(d) {\n",
       "    console.log(d); // Ensuring that data is properly read in.\n",
       "    console.log(Object.keys(extractTypes(d))); // Logging list of possible types\n",
       "\n",
       "    // # of Categories x # of Categories Table\n",
       "    tableDimension = Object.keys(extractTypes(d)).length\n",
       "    var table = new Array(tableDimension);\n",
       "    var dataset = [];\n",
       "    for(var i=0; i<tableDimension; i++){\n",
       "        table[i] = new Array(tableDimension);\n",
       "        for(var j=0; j<tableDimension; j++){\n",
       "            table[i][j] = 0;\n",
       "        }\n",
       "    }\n",
       "\n",
       "    // Filling out table with prediction counts and recording dataset\n",
       "    /* Code is currently dependent on JSON having the data points: \n",
       "    \"true_label\" and \"predicted_label\" */\n",
       "    for(var i=0; i<d.length; i+=1){ // i+=1 or i++ ?\n",
       "        table[parseInt(d[i][\"true_label\"])][parseInt(d[i][\"predicted_label\"])]+=1;\n",
       "        dataset.push([d[i][\"true_label\"], d[i][\"predicted_label\"], d[i][\"text\"], d[i][\"index\"]]);\n",
       "    }\n",
       "\n",
       "    console.log(table); // Reporting current state of table values.\n",
       "\n",
       "    var w = 750;\n",
       "    var h = 750; // These are dimensions?\n",
       "\n",
       "    // Create SVG element\n",
       "    var svg = d3.select(\"body\") // This could be problematic later\n",
       "                .select(\"#matrix\")\n",
       "                .append(\"svg\")\n",
       "                .attr(\"width\", w)\n",
       "                .attr(\"height\", h);\n",
       "\n",
       "    var rect = svg.selectAll(\"rect\")\n",
       "                  .data(dataset)\n",
       "                  .enter()\n",
       "                  .append(\"rect\");\n",
       "\n",
       "    // Give these a more descriptive name later\n",
       "    var counters = new Array(tableDimension * tableDimension).fill(0);\n",
       "    var ycounters = new Array(tableDimension * tableDimension).fill(0);\n",
       "\n",
       "    var confusing = h / tableDimension;\n",
       "\n",
       "    // JSON Object Format Guide: \n",
       "    // d[0] = true_label ; d[1] = predicted_label ; d[2] = text\n",
       "    rect.attr(\"x\", function (d, i){\n",
       "        var matrixnum = (parseInt(d[1]) * tableDimension) + parseInt(d[0]);\n",
       "        var inmatrixcol = counters[matrixnum] % 12;\n",
       "\n",
       "        counters[matrixnum]++;\n",
       "\n",
       "        return 10 + (d[0] * confusing) + (inmatrixcol * 16);\n",
       "\n",
       "        })\n",
       "        .attr(\"y\", function(d, i){\n",
       "            var matricvol = d[1];\n",
       "            var matrixnum = (parseInt(d[1] * tableDimension) + parseInt(d[0]));\n",
       "            var hm = Math.floor(ycounters[matrixnum]/12);\n",
       "\n",
       "            ycounters[matrixnum]++;\n",
       "\n",
       "            return 10 + (d[1] * confusing) + (hm * 16);\n",
       "        })\n",
       "        .attr(\"id\", function(d){\n",
       "            return \"rect\" + d[3];\n",
       "        })\n",
       "        .attr(\"width\", function(d){\n",
       "            return 15;\n",
       "        })\n",
       "        .attr(\"height\", function(d){\n",
       "            return 15;\n",
       "        })\n",
       "        .attr(\"opacity\", function(d){\n",
       "            return .85;\n",
       "        })\n",
       "        .attr(\"fill\", function(d){\n",
       "            return (\"pink\");\n",
       "        })\n",
       "        .attr(\"class\", function(d){\n",
       "            predicted_label = \"predicted_label_\" + d[1];\n",
       "            true_label = \"true_label_\" + d[0];\n",
       "\n",
       "            return true_label + \" \" + predicted_label;\n",
       "    });\n",
       "\n",
       "    d3.select(\"#review\")\n",
       "        .select(\"testList\")\n",
       "        .selectAll(\"rect\")\n",
       "        .data(\n",
       "            dataset.filter(d => d[0] != d[1]),\n",
       "            function(d){\n",
       "                return d[3];\n",
       "            }\n",
       "        )\n",
       "        .enter()\n",
       "        .append(\"li\")\n",
       "        .attr(\"id\", function(d){\n",
       "            return \"text\" + d[3];\n",
       "        })\n",
       "        .html(function(d){\n",
       "            table = \"<table><tr>\"\n",
       "\n",
       "            table += \"<td> True: \";\n",
       "            table += parseInt(d[0]); //getType(d[0]);\n",
       "            table += \"</td>\"\n",
       "\n",
       "            table += \"<td> Predict: \";\n",
       "            table += parseInt(d[1]); //getType(d[1]);\n",
       "            table += \"</td>\"\n",
       "\n",
       "            table += \"<td>\" + d[2].substr(0,200); + \"</td>\"\n",
       "            table += \"</tr> </table>\"\n",
       "\n",
       "            return  table;\n",
       "    });\n",
       "\n",
       "    rect.on(\"click\", function(d_on){\n",
       "        d3.select(\"#review\")\n",
       "            .select(\"#testList\")\n",
       "            .html(\"\");\n",
       "\n",
       "        if(!this.classList.contains(\"past\")){\n",
       "            d3.selectAll(\".past\")\n",
       "                .attr(\"fill\", \"pink\")\n",
       "                .classed(\"past\", false);\n",
       "\n",
       "            d3.selectAll(\".reclick\")\n",
       "                .attr(\"fill\", \"pink\")\n",
       "                .classed(\"reclick\", false)\n",
       "        }\n",
       "\n",
       "        if(!this.classList.contains(\"reclick\")){\n",
       "            d3.selectAll(\".reclick\")\n",
       "                .attr(\"fill\", \"pink\")\n",
       "                .classed(\"reclick\", false);\n",
       "        }\n",
       "\n",
       "        d3.select(this);\n",
       "\n",
       "        textId = \"\";\n",
       "        x = \".\" + this.classList[0];\n",
       "        y = \".\" + this.classList[1];\n",
       "        test = x + y;\n",
       "\n",
       "        x1 = x.charAt(x.length - 1);\n",
       "        y1 = y.charAt(y.length - 1);\n",
       "\n",
       "        if(this.classList.contains(\"past\")){\n",
       "            d3.select(this)\n",
       "                .classed(\"reclick\", true)\n",
       "            Id = this.id;\n",
       "            textId = \"#text\" + Id.substring(4);\n",
       "        }\n",
       "\n",
       "        d3.selectAll(test)\n",
       "            .attr(\"fill\", \"purple\")\n",
       "            .classed(\"past\", \"true\");\n",
       "\n",
       "        d3.select(\"#review\")\n",
       "            .select(\"#testList\")\n",
       "            .selectAll(\"rect\")\n",
       "            .data(\n",
       "                dataset\n",
       "                    .filter(d => d[0] == x1)\n",
       "                    .filter(d => d[1] == y1),\n",
       "                    function(d){\n",
       "                        return d[3];\n",
       "                    }\n",
       "            )\n",
       "            .enter()\n",
       "            .append(\"li\")\n",
       "            .attr(\"id\", function(d){\n",
       "                return \"text\" + d[3];\n",
       "            })\n",
       "            .html(function(d){\n",
       "                table = \"<table><tr>\"\n",
       "\n",
       "                table += \"<td> True: \";\n",
       "                table += parseInt(d[0]); //getType(d[0]);\n",
       "                table += \"</td>\"\n",
       "\n",
       "                table += \"<td> Predict: \";\n",
       "                table += parseInt(d[1]); //getType(d[1]);\n",
       "                table += \"</td>\"\n",
       "\n",
       "                table += \"<td>\" + d[2].substr(0,200); + \"</td>\"\n",
       "                table += \"</tr> </table>\"\n",
       "\n",
       "                return table;\n",
       "        });\n",
       "\n",
       "        d3.select(\"#review\")\n",
       "            .select(\"testList\")\n",
       "            .selectAll(\"li\")\n",
       "            .on(\"mouseover\", function(d_on){\n",
       "                d3.select(this)\n",
       "                    .classed(\"lighthigh\", true)\n",
       "                    id = this.id;\n",
       "                    rectId = \"#rect\" + id.substring(4);\n",
       "                    d3.selectAll(rectId)\n",
       "                        .attr(\"fill\", \"green\");\n",
       "            })\n",
       "            .on(\"mouseout\", function(d_on){\n",
       "                d3.select(this)\n",
       "                    .classed(\"lighthigh\", false)\n",
       "                    id = this.id;\n",
       "                    rectId = \"#rect\" + id.substring(4);\n",
       "                    d3.selectAll(rectId)\n",
       "                        .attr(\"fill\", \"purple\");\n",
       "        });\n",
       "    });\n",
       "\n",
       "    d3.select(\"#review\")\n",
       "        .select(\"#testList\")\n",
       "        .selectAll(\"li\")\n",
       "        .on(\"mouseover\", function(d_on){\n",
       "            d3.select(this)\n",
       "                .classed(\"lighthigh\", true)\n",
       "                id = this.id;\n",
       "                rectId = \"#rect\" + id.substring(4);\n",
       "                d3.selectAll(rectId)\n",
       "                    .attr(\"fill\", \"green\");\n",
       "        })\n",
       "        .on(\"mouseout\", function(d_on){\n",
       "            d3.select(this)\n",
       "                .classed(\"lighthigh\", false)\n",
       "                id = this.id;\n",
       "                rectId = \"#rect\" + id.substring(4);\n",
       "                d3.selectAll(rectId)\n",
       "                    .attr(\"fill\", \"pink\");\n",
       "    });\n",
       "    });\n",
       "\n",
       " </script>\n"
      ],
      "text/plain": [
       "<IPython.core.display.HTML object>"
      ]
     },
     "execution_count": 21,
     "metadata": {},
     "output_type": "execute_result"
    }
   ],
   "source": [
    "js_text = js_template.substitute({'confusion_data': data,\n",
    "                                  'conf_data_filepath': json_filepath})\n",
    "\n",
    "HTML(html_template.substitute({'css_text': css_text, 'js_text': js_text}))"
   ]
  },
  {
   "cell_type": "code",
   "execution_count": 22,
   "metadata": {
    "colab": {
     "base_uri": "https://localhost:8080/"
    },
    "executionInfo": {
     "elapsed": 4022,
     "status": "ok",
     "timestamp": 1611310420788,
     "user": {
      "displayName": "Junhyeok Jeong",
      "photoUrl": "",
      "userId": "02192780254880206882"
     },
     "user_tz": 480
    },
    "id": "XZhAayfBdd6V",
    "outputId": "b2ec8b6d-5873-4377-b2c6-c70d6d30bb9b"
   },
   "outputs": [],
   "source": [
    "# # this model uses pre-trained Word2Vec from Google\n",
    "# import gensim\n",
    "# from gensim import models\n",
    "# from gensim.models import Word2Vec\n",
    "\n",
    "# from keras.models import Sequential\n",
    "# from keras.layers import Dense\n",
    "# from keras.layers import Flatten\n",
    "# from keras.layers import Embedding\n",
    "# from keras.layers.convolutional import Conv1D\n",
    "# from keras.layers.convolutional import MaxPooling1D\n",
    "\n",
    "# # train word2vec model\n",
    "# model = Word2Vec(train_words, size=100, window=5, workers=8, min_count=1)\n",
    "# # summarize vocabulary size in model\n",
    "# words = list(model.wv.vocab)\n",
    "# print(words)\n",
    "# print('Vocabulary size: %d' % len(words))\n",
    "\n",
    "# filename = 'embedding_word2vec.txt'\n",
    "# model.wv.save_word2vec_format(filename, binary=False)\n",
    "\n",
    "# # load embedding as a dict\n",
    "# def load_embedding(filename):\n",
    "# \t# load embedding into memory, skip first line\n",
    "# \tfile = open(filename,'r')\n",
    "# \tlines = file.readlines()[1:]\n",
    "# \tfile.close()\n",
    "# \t# create a map of words to vectors\n",
    "# \tembedding = dict()\n",
    "# \tfor line in lines:\n",
    "# \t\tparts = line.split()\n",
    "# \t\t# key is string word, value is numpy array for vector\n",
    "# \t\tembedding[parts[0]] = asarray(parts[1:], dtype='float32')\n",
    "# \treturn embedding\n",
    "\n",
    "# # create a weight matrix for the Embedding layer from a loaded embedding\n",
    "# def get_weight_matrix(embedding, vocab):\n",
    "# \t# total vocabulary size plus 0 for unknown words\n",
    "# \tvocab_size = len(vocab) + 1\n",
    "# \t# define weight matrix dimensions with all 0\n",
    "# \tweight_matrix = zeros((vocab_size, 100))\n",
    "# \t# step vocab, store vectors using the Tokenizer's integer mapping\n",
    "# \tfor word, i in vocab.items():\n",
    "# \t\tweight_matrix[i] = embedding.get(word)\n",
    "# \treturn weight_matrix\n",
    "\n",
    "# # load embedding from file\n",
    "# raw_embedding = load_embedding('embedding_word2vec.txt')\n",
    "# # get vectors in the right order\n",
    "# embedding_vectors = get_weight_matrix(raw_embedding, tokenizer.word_index)\n",
    "# # create the embedding layer\n",
    "# embedding_layer = Embedding(vocab_size, 100, weights=[embedding_vectors], input_length=maxlen, trainable=False)\n",
    "\n",
    "# model = Sequential()\n",
    "\n",
    "# model.add(embedding_layer)\n",
    "\n",
    "# model.add(Conv1D(128, 5, activation='relu'))\n",
    "# model.add(MaxPooling1D(pool_size=2))\n",
    "# model.add(Flatten())\n",
    "# model.add(Dense(1, activation='sigmoid'))\n",
    "# model.compile(optimizer='adam', loss='binary_crossentropy', metrics=['acc'])\n",
    "# print(model2.summary())\n",
    "\n",
    "# history = model2.fit(X_train, y_train, batch_size=128, epochs=50, verbose=1)\n",
    "# score = model2.evaluate(X_test, y_test, verbose=0)\n",
    "\n",
    "# print(\"Test Accuracy:\", score[1])"
   ]
  },
  {
   "cell_type": "code",
   "execution_count": 23,
   "metadata": {
    "colab": {
     "base_uri": "https://localhost:8080/",
     "height": 573
    },
    "executionInfo": {
     "elapsed": 876,
     "status": "ok",
     "timestamp": 1611309371157,
     "user": {
      "displayName": "Junhyeok Jeong",
      "photoUrl": "",
      "userId": "02192780254880206882"
     },
     "user_tz": 480
    },
    "id": "tpI2p8_LhYr7",
    "outputId": "adf4980e-c751-4dd9-fddc-7c721f951d23"
   },
   "outputs": [],
   "source": [
    "# plt.plot(history.history['acc'])\n",
    "# plt.plot(history.history['val_acc'])\n",
    "\n",
    "# plt.title('model accuracy')\n",
    "# plt.ylabel('accuracy')\n",
    "# plt.xlabel('epoch')\n",
    "# plt.legend(['train','test'], loc = 'upper left')\n",
    "# plt.show()\n",
    "\n",
    "# plt.plot(history.history['loss'])\n",
    "# plt.plot(history.history['val_loss'])\n",
    "\n",
    "# plt.title('model loss')\n",
    "# plt.ylabel('loss')\n",
    "# plt.xlabel('epoch')\n",
    "# plt.legend(['train','test'], loc = 'upper left')\n",
    "# plt.show()"
   ]
  },
  {
   "cell_type": "code",
   "execution_count": 24,
   "metadata": {
    "id": "PRmKEtfUFobp"
   },
   "outputs": [],
   "source": [
    "# def accuracy(predictions, actual):\n",
    "#     return sum((predictions == actual)) / len(actual)"
   ]
  },
  {
   "cell_type": "code",
   "execution_count": 25,
   "metadata": {
    "id": "qV6Cau4lFobq",
    "outputId": "7e768292-6db9-49df-c3ee-67d998050a90",
    "tags": [
     "outputPrepend"
    ]
   },
   "outputs": [],
   "source": [
    "# train_confidence_scores, trainingPredictions = nbClassifier.predict(training)\n",
    "# test_confidence_scores, testingPredictions = nbClassifier.predict(testing)\n",
    "\n"
   ]
  },
  {
   "cell_type": "code",
   "execution_count": 26,
   "metadata": {
    "colab": {
     "referenced_widgets": [
      "7c02f4784a4748a1a6ca11e2fdf5970f"
     ]
    },
    "id": "Qc1xEghaFobq",
    "outputId": "38513a25-e4ce-45c3-8aa1-d7cbaa281660"
   },
   "outputs": [],
   "source": [
    "# def accuracy_button(arg):\n",
    "#     print(\"Training accuracy:\", accuracy(trainingPredictions, trainingLabels))\n",
    "#     print(\"Testing accuracy:\", accuracy(testingPredictions, testingLabels))\n",
    "\n",
    "# button_download = widgets.Button(description = 'Model Accuracy')   \n",
    "# button_download.on_click(accuracy_button)\n",
    "# display(button_download)"
   ]
  },
  {
   "cell_type": "code",
   "execution_count": 27,
   "metadata": {
    "id": "m5LKjulOFobr",
    "outputId": "ff6af9b9-7ba1-45c3-a3e3-6d23fd31d7e4"
   },
   "outputs": [],
   "source": [
    "# import pandas as pd\n",
    "# import seaborn as sn\n",
    "# import matplotlib.pyplot as plt\n",
    "\n",
    "# data = {'Actual':    testingLabels,\n",
    "#         'Predicted': testingPredictions\n",
    "#         }\n",
    "\n",
    "# df = pd.DataFrame(data, columns=['Actual','Predicted'])\n",
    "# confusion_matrix = pd.crosstab(df['Actual'], df['Predicted'], rownames=['Actual'], colnames=['Predicted'])\n",
    "\n",
    "# sn.heatmap(confusion_matrix, annot=True,cmap=\"YlGnBu\").set_title('Confusion Matrix of Testing')\n",
    "# plt.show()"
   ]
  },
  {
   "cell_type": "code",
   "execution_count": 28,
   "metadata": {
    "id": "5tkMhDd7Fobr",
    "outputId": "4e23dee3-b5ce-4566-b2c4-494e0051687d"
   },
   "outputs": [],
   "source": [
    "# from sklearn.metrics import classification_report\n",
    "\n",
    "# target_names = ['negative', 'positive']\n",
    "# print(classification_report(testingLabels, testingPredictions, target_names=target_names))"
   ]
  },
  {
   "cell_type": "code",
   "execution_count": 29,
   "metadata": {
    "id": "osDesq0QFobr",
    "outputId": "52d9b1a6-48c9-4972-c768-5eeebe457f36",
    "tags": [
     "outputPrepend"
    ]
   },
   "outputs": [],
   "source": [
    "# import json\n",
    "\n",
    "# data = []\n",
    "# for i in range(len(testingPredictions)):\n",
    "#   data.append({\n",
    "#       'index': i,\n",
    "#       'true_label': int(testingLabels[i]),\n",
    "#       'predicted_label': int(testingPredictions[i]),\n",
    "#       'confidence_score': test_confidence_scores[i],\n",
    "#       'text': testingSentences[i]\n",
    "#   })\n",
    "\n",
    "# with open('predcit.json', 'w') as outfile:\n",
    "#     json.dump(data, outfile, indent=4, sort_keys=False)"
   ]
  }
 ],
 "metadata": {
  "colab": {
   "collapsed_sections": [],
   "name": "Text Classification.ipynb",
   "provenance": []
  },
  "kernelspec": {
   "display_name": "Python 3",
   "language": "python",
   "name": "python3"
  },
  "language_info": {
   "codemirror_mode": {
    "name": "ipython",
    "version": 3
   },
   "file_extension": ".py",
   "mimetype": "text/x-python",
   "name": "python",
   "nbconvert_exporter": "python",
   "pygments_lexer": "ipython3",
   "version": "3.8.5"
  },
  "widgets": {
   "application/vnd.jupyter.widget-state+json": {
    "68b9b08dcc394c729203c48ddc74f446": {
     "model_module": "@jupyter-widgets/controls",
     "model_name": "ButtonStyleModel",
     "state": {
      "_model_module": "@jupyter-widgets/controls",
      "_model_module_version": "1.5.0",
      "_model_name": "ButtonStyleModel",
      "_view_count": null,
      "_view_module": "@jupyter-widgets/base",
      "_view_module_version": "1.2.0",
      "_view_name": "StyleView",
      "button_color": null,
      "font_weight": ""
     }
    },
    "a9339ea58d834d4a84ceb920ae325de6": {
     "model_module": "@jupyter-widgets/controls",
     "model_name": "ButtonModel",
     "state": {
      "_dom_classes": [],
      "_model_module": "@jupyter-widgets/controls",
      "_model_module_version": "1.5.0",
      "_model_name": "ButtonModel",
      "_view_count": null,
      "_view_module": "@jupyter-widgets/controls",
      "_view_module_version": "1.5.0",
      "_view_name": "ButtonView",
      "button_style": "",
      "description": "Click to see Vocab",
      "disabled": false,
      "icon": "",
      "layout": "IPY_MODEL_d4b64698bad9425f98d698c7641ed972",
      "style": "IPY_MODEL_68b9b08dcc394c729203c48ddc74f446",
      "tooltip": ""
     }
    },
    "d4b64698bad9425f98d698c7641ed972": {
     "model_module": "@jupyter-widgets/base",
     "model_name": "LayoutModel",
     "state": {
      "_model_module": "@jupyter-widgets/base",
      "_model_module_version": "1.2.0",
      "_model_name": "LayoutModel",
      "_view_count": null,
      "_view_module": "@jupyter-widgets/base",
      "_view_module_version": "1.2.0",
      "_view_name": "LayoutView",
      "align_content": null,
      "align_items": null,
      "align_self": null,
      "border": null,
      "bottom": null,
      "display": null,
      "flex": null,
      "flex_flow": null,
      "grid_area": null,
      "grid_auto_columns": null,
      "grid_auto_flow": null,
      "grid_auto_rows": null,
      "grid_column": null,
      "grid_gap": null,
      "grid_row": null,
      "grid_template_areas": null,
      "grid_template_columns": null,
      "grid_template_rows": null,
      "height": null,
      "justify_content": null,
      "justify_items": null,
      "left": null,
      "margin": null,
      "max_height": null,
      "max_width": null,
      "min_height": null,
      "min_width": null,
      "object_fit": null,
      "object_position": null,
      "order": null,
      "overflow": null,
      "overflow_x": null,
      "overflow_y": null,
      "padding": null,
      "right": null,
      "top": null,
      "visibility": null,
      "width": null
     }
    }
   }
  }
 },
 "nbformat": 4,
 "nbformat_minor": 1
}
