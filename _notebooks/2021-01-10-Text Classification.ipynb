{
 "cells": [
  {
   "cell_type": "markdown",
   "metadata": {
    "azdata_cell_guid": "13509f6f-44c1-47f7-98b4-591aa1f1c062"
   },
   "source": [
    "# Text Classification  \n",
    "\n",
    "> Chapter 1 - learn about using a neural network to classify text using sentiment (positive or negative).\n",
    "\n",
    "- toc: true\n",
    "- branch: master\n",
    "- badges: false\n",
    "- comments: false\n",
    "- annotations: true"
   ]
  },
  {
   "cell_type": "markdown",
   "metadata": {
    "azdata_cell_guid": "51edfc0b-4fb6-4fef-9736-bd551e6e1fc1"
   },
   "source": [
    "# Introduction"
   ]
  },
  {
   "cell_type": "markdown",
   "metadata": {
    "azdata_cell_guid": "66b3dda0-aef7-42e3-adaa-8b0e2772f915"
   },
   "source": [
    "Text classification is the process of assigning tags or categories to text according to its content. It’s one of the fundamental tasks in natural language processing.\n",
    "\n",
    "The text we wanna classify is given as input to an algorithm, the algorithm will then analyze the text’s content, and then categorize the input as one of the tags or categories previously given.\n",
    "\n",
    "**Input → Classifying Algorithm → Classification of Input**\n",
    "\n",
    "Real life examples:\n",
    "\n",
    "- Sentiment analysis: how does the writer of the sentence feel about what they are writing about, do they think positively or negatively of the subject? Ex. restaurant reviews topic labeling: given sentences and a set of topics, which topic does this sentence fall under? Ex. is this essay about history? Math? etc? spam detection Ex. Email filtering: is this email a real important email or spam?\n",
    "\n",
    "Example. A restaurant wants to evaluate their ratings but don’t want to read through all of them. Therefore, they wanna use a computer algorithm to do all their work. They simply want to know if the customer’s review is positive or negative.\n",
    "\n",
    "Here’s an example of a customer’s review and a simple way an algorithm could classify their review.\n",
    "\n",
    "Input: “The food here was too salty and too expensive”\n",
    "\n",
    "Algorithm: Goes through every word in the sentence and counts how many positive words and how many negative words are in the sentence.\n",
    "\n",
    "```\n",
    "    “The, food, here, was, too, and” are all neutral words\n",
    "\n",
    "    “Salty, expensive” are negative words.\n",
    "\n",
    "    Negative words: 2\n",
    "    Positive words: 0\n",
    "```\n",
    "\n",
    "Classification: Negative Review, because there are more negative words (2) than positive (0).\n",
    "\n",
    "However, this algorithm obviously doesn’t work in a lot of cases.\n",
    "\n",
    "For example, “The food here was good, not expensive and not salty” would be classified as negative but it’s actually a positive review.\n",
    "\n",
    "Language and text can get very complicated which makes creating these algorithms difficult. Some things that make language difficult could be words that have multiple meanings, negation words (words such as not), slang, etc."
   ]
  },
  {
   "cell_type": "markdown",
   "metadata": {
    "azdata_cell_guid": "e2e811b1-609e-4a92-97fa-c61508274bb4"
   },
   "source": [
    "# Set up data and imports"
   ]
  },
  {
   "cell_type": "markdown",
   "metadata": {
    "azdata_cell_guid": "d5e32e42-b3b6-4282-999d-acf05252fb06"
   },
   "source": [
    "## Library imports\n",
    "\n",
    "This section of code is to import any necessary Python libraries that we'll need for the rest of this notebook. Some packages may need to be installed since they are not built in to Python3."
   ]
  },
  {
   "cell_type": "code",
   "execution_count": 1,
   "metadata": {
    "azdata_cell_guid": "6305a379-9ec8-4ba3-94e4-e54c9ef30f38"
   },
   "outputs": [
    {
     "data": {
      "text/html": [
       "        <script type=\"text/javascript\">\n",
       "        window.PlotlyConfig = {MathJaxConfig: 'local'};\n",
       "        if (window.MathJax) {MathJax.Hub.Config({SVG: {font: \"STIX-Web\"}});}\n",
       "        if (typeof require !== 'undefined') {\n",
       "        require.undef(\"plotly\");\n",
       "        requirejs.config({\n",
       "            paths: {\n",
       "                'plotly': ['https://cdn.plot.ly/plotly-latest.min']\n",
       "            }\n",
       "        });\n",
       "        require(['plotly'], function(Plotly) {\n",
       "            window._Plotly = Plotly;\n",
       "        });\n",
       "        }\n",
       "        </script>\n",
       "        "
      ]
     },
     "metadata": {},
     "output_type": "display_data"
    },
    {
     "data": {
      "text/html": [
       "<script src=\"https://d3js.org/d3.v3.min.js\" charset=\"utf-8\"></script>"
      ],
      "text/plain": [
       "<IPython.core.display.HTML object>"
      ]
     },
     "execution_count": 1,
     "metadata": {},
     "output_type": "execute_result"
    }
   ],
   "source": [
    "# collapse-hide\n",
    "# !pip3 install seaborn\n",
    "# !pip3 install plotly --user\n",
    "# !pip3 install sklearn\n",
    "\n",
    "import os\n",
    "import sys\n",
    "import string\n",
    "from scipy import sparse\n",
    "from pprint import pprint\n",
    "import pandas as pd\n",
    "import seaborn as sns\n",
    "import plotly.offline as py\n",
    "from plotly.offline import init_notebook_mode, iplot\n",
    "import plotly.graph_objs as go\n",
    "init_notebook_mode(connected = True)\n",
    "import matplotlib.pyplot as plt\n",
    "import numpy as np\n",
    "from html import escape\n",
    "from IPython.core.display import display, HTML\n",
    "from string import Template\n",
    "from sklearn.metrics import classification_report\n",
    "import json\n",
    "\n",
    "HTML('<script src=\"https://d3js.org/d3.v3.min.js\" charset=\"utf-8\"></script>')\n"
   ]
  },
  {
   "cell_type": "markdown",
   "metadata": {
    "azdata_cell_guid": "9a1685b0-0396-4ed6-a19f-a43bf2293859"
   },
   "source": [
    "## Getting our data \n",
    "\n",
    "Below is a definition of getData, a basic function to pull from the `trainingSet.txt` and `testSet.txt`. The data that we're using for this example is a set of reviews written by users on Yelp, classified as positive (1) or negative (0). \n",
    "\n",
    "We open the file, create temporary arrays, and pull from the file line by line.\n",
    "\n",
    "Open the cell if you'd like to peek into what the function looks like."
   ]
  },
  {
   "cell_type": "code",
   "execution_count": 2,
   "metadata": {
    "azdata_cell_guid": "73b2409b-c9e0-4fc0-b5c3-93d0d70e9fc5"
   },
   "outputs": [],
   "source": [
    "# collapse-hide\n",
    "# Our two files that contain our data, split up into a training set and a testing set.\n",
    "\n",
    "trainingFile = \"dataset/trainingSet.txt\"\n",
    "testingFile = \"dataset/testSet.txt\"\n",
    "\n",
    "def getData(fileName):\n",
    "    f = open(fileName)\n",
    "    file = f.readlines()\n",
    "\n",
    "    sentences = []\n",
    "    sentiments = []\n",
    "\n",
    "    for line in file:\n",
    "        sentence, sentiment = line.split('\\t')\n",
    "        sentences.append(sentence.strip())\n",
    "        sentiments.append(int(sentiment.strip())) # Sentiment in {0,1}\n",
    "\n",
    "    return sentences, np.array(sentiments)"
   ]
  },
  {
   "cell_type": "code",
   "execution_count": 3,
   "metadata": {
    "azdata_cell_guid": "ea307c06-6f6f-4e2b-9dad-d353d5d63211",
    "tags": []
   },
   "outputs": [],
   "source": [
    "# get data from the training and testing files using the getData function defined above\n",
    "\n",
    "trainingSentences, trainingLabels = getData(trainingFile)\n",
    "testingSentences, testingLabels = getData(testingFile) "
   ]
  },
  {
   "cell_type": "markdown",
   "metadata": {
    "azdata_cell_guid": "9859f856-7986-472f-a18b-a176e955b7e8"
   },
   "source": [
    "Let's take a peek at what this data looks like:"
   ]
  },
  {
   "cell_type": "code",
   "execution_count": 4,
   "metadata": {
    "azdata_cell_guid": "0e6f77c6-9cee-4b4d-a474-9cd47d057bf7",
    "tags": []
   },
   "outputs": [
    {
     "name": "stdout",
     "output_type": "stream",
     "text": [
      "Sample sentences:\n",
      "['Wow... Loved this place.',\n",
      " 'Not tasty and the texture was just nasty.',\n",
      " 'Stopped by during the late May bank holiday off Rick Steve recommendation '\n",
      " 'and loved it.',\n",
      " 'The selection on the menu was great and so were the prices.',\n",
      " 'Now I am getting angry and I want my damn pho.',\n",
      " \"Honeslty it didn't taste THAT fresh.)\",\n",
      " 'The potatoes were like rubber and you could tell they had been made up ahead '\n",
      " 'of time being kept under a warmer.',\n",
      " 'The fries were great too.',\n",
      " 'A great touch.',\n",
      " 'Service was very prompt.']\n",
      "Corresponding sentiments:\n",
      "[1, 0, 1, 1, 0, 0, 0, 1, 1, 1]\n"
     ]
    }
   ],
   "source": [
    "#collapse-hide \n",
    "\n",
    "f = open(trainingFile)\n",
    "file = f.readlines()\n",
    "\n",
    "sentences = []\n",
    "sentiments = []\n",
    "\n",
    "for line in file:\n",
    "    sentence, sentiment = line.split('\\t')\n",
    "    sentences.append(sentence.strip())\n",
    "    sentiments.append(int(sentiment.strip())) \n",
    "    \n",
    "print(\"Sample sentences:\")\n",
    "pprint(sentences[:10]) \n",
    "print(\"Corresponding sentiments:\")\n",
    "pprint(sentiments[:10]) "
   ]
  },
  {
   "cell_type": "markdown",
   "metadata": {
    "azdata_cell_guid": "38a166de-5063-4638-8c15-19a57e742c68"
   },
   "source": [
    "## Pre-processing our data \n",
    "\n",
    "We need to modify these sentences by tokenizing them into individual strings (word by word) so that we can feed our model individual words and their associated sentiment (negative / positive)."
   ]
  },
  {
   "cell_type": "code",
   "execution_count": 5,
   "metadata": {
    "azdata_cell_guid": "a0954a22-336d-469c-a32d-835d7329ba76"
   },
   "outputs": [],
   "source": [
    "def preProcess(sentences):\n",
    "\n",
    "    def cleanText(text):\n",
    "        # Make lower case\n",
    "        text = text.lower()\n",
    "\n",
    "        # Replace non-text characters with spaces\n",
    "        nonText = string.punctuation + (\"\")\n",
    "        text = text.translate(str.maketrans(nonText, ' ' * (len(nonText))))\n",
    "\n",
    "        # Split sentences into individual words - tokenize\n",
    "        words = text.split()\n",
    "\n",
    "        return words\n",
    "\n",
    "    return list(map(cleanText, sentences))"
   ]
  },
  {
   "cell_type": "code",
   "execution_count": 6,
   "metadata": {
    "azdata_cell_guid": "ad995853-5e2e-4ee7-a51f-b1a9a56561e0"
   },
   "outputs": [],
   "source": [
    "# Process both the training and testing tokens.\n",
    "\n",
    "trainingTokens = preProcess(trainingSentences)\n",
    "testingTokens = preProcess(testingSentences)"
   ]
  },
  {
   "cell_type": "markdown",
   "metadata": {
    "azdata_cell_guid": "55a58566-03ca-4f68-b161-d53318d8b80a"
   },
   "source": [
    "Let's look at what these tokenized sentences look like now:"
   ]
  },
  {
   "cell_type": "code",
   "execution_count": 7,
   "metadata": {
    "azdata_cell_guid": "1e0deff3-61e4-4ad9-b470-e32366be70fb"
   },
   "outputs": [
    {
     "name": "stdout",
     "output_type": "stream",
     "text": [
      "Training tokens:\n",
      "[['wow', 'loved', 'this', 'place'],\n",
      " ['not', 'tasty', 'and', 'the', 'texture', 'was', 'just', 'nasty']]\n",
      "Testing tokens:\n",
      "[['crust', 'is', 'not', 'good'],\n",
      " ['would', 'not', 'go', 'back'],\n",
      " ['i', 'was', 'shocked', 'because', 'no', 'signs', 'indicate', 'cash', 'only']]\n"
     ]
    }
   ],
   "source": [
    "#collapse-hide\n",
    "print(\"Training tokens:\")\n",
    "pprint(trainingTokens[:2]) \n",
    "print(\"Testing tokens:\")\n",
    "pprint(testingTokens[:3]) "
   ]
  },
  {
   "cell_type": "markdown",
   "metadata": {
    "azdata_cell_guid": "b88a3dd5-4436-454c-8ce9-3ada65a8f614"
   },
   "source": [
    "## Vectorizing our data\n",
    "\n",
    "Now that we have our sentences tokenized, notice how our training tokens are nested arrays. We want to pull them out of nested arrays and into just one general vocabulary list."
   ]
  },
  {
   "cell_type": "code",
   "execution_count": 8,
   "metadata": {
    "azdata_cell_guid": "7536bef9-a077-4690-8efe-a380f9ca0874"
   },
   "outputs": [],
   "source": [
    "#collapse-hide\n",
    "\n",
    "def getVocab(sentences):\n",
    "    vocab = set()\n",
    "    for sentence in sentences:\n",
    "        for word in sentence:\n",
    "            vocab.add(word)\n",
    "    return sorted(vocab)"
   ]
  },
  {
   "cell_type": "code",
   "execution_count": 9,
   "metadata": {
    "azdata_cell_guid": "c82b93b2-09b1-466f-881b-5c2730b57388",
    "tags": []
   },
   "outputs": [],
   "source": [
    "# Pull trainingTokens into one vocabulary listed, no nested arrays\n",
    "\n",
    "vocabulary = getVocab(trainingTokens)"
   ]
  },
  {
   "cell_type": "markdown",
   "metadata": {
    "azdata_cell_guid": "c1fa23a6-2e9d-423f-b7e1-b3fb64d422be"
   },
   "source": [
    "We can peek at our vocabulary list, an alphabetically sorted list of words, now at a random set of indices:"
   ]
  },
  {
   "cell_type": "code",
   "execution_count": 10,
   "metadata": {
    "azdata_cell_guid": "582421f1-1e8c-4e5b-9bee-a84b742b7a6a",
    "tags": []
   },
   "outputs": [
    {
     "name": "stdout",
     "output_type": "stream",
     "text": [
      "['amount',\n",
      " 'an',\n",
      " 'and',\n",
      " 'angry',\n",
      " 'another',\n",
      " 'anticipated',\n",
      " 'any',\n",
      " 'anything',\n",
      " 'anytime',\n",
      " 'anyway',\n",
      " 'apologize',\n",
      " 'app',\n",
      " 'appalling',\n",
      " 'appetizers',\n",
      " 'apple',\n",
      " 'approval',\n",
      " 'are',\n",
      " 'area',\n",
      " 'aren',\n",
      " 'aria']\n"
     ]
    }
   ],
   "source": [
    "#collapse-hide\n",
    "\n",
    "pprint(vocabulary[50:70])"
   ]
  },
  {
   "cell_type": "markdown",
   "metadata": {
    "azdata_cell_guid": "93e3c874-f1dc-45b8-9c3e-a1cbaf760660"
   },
   "source": [
    "We want our arrays to actually be proper vectors to feed to our model, which we'll create below as well. This function, ```createVector``` transforms our arrays into vectors. "
   ]
  },
  {
   "cell_type": "code",
   "execution_count": 11,
   "metadata": {
    "azdata_cell_guid": "f25af79b-16e4-49b7-acec-18f489f356a6"
   },
   "outputs": [],
   "source": [
    "def createVector(vocab, sentences):\n",
    "    indices = []\n",
    "    wordOccurrences = []\n",
    "\n",
    "    for sentenceIndex, sentence in enumerate(sentences):\n",
    "        alreadyCounted = set() # Keep track of words so we don't double count.\n",
    "        for word in sentence:\n",
    "            if (word in vocab) and word not in alreadyCounted:\n",
    "                # If we just want {0,1} for the presence of the word (bernoulli NB),\n",
    "                # only count each word once. Otherwise (multinomial NB) count each\n",
    "                # occurrence of the word.\n",
    "                \n",
    "            \n",
    "                #which sentence, which word\n",
    "                indices.append((sentenceIndex, vocab.index(word)))\n",
    "                \n",
    "                wordOccurrences.append(1)\n",
    "                alreadyCounted.add(word)\n",
    "\n",
    "    # Unzip\n",
    "    rows = [row for row, _ in indices]\n",
    "    columns = [column for _, column in indices]\n",
    "\n",
    "    sentenceVectors = sparse.csr_matrix((wordOccurrences, (rows, columns)), dtype=int, shape=(len(sentences), len(vocab)))\n",
    "\n",
    "    return sentenceVectors"
   ]
  },
  {
   "cell_type": "code",
   "execution_count": 12,
   "metadata": {
    "azdata_cell_guid": "a1683930-c447-4f33-ba91-4a8c3f55ea6e"
   },
   "outputs": [],
   "source": [
    "training = createVector(vocabulary, trainingTokens)\n",
    "testing = createVector(vocabulary, testingTokens)"
   ]
  },
  {
   "cell_type": "markdown",
   "metadata": {
    "azdata_cell_guid": "4bbb4757-1f81-4a1c-8341-9879a215fbea"
   },
   "source": [
    "Our training and test data has gone through some transformation. Here's what the training data looks like now:"
   ]
  },
  {
   "cell_type": "code",
   "execution_count": 13,
   "metadata": {
    "azdata_cell_guid": "95527d26-176d-41d6-b90a-3aca0ec7421d"
   },
   "outputs": [
    {
     "name": "stdout",
     "output_type": "stream",
     "text": [
      "Training data:\n",
      "  (0, 694)\t1\n",
      "  (0, 884)\t1\n",
      "  (0, 1186)\t1\n",
      "  (0, 1335)\t1\n",
      "  (1, 52)\t1\n",
      "  (1, 640)\t1\n",
      "  (1, 768)\t1\n",
      "  (1, 788)\t1\n",
      "  (1, 1158)\t1\n",
      "  (1, 1166)\t1\n",
      "  (1, 1171)\t1\n",
      "  (1, 1281)\t1\n"
     ]
    }
   ],
   "source": [
    "#collapse-hide\n",
    "\n",
    "print(\"Training data:\")\n",
    "print(training[:2])"
   ]
  },
  {
   "cell_type": "markdown",
   "metadata": {
    "azdata_cell_guid": "17e17740-7130-4387-93ae-882b87c03e80"
   },
   "source": [
    "# A Naive Bayes model"
   ]
  },
  {
   "cell_type": "markdown",
   "metadata": {
    "azdata_cell_guid": "750df53a-3c17-48ae-a977-7199732afc21"
   },
   "source": [
    "## Creating and Training our Model\n",
    "\n",
    "Below is our Naive Bayes classifier, which is the model we've chosen to use for our sentiment analysis of restaurant reviews."
   ]
  },
  {
   "cell_type": "code",
   "execution_count": 14,
   "metadata": {
    "azdata_cell_guid": "17220d70-73b4-4fe6-a5e4-b4ba2dd08e59",
    "tags": []
   },
   "outputs": [],
   "source": [
    "class NaiveBayesClassifier:\n",
    "    def __init__(self):\n",
    "        self.priorPositive = None  # Probability that a review is positive\n",
    "        self.priorNegative = None  # Probability that a review is negative\n",
    "        self.positiveLogConditionals = None\n",
    "        self.negativeLogConditionals = None\n",
    "\n",
    "    def computePriorProbabilities(self, labels):\n",
    "        self.priorPositive = len([y for y in labels if y == 1]) / len(labels)\n",
    "        self.priorNegative = 1 - self.priorPositive\n",
    "\n",
    "    def computeConditionProbabilities(self, examples, labels, dirichlet=1):\n",
    "        _, vocabularyLength = examples.shape\n",
    "\n",
    "        # How many of each word are there in all of the positive reviews\n",
    "        positiveCounts = np.array([dirichlet for _ in range(vocabularyLength)])\n",
    "        # How many of each word are there in all of the negative reviews\n",
    "        negativeCounts = np.array([dirichlet for _ in range(vocabularyLength)])\n",
    "\n",
    "        # Here's how to iterate through a spare array\n",
    "        coordinates = examples.tocoo()  # Converted to a `coordinate` format\n",
    "        for exampleIndex, featureIndex, observationCount in zip(coordinates.row, coordinates.col, coordinates.data):\n",
    "            # For sentence {exampleIndex}, for word at index {featureIndex}, the word occurred {observationCount} times\n",
    "            if labels[exampleIndex] == 1:\n",
    "                positiveCounts[featureIndex] += observationCount\n",
    "            else:\n",
    "                negativeCounts[featureIndex] += observationCount\n",
    "\n",
    "        # [!] Make sure to use the logs of the probabilities\n",
    "        positiveReviewCount = len([y for y in labels if y == 1])\n",
    "        negativeReviewCount = len([y for y in labels if y == 0])\n",
    "\n",
    "        # We are using bernoulli NB (single occurance of a word)\n",
    "        self.positiveLogConditionals = np.log(positiveCounts) - np.log(positiveReviewCount + dirichlet*2)\n",
    "        self.negativeLogConditionals = np.log(negativeCounts) - np.log(negativeReviewCount + dirichlet*2)\n",
    "\n",
    "        # This works for multinomial NB (multiple occurances of a word)\n",
    "        # self.positiveLogConditionals = np.log(positiveCounts) - np.log(sum(positiveCounts))\n",
    "        # self.negativeLogConditionals = np.log(negativeCounts) - np.log(sum(negativeCounts))\n",
    "\n",
    "    # Calculate all of the parameters for making a naive bayes classification\n",
    "    def fit(self, trainingExamples, trainingLabels):\n",
    "        # Compute the probability of positive/negative review\n",
    "        self.computePriorProbabilities(trainingLabels)\n",
    "\n",
    "        # Compute\n",
    "        self.computeConditionProbabilities(trainingExamples, trainingLabels)\n",
    "\n",
    "    def computeLogPosteriors(self, sentence):\n",
    "        return ((np.log(self.priorPositive) + sum(sentence * self.positiveLogConditionals)),\n",
    "                (np.log(self.priorNegative) + sum(sentence * self.negativeLogConditionals)))\n",
    " \n",
    "    # Have the model try predicting if a review if positive or negative\n",
    "    def predict(self, examples):\n",
    "        totalReviewCount, _ = examples.shape\n",
    "        conf_list = []\n",
    "\n",
    "        predictions = np.array([0 for _ in range(totalReviewCount)])\n",
    "\n",
    "        for index, sentence in enumerate(examples):\n",
    "            logProbabilityPositive, logProbabilityNegative = self.computeLogPosteriors(\n",
    "                sentence)\n",
    "            #conf_list.append([np.exp(logProbabilityPositive), np.exp(logProbabilityNegative)])\n",
    "            conf_list.append([logProbabilityPositive, logProbabilityNegative])\n",
    "            predictions[index] = 1 if logProbabilityPositive > logProbabilityNegative else 0\n",
    "\n",
    "        return conf_list, predictions"
   ]
  },
  {
   "cell_type": "markdown",
   "metadata": {
    "azdata_cell_guid": "168fc97b-dd2a-46cf-8e79-3934ca77e2b3"
   },
   "source": [
    "Initialize an instance of model and begin to fit the model with our training data and corresponding labels."
   ]
  },
  {
   "cell_type": "code",
   "execution_count": 15,
   "metadata": {
    "azdata_cell_guid": "65960622-8f88-49d2-aebe-53ffce20d0bb"
   },
   "outputs": [],
   "source": [
    "nbClassifier = NaiveBayesClassifier()\n",
    "nbClassifier.fit(training, trainingLabels)"
   ]
  },
  {
   "cell_type": "code",
   "execution_count": 16,
   "metadata": {
    "azdata_cell_guid": "15eea9e6-790e-4ada-bd84-26de239c8295"
   },
   "outputs": [],
   "source": [
    "# determine the accuracy of our model\n",
    "\n",
    "def accuracy(predictions, actual):\n",
    "    return sum((predictions == actual)) / len(actual)"
   ]
  },
  {
   "cell_type": "markdown",
   "metadata": {
    "azdata_cell_guid": "53d3f21a-63f5-4f29-b7bf-ae1a888370c9"
   },
   "source": [
    "Let's take our model for a spin, using both the training set and the testing set. You may notice discrepencies in accuracy between training and testing - _why is that_?"
   ]
  },
  {
   "cell_type": "code",
   "execution_count": 17,
   "metadata": {
    "azdata_cell_guid": "48ca6a8b-5d89-44f0-a018-78a890bb1916"
   },
   "outputs": [
    {
     "name": "stdout",
     "output_type": "stream",
     "text": [
      "[[-13.200955413413602, -12.213291200460402], [-14.1889900501466, -11.556511664071332], [-17.39109104027738, -12.950353230826606], [-6.747209283153796, -8.012315406048119], [-12.993316048635357, -14.762736371385973], [-16.580346853268175, -16.799931962765594], [-5.776665300802244, -6.331961856944993], [-28.330633801191684, -35.73835873751923], [-18.29959963170948, -16.615178301003024], [-41.41539307226255, -41.539671952762944], [-7.912863223177595, -7.809953098370718], [-25.61994283634735, -23.936674750050734], [-49.647588361574186, -48.324084886693534], [-12.468587519700375, -14.379744119129867], [-3.0423954428645987, -3.1762137841113462], [-24.99530942203551, -22.735648865136643], [-27.606407391521902, -25.12122991663615], [-30.077509432662275, -30.854924222411], [-45.16205024293761, -48.80515951458946], [-10.44411504814196, -12.152666578643968], [-8.307857031418465, -7.542311776802382], [-28.236478914427437, -35.54143117863411], [-51.27836060823633, -49.640230759700565], [-56.43996341426638, -53.79356844680534], [-19.287397554037298, -16.277262355320335], [-28.262454400830695, -29.812070767228416], [-38.5096330765812, -39.00190181341789], [-32.74420554548496, -30.423209424124533], [-42.7673903160858, -40.07580351239354], [-17.988114569907037, -18.222593968056355], [-10.674980645550082, -10.007177675706938], [-47.08845039014697, -40.49236079996525], [-61.90385283583164, -55.433892363450795], [-24.86019972709348, -22.495245629653752], [-32.98217163148917, -33.74680730750771], [-49.68384627601363, -50.22165789880881], [-47.30931387817311, -43.63600187067991], [-36.386297205147706, -35.38214156424539], [-24.654591843321505, -22.29196254420828], [-22.616293733146442, -23.92359106020012], [-13.602366251193725, -16.64208575392295], [-37.152466623341475, -32.45303551465914], [-21.33640002333899, -19.07634867089219], [-19.26986188649506, -17.622915006934676], [-7.6712821554700055, -7.635779996240645], [-9.711747154428735, -8.248404705475188], [-27.957384314345997, -28.805814446467203], [-50.4037856028834, -56.3518063696789], [-28.86522434725811, -26.12324774250495], [-2.556887627082898, -3.581678892219511], [-11.280118901910406, -11.128045555588045], [-13.508840193182902, -12.456077953004293], [-17.322098168790426, -16.413244181494104], [-34.564533540695564, -32.62160566995836], [-51.03887684958854, -47.07670467530023], [-35.8627649301126, -32.00262727507119], [-17.75346719411134, -20.39977779450913], [-71.4027573087405, -67.78901177689005], [-61.662144651828356, -66.74651332104786], [-10.246045134379866, -10.860763701811328], [-16.682195502749295, -12.518991778414861], [-54.127322309260684, -53.296072139334804], [-4.611011360778444, -6.220736221834769], [-17.95462072753394, -18.989958380535224], [-25.30167513443594, -26.553336173527335], [-41.87284595982835, -44.29067409512464], [-16.825296346389965, -11.983473542058498], [-40.20977456402694, -39.68261514106333], [-19.99859966267464, -23.91910003374178], [-19.24590864547257, -14.630521634646197], [-22.11940969674788, -20.281513874015396], [-61.58091374524489, -62.24802907484385], [-34.33174541535123, -32.02277728571984], [-11.409195944185548, -12.182519541793647], [-40.18510295961925, -36.9071519338433], [-28.769128001688284, -22.853568057100674], [-6.754991423595851, -8.397920048287542], [-59.52662498321684, -57.36291333222409], [-44.11252831679832, -44.02155336540401], [-48.49528373946331, -46.01009652731553], [-17.348002086003177, -16.95692759472508], [-38.982522428403705, -38.60079947308319], [-52.327596623506544, -44.37370195672572], [-62.12226685724546, -51.477501412656096], [-9.909572897758654, -7.457515240142305], [-51.212086360988366, -49.25929742893418], [-65.67063099220643, -67.74156223331698], [-24.540573264920564, -27.36429140730988], [-19.155725406220245, -18.944490561902285], [-51.81644408961008, -50.16559774577839], [-26.899236484846277, -26.94155947520099], [-8.944201329387933, -12.189656887841187], [-14.579467634091436, -15.098830811634937], [-37.843374664485715, -37.991537116477666], [-10.326918121714037, -14.185407819674204], [-18.28385127474134, -16.979821414590933], [-42.7742670100781, -43.10021417398401], [-31.532022354200766, -32.62648098432154], [-80.79760539244857, -68.67093735669258], [-15.980749519374655, -12.411361114222498], [-10.379332356572217, -9.245217908674746], [-8.1178134285306, -8.937495085339519], [-6.482284197824631, -9.947175718916846], [-11.797309460835507, -12.865674225072652], [-73.14040683717333, -67.02901067676544], [-11.595185276745372, -10.872175113193542], [-59.59634226897655, -53.96686241279347], [-45.89998177235699, -36.54599239574699], [-34.85508925747463, -32.869554448360304], [-31.663953584233642, -33.51546372604623], [-38.02973691485929, -42.126748559717825], [-61.058009493399716, -56.20137937666255], [-25.663980942148424, -21.83084786237979], [-44.93416038356004, -40.98208625169116], [-51.78713157748866, -52.09026406362839], [-51.10559165579259, -48.50318369498301], [-20.031885989791178, -24.13285441905455], [-34.064363701698916, -25.73540288859488], [-16.526093602790773, -16.54265185693476], [-39.70711952139424, -31.854393684886237], [-46.68242372750843, -42.777738761292134], [-15.519044692943613, -16.54636571453078], [-40.51957023240235, -35.74933754845631], [-21.493403772148653, -18.975442505583747], [-73.41802197156714, -65.34512463297986], [-9.97386724846405, -11.630041099905764], [-12.437039161965451, -11.59165121035412], [-11.063607874156325, -10.593700916562284], [-56.64656653139537, -47.89413774164848], [-19.695707614277694, -20.085662464989195], [-19.240008923345385, -17.430543114287218], [-37.915360052166186, -32.820947124617405], [-40.17664084083679, -38.44474249662595], [-25.289654647581813, -25.4471730148175], [-12.200323533105696, -17.018801448745126], [-9.63649151851618, -12.026515293317068], [-37.98032386940361, -35.57070715804948], [-51.07096541389027, -42.85519628192912], [-73.3140764636077, -64.37409112368226], [-38.36029004385981, -38.17714434269915], [-28.271903570798518, -26.15736356672192], [-24.992179529026583, -25.302620467978947], [-27.752250032908957, -26.714130669803513], [-18.49942303163347, -16.8427564493851], [-26.810854055130562, -29.21235344921003], [-6.97813497491006, -8.32892717680059], [-27.103519817787127, -24.430936766124116], [-9.197958676656636, -10.649031561879331], [-34.59392216187743, -37.828658324481744], [-29.02613174064425, -30.699431800801882], [-70.34060085155318, -70.64423614702056], [-16.745920552760904, -18.989072421701852], [-18.282555493812186, -19.14978875289649], [-17.510661386507856, -17.107654786100817], [-20.156299655219534, -16.074922760352145], [-80.22184293133844, -75.97388395527314], [-41.089065899861325, -40.88419807796796], [-29.869771771362664, -32.56578824387119], [-9.677313513036435, -10.881382989014064], [-8.105978970883594, -11.959375990479439], [-30.27304148890739, -28.81538389748335], [-32.35475354416463, -30.79992511894671], [-4.9066596497563095, -4.834261575700172], [-24.192582310275032, -24.39579721984133], [-28.775358322892387, -32.22560886995133], [-18.515021136929775, -21.52488767650932], [-32.426754912298115, -36.753769702262986], [-34.16972421735674, -31.023669919289414], [-11.781375074660247, -9.379327837618558], [-17.557664240103193, -17.62493725231544], [-24.459728953997686, -22.61448468430569], [-7.076359553702438, -9.249274709370361], [-44.79836294016545, -44.61074841320892], [-26.199724293877367, -24.235663893417208], [-28.249404788396372, -29.104919538584458], [-46.57704636518468, -49.34516529522173], [-52.439724107467924, -48.64625247540808], [-30.71157194276711, -31.270277709938593], [-32.016737802358634, -26.4154354372741], [-40.664418805153026, -39.654745314765734], [-12.928777527497786, -13.368311884182834], [-29.24796273383818, -27.679652367465057], [-12.279141500883338, -11.46758000898055], [-11.765626717692108, -8.32892717680059], [-7.895565679222627, -11.901974815389405], [-30.758841701592786, -30.73923105027445], [-17.908885333359464, -15.80298466073992], [-47.993454706552356, -49.962176016944355], [-42.082025275967915, -44.10411753187629], [-33.730078873913946, -32.156777954898445], [-46.565436502061054, -39.47481494103649], [-17.210800964489692, -18.20255321717291], [-15.310286340817836, -14.90641575134594], [-29.811581148302995, -28.522176949099606], [-34.66594750343791, -29.048566148219724], [-8.603321244312301, -9.918324338351246], [-45.238013556592264, -40.89641752517062], [-15.439001985270078, -16.2078712325288], [-29.142139364946708, -23.743724321083988], [-30.457254699641716, -27.544850326639075], [-17.75003613275065, -17.632484457950824], [-62.4859390916193, -63.607714637316384], [-25.85667355320787, -24.705193326811173], [-61.314370835679206, -56.76079116170785], [-16.588529073731568, -14.14427569929904], [-6.2204492732125445, -3.6557868643732325], [-15.86021545034638, -13.330571556199985], [-14.667292482207028, -13.183968082008109], [-13.565352403446248, -14.2373237790881], [-45.2522969658738, -42.17781994553595], [-7.334809918848793, -8.89691121440653], [-21.43631480516453, -21.733105577606853], [-32.00969951697512, -32.69123185368941], [-26.245588701098555, -25.556728272908696], [-11.07247953713216, -9.93836508923469], [-13.341692189759396, -10.96344794206837], [-29.3091853327597, -32.54407420935312], [-42.85261438250134, -33.25867150071744], [-56.56094712371975, -54.98514974149372], [-11.573979880314177, -10.468537773608277], [-13.713134115639058, -17.632484457950824], [-10.198056573459773, -11.934738686094054], [-25.413392994102885, -21.125966782270368], [-29.544349370928035, -33.54678617361435], [-24.465215154478113, -30.933046651983382], [-25.060301121861844, -27.292957362038884], [-77.15849821223024, -69.84144389837034], [-14.818115371941612, -14.43799447455025], [-32.58365289277567, -30.46254350580427], [-4.966570855633311, -6.526117871385951], [-23.629601694524005, -24.638222700704986], [-11.70500209587567, -16.140900606422615], [-30.45107065178604, -31.619225163227238], [-22.386222147837668, -21.76848183829482], [-39.363082575691195, -37.11425297667487], [-17.546287493786146, -17.201521256843666], [-27.33519268446287, -28.321506253637452], [-26.271394849947193, -25.87081858486242], [-13.665843941992566, -14.629204978761452], [-37.286995563175985, -33.543872726600185], [-41.112294085614295, -39.772599375671625], [-8.630132501762958, -8.472028020441265], [-26.32499684452558, -29.07727076854658], [-28.36754794323571, -27.455238167949393], [-19.640913912772053, -24.032610125248976], [-33.98034752851335, -35.296622180709456], [-22.356449989503997, -22.893411435280303], [-11.368127826110026, -12.646235005322197], [-13.7430335806837, -12.537340917083059], [-8.587572887344162, -6.893842651511268], [-5.527302092652599, -4.274826072779455], [-62.311312912923334, -55.843611013630394], [-31.362897628473718, -30.72779080426614], [-24.900616150205632, -24.553312795518455], [-4.141007731532708, -4.611298309400668], [-20.582872391394783, -19.06993417172051], [-52.64663646385355, -45.6075311472644], [-22.86419199360949, -24.555815925736567], [-42.94978699589373, -38.156139646406096], [-10.900215772218704, -9.989351765153042], [-14.140716548349808, -16.546185429516072], [-13.17748305722846, -14.51385404807368], [-36.887849192128364, -37.79217473156008], [-57.847607915211846, -63.06049042734942], [-19.26986188649506, -22.40035641386322], [-34.04440516481357, -27.916812192474715], [-10.156188805258004, -7.481629316413387], [-30.46860827245137, -29.32896055462123], [-22.44297852853318, -23.330855598174768], [-49.26238864050516, -43.357491699590526], [-27.79228209485352, -27.51685973468709], [-34.84231552896568, -37.076056781420895], [-36.46038324806675, -36.13222848482414], [-26.55890236803422, -25.69095490839404], [-49.69134921897092, -44.943289831110455], [-12.980070821885338, -12.557381667966503], [-34.055113179086035, -30.41398893485453], [-22.082053370305758, -24.473919649413713], [-11.756755054716269, -10.881382989014064], [-28.824479120227338, -26.522680463611366], [-16.969877575201075, -14.688045478784385], [-41.107120827938715, -43.449792993966675], [-31.264696312636755, -30.79739104669848], [-56.71502865384485, -51.8764091202181], [-13.285452471436518, -14.531462693988512], [-9.741392369720955, -8.893820021836856], [-35.147952688668404, -35.49729287617161], [-39.21982439503845, -38.274583851914535], [-32.6713480304757, -31.84605755457125], [-72.23368555631532, -69.60131577534973], [-16.766936731204385, -13.684743369920598], [-10.667014429023997, -9.427539465468701], [-52.41024011288015, -44.81084057235178], [-24.016971209251327, -30.627820269880694], [-24.42045679150369, -24.35409649064239], [-22.477222547162405, -25.373123842301858], [-40.37632546393131, -38.22394011909578], [-19.954804183000654, -17.74475484328667], [-28.38184476469896, -28.404586424069358], [-79.23093271293881, -73.63959523709568], [-25.840123592990388, -23.83024669638609], [-18.446028265442827, -16.054299089020827], [-25.06189940890615, -20.241687415234313], [-35.34132408164895, -29.915585831087096], [-18.31090670262417, -20.339775837719042], [-27.837088912845985, -27.525060886019844], [-32.317903225147695, -32.72137020011207], [-8.630132501762958, -8.472028020441265], [-86.79746083703428, -81.93827924568068], [-10.102944290739195, -13.90730838491552], [-32.72505220944756, -29.80709430995022], [-37.5963566343939, -37.53233429907925], [-63.91691950507727, -59.444035381693226], [-30.389872985037076, -30.627774262197406], [-21.65997501885138, -20.515128725196902], [-16.76100199568457, -17.134562239020745], [-25.28486757582083, -26.257926437452213], [-41.19209812575955, -36.50945535512244], [-8.424524617990983, -10.252557368468029], [-20.576397671211975, -22.803378312576825], [-26.735702697295157, -23.31430597195333], [-4.83806881141379, -8.32892717680059], [-20.627985370648254, -21.994891305755054], [-34.25001109546245, -33.99447221445652], [-21.396884274148523, -20.132178816217746], [-27.572785098920875, -33.697434222890415], [-17.974434466002958, -16.437322283307047], [-44.49517436301174, -41.79290309938102], [-20.32479911166051, -18.955071121534782], [-12.140320167133517, -12.035506208013928], [-19.282933968062416, -15.021598005302263], [-26.732275189757924, -26.449263275117904], [-8.060858535603128, -11.091044599173078], [-9.686429346444445, -11.959375990479439], [-6.44750672384789, -7.778880839881319], [-18.51502113692978, -16.034258338137384], [-32.370428731241894, -30.557723090739294], [-9.4787899816662, -11.86423448740656], [-18.61028481483914, -24.063861547567598], [-43.95933417367286, -46.09938738441404], [-35.13921882842818, -34.47405571642558], [-7.0679913040319216, -8.154735746089887], [-11.76587088812428, -12.966903576770282], [-13.475223582383915, -13.225211040542161], [-42.607572185343365, -45.60875654557332], [-35.11718103000165, -31.954433975801678], [-48.339198686170725, -44.54887455918887], [-26.677823152695904, -23.354617048293363], [-34.73358999103432, -37.00197975129728], [-21.546728547542475, -21.99763707484225], [-14.55414982610715, -17.633747881997596], [-33.40411210495809, -34.42229053394784], [-30.400802055569265, -28.875235506122632], [-10.954696501475777, -10.32378944645941], [-27.734185025511323, -24.80393860335028], [-21.283957112069515, -23.243629536770403], [-67.35266029949547, -78.3021366423622], [-12.315917225043552, -10.529162395424713], [-19.89744725692875, -24.728657566146136], [-14.364721797261499, -18.559246489692274], [-83.1296778380226, -79.46678774327337], [-16.55039977690022, -17.88118649624841], [-21.354179861313398, -20.495642144457864], [-35.34702210276358, -32.97074152511188], [-27.077863259787144, -27.46980719041619], [-34.91166156208612, -31.603259541620037], [-18.72308324532032, -20.206244445094516], [-61.37702925666787, -53.54270622138923], [-32.83864628557104, -30.5918508770144], [-49.72103869694125, -47.31284555021069], [-45.301406423489375, -46.383628519989784], [-28.45637548046498, -24.805197643268475], [-35.03147607874877, -33.84123875263335], [-42.10005740122467, -43.21028132727356], [-37.34436947103681, -33.90422091590522], [-43.55372161586029, -39.130011838384995], [-15.661101672250723, -20.103626914289308], [-14.174002525983273, -17.559639909843877], [-20.181215430059396, -19.07802195452681], [-15.609145192497646, -16.71735518284383], [-27.696879294685978, -28.662880701164287], [-13.822262817231273, -11.23989989331886], [-20.281706968605718, -20.6763842306479], [-8.769894444138114, -7.481629316413388], [-45.23286754029733, -42.73034001097855], [-29.610735296987848, -29.231843533573112], [-37.29453353318588, -32.05159772425532], [-40.54736224973201, -36.44929008236458], [-11.171795532246474, -13.664804586316766], [-28.337108870857566, -28.103445198243573], [-34.87740052193548, -33.703003528111985], [-15.524108149811738, -14.095485535129608], [-15.341607686138335, -16.702189677992653], [-51.05973485961184, -51.22843552245396], [-18.381618082868822, -17.959748818751514], [-21.099842568543313, -17.099422692737953], [-57.36996864891451, -51.632525259361955], [-29.908161976308776, -36.00814944196771], [-16.76858562389467, -25.28073775672944], [-65.3442112293332, -59.90147019750073], [-12.466740114778137, -13.05170011343036], [-8.412716086894065, -13.125127581985176], [-10.220727326395576, -10.970416611384461], [-21.695764126702965, -22.342606277027038], [-10.674980645550082, -8.908565387038827], [-9.677313513036435, -10.881382989014064], [-26.37871806057865, -25.2082387632582], [-10.45183709423587, -8.551890443100095], [-26.791721138696694, -21.263101948361115], [-35.11759387716527, -34.38337045192899], [-23.477535134024166, -19.66121562569098], [-20.058319246859334, -18.752298954269538], [-53.959009654645534, -48.45370752190062], [-48.561756128256484, -47.10920802940162], [-22.89568461382395, -23.54304550877166], [-10.997256115894572, -10.531428811237653], [-61.24794413917488, -53.27317179362951], [-26.072384871500766, -25.79719037636056], [-39.1147828077839, -40.60794060357534], [-30.032773538820877, -29.83269005443115], [-17.190420344815227, -12.444883806261139], [-14.24166170450427, -12.506088373578955], [-53.02976766215071, -50.41153455886092], [-24.746046459487676, -20.349243321455575], [-17.579113806966564, -23.13599887257804], [-60.11408833558712, -54.20105580029427], [-29.867576380799225, -25.768260678059875], [-30.360216775454187, -22.824580520227425], [-27.63075454883865, -25.051871166734376], [-72.43619846514763, -65.95429873799303], [-13.060524798328807, -15.134095867007625], [-37.92282480851005, -41.61878269391982], [-30.620558250599906, -33.73681689247776], [-29.470981291191386, -28.45157160749708], [-36.74401619209417, -43.19517211016705], [-32.29268111552226, -32.34174284370583], [-10.16913231971526, -10.154713116415476], [-30.555027858410494, -29.705831516891905], [-7.740275026956957, -8.63908210510443], [-25.46735640016414, -24.097794099194083], [-9.97386724846405, -10.631512269794637], [-20.310406586194528, -21.674674937171766], [-14.417425860752068, -12.833942878982194], [-14.602753961069457, -12.297870472481417], [-42.7225160043606, -41.22822843019257], [-15.062768584467339, -14.182496912119237], [-12.219741618962797, -16.718215971457436], [-30.852094473840754, -28.503700672932027], [-35.54823643803457, -33.438572588974125], [-16.375141002640632, -18.16025083748222], [-15.498425405740878, -11.212161588649218], [-23.976359201805394, -25.692479422271532], [-71.1860424420794, -72.42432983533305], [-63.65046281378348, -57.34717658353921], [-37.19675664573814, -33.12138957438794], [-47.74849762228056, -40.12630930347455], [-36.47322234795052, -32.56721952028481], [-6.393899167030663, -7.6157392453572], [-23.840968929416267, -24.004847986684634], [-29.715621091535407, -25.62809513918604], [-51.998305981950985, -45.59747642728233], [-48.15248234521829, -42.274581760207255], [-9.973867248464053, -9.65068301678291], [-48.54853533932238, -45.240582414815925], [-22.80459066078174, -17.03798141101496], [-29.72980082073092, -26.661436833996028], [-32.16278741334056, -30.57150451053165], [-14.76160316167827, -14.065515865438392], [-23.155451634855055, -21.39069860546583], [-36.90375914048771, -34.33174090342742], [-10.789860921548502, -9.484038791707588], [-49.44851887222914, -46.625415840531495], [-55.808382496000796, -57.676534299292825], [-24.26019682179186, -22.089780521545585], [-24.440345881533215, -22.238485467540553], [-53.1982032955646, -52.142523723932634], [-33.23353627860288, -33.977442756252316], [-71.75106027432977, -67.90618533419705], [-37.75497090019605, -33.86599158623484], [-22.751926091764307, -19.763081352280455], [-19.81397348789452, -14.094096601992934], [-17.11312867051358, -14.300279947775621], [-57.09161614522645, -49.73617444920198], [-63.98169474062001, -58.206945276465255], [-27.261724767942432, -23.979601203949855], [-24.2737726817074, -23.604907754508446], [-22.234625747815507, -20.331307029951], [-14.802611185405649, -14.126311249998928], [-62.90423405994308, -56.91555570401309], [-26.552149023527402, -24.9567296636615], [-54.22166183839748, -50.296114832708675], [-22.117604354570073, -19.659815084271045], [-27.540005837562973, -27.692770456715703], [-30.69706787171244, -28.98059602178045], [-12.629718708728959, -11.663383506929701], [-27.099065467437747, -24.868232954055674], [-35.29967126352705, -31.640784533796815]]\n"
     ]
    }
   ],
   "source": [
    "# run our training and test using the Naive Bayes classifier\n",
    "\n",
    "train_confidence_scores, trainingPredictions = nbClassifier.predict(training)\n",
    "test_confidence_scores, testingPredictions = nbClassifier.predict(testing)\n",
    "print(test_confidence_scores)"
   ]
  },
  {
   "cell_type": "code",
   "execution_count": 18,
   "metadata": {},
   "outputs": [
    {
     "name": "stdout",
     "output_type": "stream",
     "text": [
      "[[0.87364678 0.88526104]\n",
      " [0.86191805 0.89359982]\n",
      " [0.82390667 0.87590296]\n",
      " [0.95025768 0.93859859]\n",
      " [0.87611162 0.85289209]\n",
      " [0.83353082 0.82702691]\n",
      " [0.96177878 0.95993315]\n",
      " [0.69404593 0.58657579]\n",
      " [0.81312197 0.82937262]\n",
      " [0.53871984 0.5129196 ]\n",
      " [0.93642048 0.94116788]\n",
      " [0.7262239  0.73641548]\n",
      " [0.44099738 0.42678152]\n",
      " [0.88234055 0.85775474]\n",
      " [0.99423665 1.        ]\n",
      " [0.73363878 0.75166427]\n",
      " [0.70264305 0.72137582]\n",
      " [0.67330918 0.64857815]\n",
      " [0.49424415 0.42067358]\n",
      " [0.90637258 0.88603076]\n",
      " [0.9317316  0.94456598]\n",
      " [0.69516362 0.58907607]\n",
      " [0.42163887 0.41007112]\n",
      " [0.3603667  0.3573384 ]\n",
      " [0.80139606 0.83366296]\n",
      " [0.69485527 0.66181871]\n",
      " [0.57321343 0.54514032]\n",
      " [0.64165346 0.65405941]\n",
      " [0.52267059 0.53150556]\n",
      " [0.81681954 0.80896412]\n",
      " [0.90363203 0.91327089]\n",
      " [0.47137631 0.52621675]\n",
      " [0.29550616 0.33651209]\n",
      " [0.73524264 0.75471654]\n",
      " [0.63882862 0.61186145]\n",
      " [0.44056698 0.40268905]\n",
      " [0.46875449 0.48630362]\n",
      " [0.59841905 0.59109849]\n",
      " [0.73768336 0.75729752]\n",
      " [0.76187952 0.7365816 ]\n",
      " [0.86888173 0.82903099]\n",
      " [0.58932403 0.62828779]\n",
      " [0.77707283 0.79812446]\n",
      " [0.80160422 0.81657793]\n",
      " [0.93928823 0.94337926]\n",
      " [0.91506635 0.93560109]\n",
      " [0.69847669 0.67459461]\n",
      " [0.43202075 0.32485782]\n",
      " [0.68769993 0.70865373]\n",
      " [1.         0.99485203]\n",
      " [0.89644858 0.89903983]\n",
      " [0.86999195 0.88217851]\n",
      " [0.82472566 0.83193647]\n",
      " [0.62004478 0.62614754]\n",
      " [0.42448173 0.44261885]\n",
      " [0.60463378 0.63400638]\n",
      " [0.81960498 0.78132158]\n",
      " [0.1827469  0.17964571]\n",
      " [0.29837542 0.19288176]\n",
      " [0.90872382 0.90243336]\n",
      " [0.8323218  0.88137972]\n",
      " [0.38781952 0.36365485]\n",
      " [0.97561598 0.96134532]\n",
      " [0.81721714 0.79922131]\n",
      " [0.73000199 0.70319313]\n",
      " [0.53328952 0.47799159]\n",
      " [0.83062308 0.88817891]\n",
      " [0.55303145 0.53649766]\n",
      " [0.79295355 0.73663862]\n",
      " [0.80188856 0.85457075]\n",
      " [0.76777791 0.78282311]\n",
      " [0.29933969 0.24999662]\n",
      " [0.62280815 0.63375055]\n",
      " [0.89491633 0.88565173]\n",
      " [0.55332432 0.57173624]\n",
      " [0.68884067 0.75016711]\n",
      " [0.9501653  0.93370278]\n",
      " [0.32372567 0.31202033]\n",
      " [0.50670278 0.48140848]\n",
      " [0.45467612 0.456161  ]\n",
      " [0.82441816 0.82503362]\n",
      " [0.56759987 0.5502329 ]\n",
      " [0.40918364 0.47693743]\n",
      " [0.29291341 0.38674427]\n",
      " [0.91271801 0.9456426 ]\n",
      " [0.4224256  0.41490763]\n",
      " [0.25079162 0.18024816]\n",
      " [0.73903685 0.69289686]\n",
      " [0.80295911 0.79979859]\n",
      " [0.41525141 0.40340082]\n",
      " [0.71103771 0.69826406]\n",
      " [0.9241777  0.88556111]\n",
      " [0.85728278 0.84862488]\n",
      " [0.58112242 0.55796838]\n",
      " [0.9077638  0.86022213]\n",
      " [0.81330892 0.82474295]\n",
      " [0.52258896 0.49310623]\n",
      " [0.656043   0.62608564]\n",
      " [0.07122287 0.16844837]\n",
      " [0.8406485  0.88274625]\n",
      " [0.9071416  0.92294509]\n",
      " [0.93398756 0.92685208]\n",
      " [0.95340254 0.9140327 ]\n",
      " [0.89030913 0.87697808]\n",
      " [0.16211967 0.18929504]\n",
      " [0.8927085  0.90228848]\n",
      " [0.32289807 0.35513818]\n",
      " [0.48548434 0.57632169]\n",
      " [0.61659566 0.62299947]\n",
      " [0.65447688 0.6147987 ]\n",
      " [0.57891016 0.5054658 ]\n",
      " [0.30554696 0.32676771]\n",
      " [0.72570114 0.76315205]\n",
      " [0.49694938 0.51999897]\n",
      " [0.41559937 0.37896435]\n",
      " [0.42368977 0.4245076 ]\n",
      " [0.79255841 0.73392469]\n",
      " [0.62598217 0.71357799]\n",
      " [0.83417485 0.83029345]\n",
      " [0.55899835 0.63588842]\n",
      " [0.47619616 0.49720053]\n",
      " [0.84612929 0.8302463 ]\n",
      " [0.54935394 0.58643639]\n",
      " [0.77520908 0.79940561]\n",
      " [0.15882417 0.21067445]\n",
      " [0.91195478 0.89266626]\n",
      " [0.88271505 0.89315367]\n",
      " [0.89901873 0.90582412]\n",
      " [0.35791416 0.43224033]\n",
      " [0.79654911 0.78530974]\n",
      " [0.8019586  0.81902037]\n",
      " [0.5802679  0.62361661]\n",
      " [0.55342477 0.55221427]\n",
      " [0.73014468 0.71723749]\n",
      " [0.88552504 0.82424804]\n",
      " [0.91595969 0.88763244]\n",
      " [0.57949673 0.58870437]\n",
      " [0.42410081 0.49621709]\n",
      " [0.16005808 0.22300314]\n",
      " [0.57498624 0.55561182]\n",
      " [0.6947431  0.70822058]\n",
      " [0.73367593 0.7190728 ]\n",
      " [0.70091179 0.7011516 ]\n",
      " [0.81074992 0.82648319]\n",
      " [0.71208688 0.669433  ]\n",
      " [0.94751641 0.93457874]\n",
      " [0.70861271 0.7301401 ]\n",
      " [0.92116541 0.90512161]\n",
      " [0.61969591 0.56003637]\n",
      " [0.68578984 0.65055236]\n",
      " [0.19535551 0.14339445]\n",
      " [0.83156533 0.79923256]\n",
      " [0.8133243  0.79719203]\n",
      " [0.82248727 0.82311991]\n",
      " [0.79108153 0.83623196]\n",
      " [0.07805761 0.07572675]\n",
      " [0.54259359 0.52124181]\n",
      " [0.67577519 0.62685622]\n",
      " [0.9154751  0.90217157]\n",
      " [0.93412804 0.88848487]\n",
      " [0.67098807 0.67447311]\n",
      " [0.64627655 0.64927645]\n",
      " [0.97210641 0.97894865]\n",
      " [0.74316777 0.73058625]\n",
      " [0.68876671 0.6311753 ]\n",
      " [0.81056476 0.76703666]\n",
      " [0.64542184 0.57368365]\n",
      " [0.62473146 0.64643568]\n",
      " [0.89049828 0.92124236]\n",
      " [0.82192931 0.81655225]\n",
      " [0.73999653 0.75320263]\n",
      " [0.94635041 0.92289358]\n",
      " [0.4985614  0.47392778]\n",
      " [0.71934146 0.73261938]\n",
      " [0.69501018 0.67079703]\n",
      " [0.47744707 0.41381741]\n",
      " [0.4078526  0.42269113]\n",
      " [0.66578237 0.64330463]\n",
      " [0.65028906 0.70494398]\n",
      " [0.54763447 0.53685151]\n",
      " [0.87687774 0.87059636]\n",
      " [0.68315654 0.68889289]\n",
      " [0.88458941 0.89472894]\n",
      " [0.89068523 0.93457874]\n",
      " [0.93662581 0.88921366]\n",
      " [0.66522125 0.65004705]\n",
      " [0.81776005 0.83968461]\n",
      " [0.46063322 0.40598355]\n",
      " [0.5308064  0.4803602 ]\n",
      " [0.62995039 0.63204921]\n",
      " [0.47758488 0.53913599]\n",
      " [0.82604685 0.80921857]\n",
      " [0.84860741 0.85106787]\n",
      " [0.67646595 0.6781958 ]\n",
      " [0.61884091 0.67151252]\n",
      " [0.92822421 0.91439901]\n",
      " [0.49334241 0.52108666]\n",
      " [0.84707946 0.83454399]\n",
      " [0.68441274 0.73886527]\n",
      " [0.66880131 0.6906044 ]\n",
      " [0.81964571 0.81645643]\n",
      " [0.28859635 0.23273342]\n",
      " [0.72341373 0.72665801]\n",
      " [0.30250376 0.31966516]\n",
      " [0.83343369 0.86074436]\n",
      " [0.95651072 0.99391112]\n",
      " [0.84207933 0.87107553]\n",
      " [0.85624024 0.87293687]\n",
      " [0.86932111 0.85956298]\n",
      " [0.49317285 0.50481738]\n",
      " [0.94328241 0.92736735]\n",
      " [0.77588677 0.76439303]\n",
      " [0.65037261 0.62526353]\n",
      " [0.71879701 0.71584653]\n",
      " [0.89891341 0.91414457]\n",
      " [0.87197613 0.90112964]\n",
      " [0.68242978 0.62713192]\n",
      " [0.52165892 0.61805905]\n",
      " [0.35893053 0.34220953]\n",
      " [0.89296022 0.90741325]\n",
      " [0.86756683 0.81645643]\n",
      " [0.90929348 0.88879767]\n",
      " [0.72867581 0.77210155]\n",
      " [0.6796382  0.61440102]\n",
      " [0.7399314  0.64758628]\n",
      " [0.73286728 0.69380255]\n",
      " [0.11442185 0.15358708]\n",
      " [0.85444985 0.85701517]\n",
      " [0.64355934 0.65356   ]\n",
      " [0.97139522 0.95746805]\n",
      " [0.74985078 0.7275083 ]\n",
      " [0.89140489 0.83539428]\n",
      " [0.66887472 0.63887423]\n",
      " [0.76461064 0.76394387]\n",
      " [0.56308233 0.56910679]\n",
      " [0.82206437 0.82192814]\n",
      " [0.70586258 0.68074361]\n",
      " [0.71849067 0.71185869]\n",
      " [0.8681282  0.85458747]\n",
      " [0.58772707 0.61443801]\n",
      " [0.54231785 0.53535518]\n",
      " [0.92790594 0.93276187]\n",
      " [0.71785437 0.67114807]\n",
      " [0.69360773 0.69174216]\n",
      " [0.79719955 0.73519744]\n",
      " [0.62697951 0.59218428]\n",
      " [0.76496406 0.74966124]\n",
      " [0.89540384 0.87976418]\n",
      " [0.8672119  0.88114675]\n",
      " [0.92841116 0.95279925]\n",
      " [0.96473891 0.9860515 ]\n",
      " [0.29066929 0.33131011]\n",
      " [0.65805064 0.6501923 ]\n",
      " [0.73476286 0.72858636]\n",
      " [0.98119528 0.9817795 ]\n",
      " [0.78601778 0.7982059 ]\n",
      " [0.40539639 0.46127216]\n",
      " [0.75893677 0.72855458]\n",
      " [0.52050541 0.55587851]\n",
      " [0.90095832 0.91349722]\n",
      " [0.8624911  0.83024859]\n",
      " [0.87392541 0.85605202]\n",
      " [0.59246524 0.56049958]\n",
      " [0.34365688 0.23968123]\n",
      " [0.80160422 0.7559213 ]\n",
      " [0.6262191  0.6858818 ]\n",
      " [0.90979049 0.94533643]\n",
      " [0.66866654 0.6679525 ]\n",
      " [0.7639369  0.74410725]\n",
      " [0.44557    0.48983971]\n",
      " [0.70043658 0.69095978]\n",
      " [0.61674729 0.56959175]\n",
      " [0.59753959 0.58157503]\n",
      " [0.71507774 0.71414232]\n",
      " [0.44047791 0.46970568]\n",
      " [0.87626885 0.88089231]\n",
      " [0.62609198 0.65417647]\n",
      " [0.76822136 0.72959437]\n",
      " [0.89079054 0.90217157]\n",
      " [0.68818361 0.70358235]\n",
      " [0.82890679 0.8538404 ]\n",
      " [0.54237926 0.48866781]\n",
      " [0.65921637 0.64930862]\n",
      " [0.35710147 0.38167956]\n",
      " [0.87264373 0.85582845]\n",
      " [0.91471444 0.9274066 ]\n",
      " [0.61311914 0.58963647]\n",
      " [0.56478291 0.55437469]\n",
      " [0.64251833 0.63599426]\n",
      " [0.17288315 0.15663586]\n",
      " [0.83131585 0.8665788 ]\n",
      " [0.9037266  0.92063025]\n",
      " [0.4082026  0.47138732]\n",
      " [0.7452524  0.65146157]\n",
      " [0.74046272 0.7311157 ]\n",
      " [0.7635304  0.71817765]\n",
      " [0.55105436 0.55501768]\n",
      " [0.79347343 0.81503099]\n",
      " [0.69343802 0.67968879]\n",
      " [0.08982047 0.10536397]\n",
      " [0.72361019 0.73776674]\n",
      " [0.81138375 0.83649381]\n",
      " [0.73284831 0.78332877]\n",
      " [0.61082368 0.66050443]\n",
      " [0.81298775 0.78208339]\n",
      " [0.69990469 0.69085566]\n",
      " [0.64671399 0.62488088]\n",
      " [0.92790594 0.93276187]\n",
      " [0.         0.        ]\n",
      " [0.91042254 0.86375301]\n",
      " [0.64188082 0.66188189]\n",
      " [0.58405472 0.56379863]\n",
      " [0.27160952 0.28559743]\n",
      " [0.66960119 0.65146216]\n",
      " [0.77323175 0.77985703]\n",
      " [0.8313863  0.82277828]\n",
      " [0.7302015  0.70694379]\n",
      " [0.54137052 0.57678558]\n",
      " [0.93034666 0.91015543]\n",
      " [0.78609464 0.75080434]\n",
      " [0.71297898 0.74431737]\n",
      " [0.97292064 0.93457874]\n",
      " [0.78548226 0.76106927]\n",
      " [0.6237784  0.60871699]\n",
      " [0.77635484 0.78471914]\n",
      " [0.70304217 0.61248832]\n",
      " [0.81698193 0.83163077]\n",
      " [0.50216048 0.50970446]\n",
      " [0.78908131 0.79966425]\n",
      " [0.88623733 0.88751828]\n",
      " [0.80144904 0.84960546]\n",
      " [0.71301967 0.70451448]\n",
      " [0.93466366 0.89950961]\n",
      " [0.91536689 0.88848487]\n",
      " [0.95381538 0.94156239]\n",
      " [0.81056476 0.83674826]\n",
      " [0.64609048 0.65235156]\n",
      " [0.91783173 0.88969283]\n",
      " [0.8094339  0.73480066]\n",
      " [0.50852131 0.45502732]\n",
      " [0.61322282 0.60262797]\n",
      " [0.94644975 0.93679036]\n",
      " [0.89068233 0.87569283]\n",
      " [0.87039101 0.87241323]\n",
      " [0.52456776 0.4612566 ]\n",
      " [0.61348443 0.63461826]\n",
      " [0.45652897 0.47471336]\n",
      " [0.71366606 0.74380556]\n",
      " [0.61803795 0.57053226]\n",
      " [0.77457607 0.76103441]\n",
      " [0.85758333 0.81644039]\n",
      " [0.63381986 0.6032852 ]\n",
      " [0.66947145 0.67371321]\n",
      " [0.90031159 0.90925104]\n",
      " [0.70112623 0.7254043 ]\n",
      " [0.77769537 0.74521471]\n",
      " [0.23082465 0.04616617]\n",
      " [0.88415286 0.90664353]\n",
      " [0.7941543  0.7263601 ]\n",
      " [0.85983198 0.80468983]\n",
      " [0.04353939 0.03137921]\n",
      " [0.83388631 0.81329879]\n",
      " [0.77686177 0.78010444]\n",
      " [0.61075604 0.62171475]\n",
      " [0.70891727 0.69155718]\n",
      " [0.6159241  0.63907694]\n",
      " [0.8080949  0.78377877]\n",
      " [0.30175995 0.36052347]\n",
      " [0.64053238 0.65191826]\n",
      " [0.44012547 0.43962069]\n",
      " [0.49258989 0.45141847]\n",
      " [0.69255328 0.72538831]\n",
      " [0.61450181 0.61066251]\n",
      " [0.53059235 0.49170876]\n",
      " [0.587046   0.60986286]\n",
      " [0.51333624 0.54351377]\n",
      " [0.84444296 0.78508165]\n",
      " [0.86209597 0.8173813 ]\n",
      " [0.79078576 0.79810321]\n",
      " [0.84505973 0.82807534]\n",
      " [0.70156908 0.67640936]\n",
      " [0.86627138 0.89761967]\n",
      " [0.78959285 0.77780966]\n",
      " [0.92624686 0.94533643]\n",
      " [0.4934035  0.49780232]\n",
      " [0.67885015 0.66918555]\n",
      " [0.58763759 0.63338463]\n",
      " [0.54902403 0.57754947]\n",
      " [0.89773446 0.86683195]\n",
      " [0.69396907 0.68351222]\n",
      " [0.61633081 0.61241761]\n",
      " [0.84606918 0.86136382]\n",
      " [0.8482356  0.82826789]\n",
      " [0.42423413 0.38990653]\n",
      " [0.81214835 0.81230133]\n",
      " [0.77988095 0.82322443]\n",
      " [0.34932683 0.38477602]\n",
      " [0.67531947 0.5831504 ]\n",
      " [0.83129628 0.71935063]\n",
      " [0.25466647 0.27978963]\n",
      " [0.88236248 0.87461621]\n",
      " [0.93048684 0.87368394]\n",
      " [0.90902436 0.90104116]\n",
      " [0.77280691 0.75665452]\n",
      " [0.90363203 0.92721938]\n",
      " [0.9154751  0.90217157]\n",
      " [0.71721666 0.72027111]\n",
      " [0.90628091 0.9317479 ]\n",
      " [0.712314   0.77036041]\n",
      " [0.61347953 0.60377935]\n",
      " [0.75165592 0.79069871]\n",
      " [0.79224463 0.80223874]\n",
      " [0.38981752 0.42513577]\n",
      " [0.45388704 0.44220617]\n",
      " [0.75856293 0.74141318]\n",
      " [0.89980637 0.90661475]\n",
      " [0.30329229 0.3639456 ]\n",
      " [0.72085307 0.71279351]\n",
      " [0.56602984 0.5247493 ]\n",
      " [0.67384023 0.66155692]\n",
      " [0.82628878 0.88232063]\n",
      " [0.8612928  0.88154355]\n",
      " [0.40084833 0.40027829]\n",
      " [0.73659772 0.78196319]\n",
      " [0.82167469 0.74658124]\n",
      " [0.31675203 0.35216475]\n",
      " [0.67580125 0.71316081]\n",
      " [0.66995323 0.75053515]\n",
      " [0.70235403 0.72225643]\n",
      " [0.17047916 0.20294009]\n",
      " [0.8753138  0.84817714]\n",
      " [0.58017929 0.51191518]\n",
      " [0.66686278 0.6119883 ]\n",
      " [0.68050913 0.67909224]\n",
      " [0.59417265 0.4919006 ]\n",
      " [0.6470134  0.62970081]\n",
      " [0.90963684 0.91139771]\n",
      " [0.66764067 0.66316757]\n",
      " [0.93846923 0.93064087]\n",
      " [0.72803522 0.73436984]\n",
      " [0.91195478 0.90534405]\n",
      " [0.78925216 0.76513489]\n",
      " [0.85920634 0.87738096]\n",
      " [0.85700636 0.88418718]\n",
      " [0.52320329 0.51687383]\n",
      " [0.85154563 0.86025908]\n",
      " [0.88529454 0.82806441]\n",
      " [0.66411427 0.67843039]\n",
      " [0.60836747 0.61577495]\n",
      " [0.83596677 0.80975566]\n",
      " [0.84637405 0.89797185]\n",
      " [0.7457345  0.71412297]\n",
      " [0.18531947 0.12079355]\n",
      " [0.27477256 0.31222013]\n",
      " [0.58879828 0.61980205]\n",
      " [0.46354104 0.53086432]\n",
      " [0.59738718 0.62683805]\n",
      " [0.95445174 0.94363371]\n",
      " [0.74734168 0.73554992]\n",
      " [0.67760507 0.71494042]\n",
      " [0.41309257 0.46139982]\n",
      " [0.45874544 0.50358884]\n",
      " [0.91195478 0.91779711]\n",
      " [0.45404398 0.46593111]\n",
      " [0.75964429 0.82400452]\n",
      " [0.67743675 0.70182063]\n",
      " [0.64855534 0.65217658]\n",
      " [0.8551207  0.86174433]\n",
      " [0.7554793  0.76874039]\n",
      " [0.59227638 0.60443486]\n",
      " [0.90226831 0.91991291]\n",
      " [0.44336049 0.44834862]\n",
      " [0.36786405 0.30803845]\n",
      " [0.74236513 0.75986452]\n",
      " [0.74022662 0.75797649]\n",
      " [0.39884887 0.37830084]\n",
      " [0.63584473 0.6089332 ]\n",
      " [0.17861228 0.17815802]\n",
      " [0.58217185 0.61034824]\n",
      " [0.76026946 0.78940538]\n",
      " [0.7951452  0.86138146]\n",
      " [0.82720629 0.85876366]\n",
      " [0.35263108 0.40885298]\n",
      " [0.27084058 0.30130411]\n",
      " [0.7067347  0.73587047]\n",
      " [0.74220397 0.74062775]\n",
      " [0.76641021 0.78219092]\n",
      " [0.8546339  0.86097244]\n",
      " [0.28363087 0.31770019]\n",
      " [0.7151579  0.72346439]\n",
      " [0.38669964 0.40174371]\n",
      " [0.76779934 0.79071649]\n",
      " [0.70343129 0.68872634]\n",
      " [0.66595455 0.6723755 ]\n",
      " [0.8804278  0.89224293]\n",
      " [0.70866559 0.72458798]\n",
      " [0.61131813 0.6386005 ]]\n"
     ]
    }
   ],
   "source": [
    "from sklearn.preprocessing import MinMaxScaler\n",
    "\n",
    "# scaling confidence scores to range between 0 and 1 with MinMaxScaler \n",
    "scaler = MinMaxScaler(feature_range=[0, 1])\n",
    "scaler.fit(test_confidence_scores)\n",
    "test_confidence_scores = scaler.transform(test_confidence_scores)\n",
    "print(test_confidence_scores)"
   ]
  },
  {
   "cell_type": "code",
   "execution_count": 19,
   "metadata": {
    "azdata_cell_guid": "4abd7d0b-f009-4fcb-bbcf-92ef339ffa73",
    "tags": []
   },
   "outputs": [
    {
     "name": "stdout",
     "output_type": "stream",
     "text": [
      "Training accuracy: 0.9519038076152304\n",
      "Testing accuracy: 0.7947686116700201\n"
     ]
    }
   ],
   "source": [
    "#collapse-hide\n",
    "print(\"Training accuracy:\", accuracy(trainingPredictions, trainingLabels))\n",
    "print(\"Testing accuracy:\", accuracy(testingPredictions, testingLabels))"
   ]
  },
  {
   "cell_type": "markdown",
   "metadata": {
    "azdata_cell_guid": "8ad9abfb-46b3-4a23-a3a7-f13924cf2aac"
   },
   "source": [
    "## Visualizing Results\n",
    "\n",
    "Here's another to visualize our results using a confusion matrix."
   ]
  },
  {
   "cell_type": "code",
   "execution_count": 20,
   "metadata": {
    "azdata_cell_guid": "04e2d67d-41a2-47a5-9504-6b8a02cd331a",
    "tags": []
   },
   "outputs": [
    {
     "data": {
      "image/png": "[encoded data removed]",
      "text/plain": [
       "<Figure size 432x288 with 2 Axes>"
      ]
     },
     "metadata": {
      "needs_background": "light"
     },
     "output_type": "display_data"
    }
   ],
   "source": [
    "#collapse-hide\n",
    "\n",
    "data = {'Actual':    testingLabels,\n",
    "        'Predicted': testingPredictions\n",
    "        }\n",
    "\n",
    "df = pd.DataFrame(data, columns=['Actual','Predicted'])\n",
    "confusion_matrix = pd.crosstab(df['Actual'], df['Predicted'], rownames=['Actual'], colnames=['Predicted'])\n",
    "\n",
    "ax = sns.heatmap(confusion_matrix, annot=True,cmap=\"YlGnBu\", fmt='d')\n",
    "ax.set_ylim(2.0, 0)\n",
    "\n",
    "plt.title('Confusion Matrix of Testing')\n",
    "plt.show()"
   ]
  },
  {
   "cell_type": "markdown",
   "metadata": {
    "azdata_cell_guid": "03641042-6d20-485f-af4f-cb781092da6a"
   },
   "source": [
    "## A Closer Look \n",
    "\n",
    "Let's look at the general results for our model - notably, we can look at its precision for predicting negative and positive sentiment in a given sentence."
   ]
  },
  {
   "cell_type": "code",
   "execution_count": 21,
   "metadata": {
    "azdata_cell_guid": "a8f1107c-edf7-434e-b4bf-9357b2d39e9e"
   },
   "outputs": [
    {
     "name": "stdout",
     "output_type": "stream",
     "text": [
      "              precision    recall  f1-score   support\n",
      "\n",
      "    negative       0.74      0.91      0.82       251\n",
      "    positive       0.88      0.68      0.77       246\n",
      "\n",
      "    accuracy                           0.79       497\n",
      "   macro avg       0.81      0.79      0.79       497\n",
      "weighted avg       0.81      0.79      0.79       497\n",
      "\n"
     ]
    }
   ],
   "source": [
    "target_names = ['negative', 'positive']\n",
    "print(classification_report(testingLabels, testingPredictions, target_names=target_names))"
   ]
  },
  {
   "cell_type": "markdown",
   "metadata": {
    "azdata_cell_guid": "d9da7c80-9581-4910-a39c-233435906799"
   },
   "source": [
    "Now, we want to make an interactive confusion matrix so we can precisely see which results are accurately classified and which are mis-classified, as well as the confidence at which the model has classified that result. "
   ]
  },
  {
   "cell_type": "code",
   "execution_count": 22,
   "metadata": {
    "azdata_cell_guid": "8341b403-049a-4deb-935a-0007ffb43f90",
    "tags": []
   },
   "outputs": [],
   "source": [
    "# collapse-hide\n",
    "\n",
    "# work with the model results to create a JSON dump of the data for future use\n",
    "\n",
    "import json\n",
    "\n",
    "output_directory = \"libraries/\"\n",
    "output_filename = \"predict.json\"\n",
    "full_path = os.path.join(output_directory, output_filename)\n",
    "\n",
    "data = []\n",
    "for i in range(len(testingPredictions)):\n",
    "  data.append({\n",
    "      'index': i,\n",
    "      'true_label': int(testingLabels[i]),\n",
    "      'predicted_label': int(testingPredictions[i]),\n",
    "      'confidence_score': (test_confidence_scores.tolist())[i],\n",
    "      'text': testingSentences[i]\n",
    "  })\n",
    "\n",
    "with open(full_path, 'w') as outfile:\n",
    "    json.dump(data, outfile, indent=4, sort_keys=False)"
   ]
  },
  {
   "cell_type": "code",
   "execution_count": 23,
   "metadata": {},
   "outputs": [],
   "source": [
    "module_path = os.path.abspath(os.path.join('..'))\n",
    "if module_path not in sys.path:\n",
    "    sys.path.append(module_path)\n",
    "    \n",
    "    \n",
    "import libraries.mlvislib as mlvs"
   ]
  },
  {
   "cell_type": "code",
   "execution_count": 24,
   "metadata": {},
   "outputs": [
    {
     "data": {
      "text/html": [
       "<script src=\"https://d3js.org/d3.v3.min.js\" charset=\"utf-8\"></script>"
      ],
      "text/plain": [
       "<IPython.core.display.HTML object>"
      ]
     },
     "metadata": {},
     "output_type": "display_data"
    },
    {
     "data": {
      "text/html": [
       "\n",
       "\t\t<style> \n",
       "\t\tbody {\n",
       "\t\t    font-family: Arial, sans-serif;\n",
       "\t\t    font-size: larger;\n",
       "\t\t}\n",
       "\t\t.box_highlighted { \n",
       "\t\t    background-color: #ffb; \n",
       "\t\t    border: 1px solid #b53;\n",
       "\t\t}\n",
       "\t\t.highlight{\n",
       "\t\t    background-color: yellow;\n",
       "\t\t}\n",
       "\t\t.lighthigh{\n",
       "\t\t    background-color: green;\n",
       "\t\t}\n",
       "\t\tli{\n",
       "\t\t    font-size: smaller;\n",
       "\t\t}\n",
       "\t\ttd{\n",
       "\t\t    min-width: 100px;\n",
       "\t\t}\n",
       "\t\t#review{\n",
       "\t\t    border:1px solid pink; \n",
       "\t\t    padding: 5px; \n",
       "\t\t    float: left; \n",
       "\t\t    width: 750px; \n",
       "\t\t    height: 500px; \n",
       "\t\t    background-color: white;\n",
       "\t\t    margin: 20px;\n",
       "\t\t    overflow: scroll;\n",
       "\t\t    }\n",
       "\n",
       "\t\t#matrix{\n",
       "\t\t    border:1px solid pink; \n",
       "\t\t    padding: 5px; \n",
       "\t\t    float: left;\n",
       "\t\t    margin: 20px;\n",
       "\t\t}\n",
       "\n",
       "\n",
       "\t\t#slider {\n",
       "\t\t  -webkit-appearance: none;\n",
       "\t\t  width: 100%;\n",
       "\t\t  height: 15px;\n",
       "\t\t  border-radius: 5px;  \n",
       "\t\t  background: #d3d3d3;\n",
       "\t\t  outline: none;\n",
       "\t\t  opacity: 0.7;\n",
       "\t\t  -webkit-transition: .2s;\n",
       "\t\t  transition: opacity .2s;\n",
       "\t\t}\n",
       "\n",
       "\t\t#slider::-webkit-slider-thumb {\n",
       "\t\t  -webkit-appearance: none;\n",
       "\t\t  appearance: none;\n",
       "\t\t  width: 25px;\n",
       "\t\t  height: 25px;\n",
       "\t\t  border-radius: 50%; \n",
       "\t\t  background: #4ca2af;\n",
       "\t\t  cursor: pointer;\n",
       "\t\t}\n",
       "\n",
       "\t\t#slider::-moz-range-thumb {\n",
       "\t\t  width: 25px;\n",
       "\t\t  height: 25px;\n",
       "\t\t  border-radius: 50%;\n",
       "\t\t  background: #4ca2af;\n",
       "\t\t  cursor: pointer;\n",
       "\t\t}\n",
       "\t\t </style>\n",
       "\t\t<h1> Interactive Confusion Matrix </h1>\n",
       "\t\t<input id=\"slider\" type=\"range\" min=\"0\" max=\"1\" step=\".1\" value=\".5\"/>\n",
       "\t\t<div>\n",
       "\t\t<h2 id=\"textInput\"> 0.5 </h2>\n",
       "\t\t<div>\n",
       "\n",
       "\t\t<div id=\"matrix\"> </div>\n",
       "\t\t<div id=\"review\">\n",
       "\t\t\tData \n",
       "\t\t\t<ul id = \"testList\"></ul>\n",
       "\t\t</div>\n",
       "\t\t<script> \n",
       "\t\tconsole.log(\"Loading JavaScript...\")\n",
       "\n",
       "\t\tconsole.log(\"Loaded Data:\")\n",
       "\t\td3.json( \"predict.json\", function(d) {\n",
       "\t\t    console.log(d)\n",
       "\t\t})\n",
       "\n",
       "\t\t/* I've temporarily left out the 'getType' function, since the names of these\n",
       "\t\ttypes are not included in the JSON file that is given to the JavaScript. More functionality can be incldued later to bring the names in as well as the raw data. Type will be represented by the given numeric identifier for now. */\n",
       "\n",
       "\t\t/* extractTypes: identifies different types each data point can be identified\n",
       "\t\tas, based off of the 'true_label' attribute in JSON file\n",
       "\t\tgiven: JSON file\n",
       "\t\treturns: dictionary of possible values for 'true_label' */\n",
       "\t\tfunction extractTypes(data){\n",
       "\t\t    var lookup = {};\n",
       "\t\t    var items = data\n",
       "\t\t    var result = [];\n",
       "\n",
       "\t\t    for (var item, i=0; item = items[i++];){\n",
       "\t\t        var name = item.true_label;\n",
       "\n",
       "\t\t        if(!(name in lookup)){\n",
       "\t\t            lookup[name] = 1;\n",
       "\t\t            result.push(name);\n",
       "\t\t        }\n",
       "\t\t    }\n",
       "\n",
       "\t\t    return lookup;\n",
       "\t\t}\n",
       "\n",
       "\t\td3.select(\"#slider\").on(\"change\", function() {\n",
       "\t\t    d3.select(\"svg\").remove()\n",
       "\t\t    var currentValue = this.value;\n",
       "\t\t    d3.select(\"#textInput\").text(currentValue)\n",
       "\t\t    d3.json(\"predict.json\", function(d) {\n",
       "\t\t        console.log(d); // Ensuring that data is properly read in.\n",
       "\t\t        console.log(Object.keys(extractTypes(d))); // Logging list of possible types\n",
       "\n",
       "\t\t        // # of Categories x # of Categories Table\n",
       "\t\t        tableDimension = Object.keys(extractTypes(d)).length\n",
       "\t\t        var table = new Array(tableDimension);\n",
       "\t\t        var dataset = [];\n",
       "\t\t        for(var i=0; i<tableDimension; i++){\n",
       "\t\t            table[i] = new Array(tableDimension);\n",
       "\t\t            for(var j=0; j<tableDimension; j++){\n",
       "\t\t                table[i][j] = 0;\n",
       "\t\t            }\n",
       "\t\t        }\n",
       "\n",
       "\t\t        // Filling out table with prediction counts and recording dataset\n",
       "\t\t        /* Code is currently dependent on JSON having the data points: \n",
       "\t\t        \"true_label\" and \"predicted_label\" */\n",
       "\t\t        for(var i=0; i<d.length; i+=1){ // i+=1 or i++ ?\n",
       "\t\t            var ugh = d[i][\"confidence_score\"][0];\n",
       "\t\t            console.log(ugh)\n",
       "\t\t            if (ugh < currentValue ){\n",
       "\t\t                table[parseInt(d[i][\"true_label\"])][parseInt(d[i][\"predicted_label\"])]+=1;\n",
       "\t\t                dataset.push([d[i][\"true_label\"], d[i][\"predicted_label\"], d[i][\"text\"], d[i][\"index\"]]);\n",
       "\t\t            }\n",
       "\t\t        }\n",
       "\n",
       "\t\t        console.log(table); // Reporting current state of table values.\n",
       "\n",
       "\t\t        var w = 750;\n",
       "\t\t        var h = 700; // These are dimensions?\n",
       "\n",
       "\t\t        // Create SVG element\n",
       "\t\t        var svg = d3.select(\"body\") // This could be problematic later\n",
       "\t\t                    .select(\"#matrix\")\n",
       "\t\t                    .append(\"svg\")\n",
       "\t\t                    .attr(\"width\", w)\n",
       "\t\t                    .attr(\"height\", h);\n",
       "\n",
       "\t\t        var rect = svg.selectAll(\"rect\")\n",
       "\t\t                      .data(dataset)\n",
       "\t\t                      .enter()\n",
       "\t\t                      .append(\"rect\");\n",
       "\n",
       "\t\t        // Give these a more descriptive name later\n",
       "\t\t        var counters = new Array(tableDimension * tableDimension).fill(0);\n",
       "\t\t        var ycounters = new Array(tableDimension * tableDimension).fill(0);\n",
       "\n",
       "\t\t        var confusing = h / tableDimension;\n",
       "\n",
       "\t\t        // JSON Object Format Guide: \n",
       "\t\t        // d[0] = true_label ; d[1] = predicted_label ; d[2] = text\n",
       "\t\t        rect.attr(\"x\", function (d, i){\n",
       "\t\t            var matrixnum = (parseInt(d[1]) * tableDimension) + parseInt(d[0]);\n",
       "\t\t            var inmatrixcol = counters[matrixnum] % 16;\n",
       "\n",
       "\t\t            counters[matrixnum]++;\n",
       "\n",
       "\t\t            return 10 + (d[0] * confusing) + (inmatrixcol * 16);\n",
       "\n",
       "\t\t            })\n",
       "\t\t            .attr(\"y\", function(d, i){\n",
       "\t\t                var matricvol = d[1];\n",
       "\t\t                var matrixnum = (parseInt(d[1] * tableDimension) + parseInt(d[0]));\n",
       "\t\t                var hm = Math.floor(ycounters[matrixnum]/16);\n",
       "\n",
       "\t\t                ycounters[matrixnum]++;\n",
       "\n",
       "\t\t                return 10 + (d[1] * confusing) + (hm * 16);\n",
       "\t\t            })\n",
       "\t\t            .attr(\"id\", function(d){\n",
       "\t\t                return \"rect\" + d[3];\n",
       "\t\t            })\n",
       "\t\t            .attr(\"width\", function(d){\n",
       "\t\t                return 15;\n",
       "\t\t            })\n",
       "\t\t            .attr(\"height\", function(d){\n",
       "\t\t                return 15;\n",
       "\t\t            })\n",
       "\t\t            .attr(\"opacity\", function(d){\n",
       "\t\t                return .85;\n",
       "\t\t            })\n",
       "\t\t            .attr(\"fill\", function(d){\n",
       "\t\t                return (\"pink\");\n",
       "\t\t            })\n",
       "\t\t            .attr(\"class\", function(d){\n",
       "\t\t                predicted_label = \"predicted_label_\" + d[1];\n",
       "\t\t                true_label = \"true_label_\" + d[0];\n",
       "\n",
       "\t\t                return true_label + \" \" + predicted_label;\n",
       "\t\t        });\n",
       "\n",
       "\t\t        d3.select(\"#review\")\n",
       "\t\t            .select(\"testList\")\n",
       "\t\t            .selectAll(\"rect\")\n",
       "\t\t            .data(\n",
       "\t\t                dataset.filter(d => d[0] != d[1]),\n",
       "\t\t                function(d){\n",
       "\t\t                    return d[3];\n",
       "\t\t                }\n",
       "\t\t            )\n",
       "\t\t            .enter()\n",
       "\t\t            .append(\"li\")\n",
       "\t\t            .attr(\"id\", function(d){\n",
       "\t\t                return \"text\" + d[3];\n",
       "\t\t            })\n",
       "\t\t            .html(function(d){\n",
       "\t\t                table = \"<table><tr>\"\n",
       "\n",
       "\t\t                table += \"<td> True: \";\n",
       "\t\t                table += parseInt(d[0]); //getType(d[0]);\n",
       "\t\t                table += \"</td>\"\n",
       "\n",
       "\t\t                table += \"<td> Predict: \";\n",
       "\t\t                table += parseInt(d[1]); //getType(d[1]);\n",
       "\t\t                table += \"</td>\"\n",
       "\n",
       "\t\t                table += \"<td>\" + d[2].substr(0,200); + \"</td>\"\n",
       "\t\t                table += \"</tr> </table>\"\n",
       "\n",
       "\t\t                return  table;\n",
       "\t\t        });\n",
       "\n",
       "\t\t        rect.on(\"click\", function(d_on){\n",
       "\t\t            d3.select(\"#review\")\n",
       "\t\t                .select(\"#testList\")\n",
       "\t\t                .html(\"\");\n",
       "\n",
       "\t\t            if(!this.classList.contains(\"past\")){\n",
       "\t\t                d3.selectAll(\".past\")\n",
       "\t\t                    .attr(\"fill\", \"pink\")\n",
       "\t\t                    .classed(\"past\", false);\n",
       "\n",
       "\t\t                d3.selectAll(\".reclick\")\n",
       "\t\t                    .attr(\"fill\", \"pink\")\n",
       "\t\t                    .classed(\"reclick\", false)\n",
       "\t\t            }\n",
       "\n",
       "\t\t            if(!this.classList.contains(\"reclick\")){\n",
       "\t\t                d3.selectAll(\".reclick\")\n",
       "\t\t                    .attr(\"fill\", \"pink\")\n",
       "\t\t                    .classed(\"reclick\", false);\n",
       "\t\t            }\n",
       "\n",
       "\t\t            d3.select(this);\n",
       "\n",
       "\t\t            textId = \"\";\n",
       "\t\t            x = \".\" + this.classList[0];\n",
       "\t\t            y = \".\" + this.classList[1];\n",
       "\t\t            test = x + y;\n",
       "\n",
       "\t\t            x1 = x.charAt(x.length - 1);\n",
       "\t\t            y1 = y.charAt(y.length - 1);\n",
       "\n",
       "\t\t            if(this.classList.contains(\"past\")){\n",
       "\t\t                d3.select(this)\n",
       "\t\t                    .classed(\"reclick\", true)\n",
       "\t\t                Id = this.id;\n",
       "\t\t                textId = \"#text\" + Id.substring(4);\n",
       "\t\t            }\n",
       "\n",
       "\t\t            d3.selectAll(test)\n",
       "\t\t                .attr(\"fill\", \"purple\")\n",
       "\t\t                .classed(\"past\", \"true\");\n",
       "\n",
       "\t\t            d3.select(\"#review\")\n",
       "\t\t                .select(\"#testList\")\n",
       "\t\t                .selectAll(\"rect\")\n",
       "\t\t                .data(\n",
       "\t\t                    dataset\n",
       "\t\t                        .filter(d => d[0] == x1)\n",
       "\t\t                        .filter(d => d[1] == y1),\n",
       "\t\t                        function(d){\n",
       "\t\t                            return d[3];\n",
       "\t\t                        }\n",
       "\t\t                )\n",
       "\t\t                .enter()\n",
       "\t\t                .append(\"li\")\n",
       "\t\t                .attr(\"id\", function(d){\n",
       "\t\t                    return \"text\" + d[3];\n",
       "\t\t                })\n",
       "\t\t                .html(function(d){\n",
       "\t\t                    table = \"<table><tr>\"\n",
       "\n",
       "\t\t                    table += \"<td> True: \";\n",
       "\t\t                    table += parseInt(d[0]); //getType(d[0]);\n",
       "\t\t                    table += \"</td>\"\n",
       "\n",
       "\t\t                    table += \"<td> Predict: \";\n",
       "\t\t                    table += parseInt(d[1]); //getType(d[1]);\n",
       "\t\t                    table += \"</td>\"\n",
       "\n",
       "\t\t                    table += \"<td>\" + d[2].substr(0,200); + \"</td>\"\n",
       "\t\t                    table += \"</tr> </table>\"\n",
       "\n",
       "\t\t                    return table;\n",
       "\t\t            });\n",
       "\n",
       "\t\t            d3.select(\"#review\")\n",
       "\t\t                .select(\"testList\")\n",
       "\t\t                .selectAll(\"li\")\n",
       "\t\t                .on(\"mouseover\", function(d_on){\n",
       "\t\t                    d3.select(this)\n",
       "\t\t                        .classed(\"lighthigh\", true)\n",
       "\t\t                        id = this.id;\n",
       "\t\t                        rectId = \"#rect\" + id.substring(4);\n",
       "\t\t                        d3.selectAll(rectId)\n",
       "\t\t                            .attr(\"fill\", \"green\");\n",
       "\t\t                })\n",
       "\t\t                .on(\"mouseout\", function(d_on){\n",
       "\t\t                    d3.select(this)\n",
       "\t\t                        .classed(\"lighthigh\", false)\n",
       "\t\t                        id = this.id;\n",
       "\t\t                        rectId = \"#rect\" + id.substring(4);\n",
       "\t\t                        d3.selectAll(rectId)\n",
       "\t\t                            .attr(\"fill\", \"purple\");\n",
       "\t\t            });\n",
       "\t\t        });\n",
       "\n",
       "\t\t        d3.select(\"#review\")\n",
       "\t\t            .select(\"#testList\")\n",
       "\t\t            .selectAll(\"li\")\n",
       "\t\t            .on(\"mouseover\", function(d_on){\n",
       "\t\t                d3.select(this)\n",
       "\t\t                    .classed(\"lighthigh\", true)\n",
       "\t\t                    id = this.id;\n",
       "\t\t                    rectId = \"#rect\" + id.substring(4);\n",
       "\t\t                    d3.selectAll(rectId)\n",
       "\t\t                        .attr(\"fill\", \"green\");\n",
       "\t\t            })\n",
       "\t\t          .on(\"mouseout\", function(d_on){\n",
       "\t\t                d3.select(this)\n",
       "\t\t                    .classed(\"lighthigh\", false)\n",
       "\t\t                    id = this.id;\n",
       "\t\t                    rectId = \"#rect\" + id.substring(4);\n",
       "\t\t                    d3.selectAll(rectId)\n",
       "\t\t                        .attr(\"fill\", \"pink\");\n",
       "\t\t        });\n",
       "\t\t    });\n",
       "\t\t})\n",
       "\t\t </script>\n",
       "\t\t"
      ],
      "text/plain": [
       "<IPython.core.display.HTML object>"
      ]
     },
     "metadata": {},
     "output_type": "display_data"
    }
   ],
   "source": [
    "# This is an incomplete proof of concept. Data is being directly referenced in the library,\n",
    "# and is not being passed over to the ConfusionMatrix object. \n",
    "cm = mlvs.ConfusionMatrix(output_filename)\n",
    "cm.display()"
   ]
  },
  {
   "cell_type": "code",
   "execution_count": null,
   "metadata": {},
   "outputs": [],
   "source": []
  }
 ],
 "metadata": {
  "kernelspec": {
   "display_name": "Python 3",
   "language": "python",
   "name": "python3"
  },
  "language_info": {
   "codemirror_mode": {
    "name": "ipython",
    "version": 3
   },
   "file_extension": ".py",
   "mimetype": "text/x-python",
   "name": "python",
   "nbconvert_exporter": "python",
   "pygments_lexer": "ipython3",
   "version": "3.8.5"
  },
  "widgets": {
   "application/vnd.jupyter.widget-state+json": {
    "state": {
     "04f327f8729c4dfb8064560e564bc0c6": {
      "model_module": "@jupyter-widgets/controls",
      "model_module_version": "1.5.0",
      "model_name": "ButtonStyleModel",
      "state": {}
     },
     "527b16c6484f41a8bbea8b6f91ee4137": {
      "model_module": "@jupyter-widgets/controls",
      "model_module_version": "1.5.0",
      "model_name": "ButtonStyleModel",
      "state": {}
     },
     "55400c05e9674a448f4e1fca689799eb": {
      "model_module": "@jupyter-widgets/controls",
      "model_module_version": "1.5.0",
      "model_name": "ButtonStyleModel",
      "state": {}
     },
     "6d2c241530244303bf40c0e3b075e4ce": {
      "model_module": "@jupyter-widgets/base",
      "model_module_version": "1.2.0",
      "model_name": "LayoutModel",
      "state": {}
     },
     "876403260ccd4a0a8d22c264a6912605": {
      "model_module": "@jupyter-widgets/base",
      "model_module_version": "1.2.0",
      "model_name": "LayoutModel",
      "state": {}
     },
     "91e9ccd185a845428527d57ccb73fb26": {
      "model_module": "@jupyter-widgets/base",
      "model_module_version": "1.2.0",
      "model_name": "LayoutModel",
      "state": {}
     },
     "9f021bc8541a4b19862488ae989a54bf": {
      "model_module": "@jupyter-widgets/controls",
      "model_module_version": "1.5.0",
      "model_name": "ButtonModel",
      "state": {
       "description": "Model Accuracy",
       "layout": "IPY_MODEL_dd9515246a5c4b2c8378751eaa36df79",
       "style": "IPY_MODEL_04f327f8729c4dfb8064560e564bc0c6"
      }
     },
     "9f1a03a9c53344238bee47b914fa8692": {
      "model_module": "@jupyter-widgets/controls",
      "model_module_version": "1.5.0",
      "model_name": "ButtonModel",
      "state": {
       "description": "Click to see Vocab",
       "layout": "IPY_MODEL_876403260ccd4a0a8d22c264a6912605",
       "style": "IPY_MODEL_527b16c6484f41a8bbea8b6f91ee4137"
      }
     },
     "dd9515246a5c4b2c8378751eaa36df79": {
      "model_module": "@jupyter-widgets/base",
      "model_module_version": "1.2.0",
      "model_name": "LayoutModel",
      "state": {}
     },
     "eec603a2a46d48bfbb6570ddefcc6477": {
      "model_module": "@jupyter-widgets/controls",
      "model_module_version": "1.5.0",
      "model_name": "ButtonModel",
      "state": {
       "description": "Model Accuracy",
       "layout": "IPY_MODEL_91e9ccd185a845428527d57ccb73fb26",
       "style": "IPY_MODEL_f8efef0d43ab4f32b7ab103f009ffe3b"
      }
     },
     "f7141bc2f4b84b2daf37332f22af3d8f": {
      "model_module": "@jupyter-widgets/controls",
      "model_module_version": "1.5.0",
      "model_name": "ButtonModel",
      "state": {
       "description": "Click to see Vocab",
       "layout": "IPY_MODEL_6d2c241530244303bf40c0e3b075e4ce",
       "style": "IPY_MODEL_55400c05e9674a448f4e1fca689799eb"
      }
     },
     "f8efef0d43ab4f32b7ab103f009ffe3b": {
      "model_module": "@jupyter-widgets/controls",
      "model_module_version": "1.5.0",
      "model_name": "ButtonStyleModel",
      "state": {}
     }
    },
    "version_major": 2,
    "version_minor": 0
   }
  }
 },
 "nbformat": 4,
 "nbformat_minor": 2
}
