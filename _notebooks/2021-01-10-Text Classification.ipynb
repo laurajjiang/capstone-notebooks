{
    "metadata": {
        "kernelspec": {
            "name": "python3",
            "display_name": "Python 3.8.6 64-bit",
            "metadata": {
                "interpreter": {
                    "hash": "1ef63b898a85616871e078e6511258e27adff349acc8e961d6c4e5343555c5a7"
                }
            }
        },
        "language_info": {
            "name": "python",
            "version": "3.8.6-final",
            "mimetype": "text/x-python",
            "codemirror_mode": {
                "name": "ipython",
                "version": 3
            },
            "pygments_lexer": "ipython3",
            "nbconvert_exporter": "python",
            "file_extension": ".py"
        },
        "widgets": {
            "application/vnd.jupyter.widget-state+json": {
                "state": {
                    "04f327f8729c4dfb8064560e564bc0c6": {
                        "model_module": "@jupyter-widgets/controls",
                        "model_module_version": "1.5.0",
                        "model_name": "ButtonStyleModel",
                        "state": {}
                    },
                    "527b16c6484f41a8bbea8b6f91ee4137": {
                        "model_module": "@jupyter-widgets/controls",
                        "model_module_version": "1.5.0",
                        "model_name": "ButtonStyleModel",
                        "state": {}
                    },
                    "55400c05e9674a448f4e1fca689799eb": {
                        "model_module": "@jupyter-widgets/controls",
                        "model_module_version": "1.5.0",
                        "model_name": "ButtonStyleModel",
                        "state": {}
                    },
                    "6d2c241530244303bf40c0e3b075e4ce": {
                        "model_module": "@jupyter-widgets/base",
                        "model_module_version": "1.2.0",
                        "model_name": "LayoutModel",
                        "state": {}
                    },
                    "876403260ccd4a0a8d22c264a6912605": {
                        "model_module": "@jupyter-widgets/base",
                        "model_module_version": "1.2.0",
                        "model_name": "LayoutModel",
                        "state": {}
                    },
                    "91e9ccd185a845428527d57ccb73fb26": {
                        "model_module": "@jupyter-widgets/base",
                        "model_module_version": "1.2.0",
                        "model_name": "LayoutModel",
                        "state": {}
                    },
                    "9f021bc8541a4b19862488ae989a54bf": {
                        "model_module": "@jupyter-widgets/controls",
                        "model_module_version": "1.5.0",
                        "model_name": "ButtonModel",
                        "state": {
                            "description": "Model Accuracy",
                            "layout": "IPY_MODEL_dd9515246a5c4b2c8378751eaa36df79",
                            "style": "IPY_MODEL_04f327f8729c4dfb8064560e564bc0c6"
                        }
                    },
                    "9f1a03a9c53344238bee47b914fa8692": {
                        "model_module": "@jupyter-widgets/controls",
                        "model_module_version": "1.5.0",
                        "model_name": "ButtonModel",
                        "state": {
                            "description": "Click to see Vocab",
                            "layout": "IPY_MODEL_876403260ccd4a0a8d22c264a6912605",
                            "style": "IPY_MODEL_527b16c6484f41a8bbea8b6f91ee4137"
                        }
                    },
                    "dd9515246a5c4b2c8378751eaa36df79": {
                        "model_module": "@jupyter-widgets/base",
                        "model_module_version": "1.2.0",
                        "model_name": "LayoutModel",
                        "state": {}
                    },
                    "eec603a2a46d48bfbb6570ddefcc6477": {
                        "model_module": "@jupyter-widgets/controls",
                        "model_module_version": "1.5.0",
                        "model_name": "ButtonModel",
                        "state": {
                            "description": "Model Accuracy",
                            "layout": "IPY_MODEL_91e9ccd185a845428527d57ccb73fb26",
                            "style": "IPY_MODEL_f8efef0d43ab4f32b7ab103f009ffe3b"
                        }
                    },
                    "f7141bc2f4b84b2daf37332f22af3d8f": {
                        "model_module": "@jupyter-widgets/controls",
                        "model_module_version": "1.5.0",
                        "model_name": "ButtonModel",
                        "state": {
                            "description": "Click to see Vocab",
                            "layout": "IPY_MODEL_6d2c241530244303bf40c0e3b075e4ce",
                            "style": "IPY_MODEL_55400c05e9674a448f4e1fca689799eb"
                        }
                    },
                    "f8efef0d43ab4f32b7ab103f009ffe3b": {
                        "model_module": "@jupyter-widgets/controls",
                        "model_module_version": "1.5.0",
                        "model_name": "ButtonStyleModel",
                        "state": {}
                    }
                },
                "version_major": 2,
                "version_minor": 0
            }
        }
    },
    "nbformat_minor": 2,
    "nbformat": 4,
    "cells": [
        {
            "cell_type": "markdown",
            "source": [
                "# Text Classification  \n",
                "\n",
                "> Chapter 1 - learn about using a neural network to classify text using sentiment (positive or negative).\n",
                "\n",
                "- toc: true\n",
                "- branch: master\n",
                "- badges: false\n",
                "- comments: false\n",
                "- annotations: true"
            ],
            "metadata": {
                "azdata_cell_guid": "13509f6f-44c1-47f7-98b4-591aa1f1c062"
            }
        },
        {
            "cell_type": "markdown",
            "source": [
                "# Introduction"
            ],
            "metadata": {
                "azdata_cell_guid": "51edfc0b-4fb6-4fef-9736-bd551e6e1fc1"
            }
        },
        {
            "cell_type": "markdown",
            "source": [
                "Text classification is the process of assigning tags or categories to text according to its content. It’s one of the fundamental tasks in natural language processing.\n",
                "\n",
                "The text we wanna classify is given as input to an algorithm, the algorithm will then analyze the text’s content, and then categorize the input as one of the tags or categories previously given.\n",
                "\n",
                "**Input → Classifying Algorithm → Classification of Input**\n",
                "\n",
                "Real life examples:\n",
                "\n",
                "- Sentiment analysis: how does the writer of the sentence feel about what they are writing about, do they think positively or negatively of the subject? Ex. restaurant reviews topic labeling: given sentences and a set of topics, which topic does this sentence fall under? Ex. is this essay about history? Math? etc? spam detection Ex. Email filtering: is this email a real important email or spam?\n",
                "\n",
                "Example. A restaurant wants to evaluate their ratings but don’t want to read through all of them. Therefore, they wanna use a computer algorithm to do all their work. They simply want to know if the customer’s review is positive or negative.\n",
                "\n",
                "Here’s an example of a customer’s review and a simple way an algorithm could classify their review.\n",
                "\n",
                "Input: “The food here was too salty and too expensive”\n",
                "\n",
                "Algorithm: Goes through every word in the sentence and counts how many positive words and how many negative words are in the sentence.\n",
                "\n",
                "```\n",
                "    “The, food, here, was, too, and” are all neutral words\n",
                "\n",
                "    “Salty, expensive” are negative words.\n",
                "\n",
                "    Negative words: 2\n",
                "    Positive words: 0\n",
                "```\n",
                "\n",
                "Classification: Negative Review, because there are more negative words (2) than positive (0).\n",
                "\n",
                "However, this algorithm obviously doesn’t work in a lot of cases.\n",
                "\n",
                "For example, “The food here was good, not expensive and not salty” would be classified as negative but it’s actually a positive review.\n",
                "\n",
                "Language and text can get very complicated which makes creating these algorithms difficult. Some things that make language difficult could be words that have multiple meanings, negation words (words such as not), slang, etc."
            ],
            "metadata": {
                "azdata_cell_guid": "66b3dda0-aef7-42e3-adaa-8b0e2772f915"
            }
        },
        {
            "cell_type": "markdown",
            "source": [
                "# Set up data and imports"
            ],
            "metadata": {
                "azdata_cell_guid": "e2e811b1-609e-4a92-97fa-c61508274bb4"
            }
        },
        {
            "cell_type": "markdown",
            "source": [
                "## Library imports\n",
                "\n",
                "This section of code is to import any necessary Python libraries that we'll need for the rest of this notebook. Some packages may need to be installed since they are not built in to Python3."
            ],
            "metadata": {
                "azdata_cell_guid": "d5e32e42-b3b6-4282-999d-acf05252fb06"
            }
        },
        {
            "cell_type": "code",
            "source": [
                "# collapse-hide\n",
                "!pip3 install seaborn\n",
                "!pip3 install plotly --user\n",
                "!pip3 install sklearn\n",
                "\n",
                "import sys\n",
                "import string\n",
                "from scipy import sparse\n",
                "from pprint import pprint\n",
                "import pandas as pd\n",
                "import seaborn as sns\n",
                "import plotly.offline as py\n",
                "from plotly.offline import init_notebook_mode, iplot\n",
                "import plotly.graph_objs as go\n",
                "init_notebook_mode(connected = True)\n",
                "import matplotlib.pyplot as plt\n",
                "import numpy as np\n",
                "from html import escape\n",
                "from IPython.core.display import display, HTML\n",
                "from string import Template\n",
                "from sklearn.metrics import classification_report\n",
                "import json\n",
                "\n",
                "HTML('<script src=\"https://d3js.org/d3.v3.min.js\" charset=\"utf-8\"></script>')\n",
                "\n",
                "# Our two files that contain our data, split up into a training set and a testing set.\n",
                "\n",
                "trainingFile = \"dataset/trainingSet.txt\"\n",
                "testingFile = \"dataset/testSet.txt\""
            ],
            "metadata": {
                "azdata_cell_guid": "6305a379-9ec8-4ba3-94e4-e54c9ef30f38"
            },
            "outputs": [
                {
                    "output_type": "stream",
                    "name": "stdout",
                    "text": [
                        "Requirement already satisfied: seaborn in c:\\users\\wnsgu\\appdata\\local\\programs\\python\\python38\\lib\\site-packages (0.11.1)\n",
                        "Requirement already satisfied: matplotlib>=2.2 in c:\\users\\wnsgu\\appdata\\local\\programs\\python\\python38\\lib\\site-packages (from seaborn) (3.3.3)\n",
                        "Requirement already satisfied: numpy>=1.15 in c:\\users\\wnsgu\\appdata\\local\\programs\\python\\python38\\lib\\site-packages (from seaborn) (1.19.5)\n",
                        "Requirement already satisfied: pandas>=0.23 in c:\\users\\wnsgu\\appdata\\local\\programs\\python\\python38\\lib\\site-packages (from seaborn) (1.2.1)\n",
                        "Requirement already satisfied: scipy>=1.0 in c:\\users\\wnsgu\\appdata\\local\\programs\\python\\python38\\lib\\site-packages (from seaborn) (1.6.0)\n",
                        "Requirement already satisfied: kiwisolver>=1.0.1 in c:\\users\\wnsgu\\appdata\\local\\programs\\python\\python38\\lib\\site-packages (from matplotlib>=2.2->seaborn) (1.3.1)\n",
                        "Requirement already satisfied: cycler>=0.10 in c:\\users\\wnsgu\\appdata\\local\\programs\\python\\python38\\lib\\site-packages (from matplotlib>=2.2->seaborn) (0.10.0)\n",
                        "Requirement already satisfied: python-dateutil>=2.1 in c:\\users\\wnsgu\\appdata\\roaming\\python\\python38\\site-packages (from matplotlib>=2.2->seaborn) (2.8.1)\n",
                        "Requirement already satisfied: pyparsing!=2.0.4,!=2.1.2,!=2.1.6,>=2.0.3 in c:\\users\\wnsgu\\appdata\\local\\programs\\python\\python38\\lib\\site-packages (from matplotlib>=2.2->seaborn) (2.4.7)\n",
                        "Requirement already satisfied: pillow>=6.2.0 in c:\\users\\wnsgu\\appdata\\local\\programs\\python\\python38\\lib\\site-packages (from matplotlib>=2.2->seaborn) (8.1.0)\n",
                        "Requirement already satisfied: six in c:\\users\\wnsgu\\appdata\\roaming\\python\\python38\\site-packages (from cycler>=0.10->matplotlib>=2.2->seaborn) (1.12.0)\n",
                        "Requirement already satisfied: pytz>=2017.3 in c:\\users\\wnsgu\\appdata\\local\\programs\\python\\python38\\lib\\site-packages (from pandas>=0.23->seaborn) (2020.5)\n",
                        "Requirement already satisfied: plotly in c:\\users\\wnsgu\\appdata\\roaming\\python\\python38\\site-packages (4.14.3)\n",
                        "Requirement already satisfied: six in c:\\users\\wnsgu\\appdata\\roaming\\python\\python38\\site-packages (from plotly) (1.12.0)\n",
                        "Requirement already satisfied: retrying>=1.3.3 in c:\\users\\wnsgu\\appdata\\roaming\\python\\python38\\site-packages (from plotly) (1.3.3)\n",
                        "Requirement already satisfied: sklearn in c:\\users\\wnsgu\\appdata\\local\\programs\\python\\python38\\lib\\site-packages (0.0)\n",
                        "Requirement already satisfied: scikit-learn in c:\\users\\wnsgu\\appdata\\local\\programs\\python\\python38\\lib\\site-packages (from sklearn) (0.24.1)\n",
                        "Requirement already satisfied: numpy>=1.13.3 in c:\\users\\wnsgu\\appdata\\local\\programs\\python\\python38\\lib\\site-packages (from scikit-learn->sklearn) (1.19.5)\n",
                        "Requirement already satisfied: scipy>=0.19.1 in c:\\users\\wnsgu\\appdata\\local\\programs\\python\\python38\\lib\\site-packages (from scikit-learn->sklearn) (1.6.0)\n",
                        "Requirement already satisfied: threadpoolctl>=2.0.0 in c:\\users\\wnsgu\\appdata\\local\\programs\\python\\python38\\lib\\site-packages (from scikit-learn->sklearn) (2.1.0)\n",
                        "Requirement already satisfied: joblib>=0.11 in c:\\users\\wnsgu\\appdata\\local\\programs\\python\\python38\\lib\\site-packages (from scikit-learn->sklearn) (1.0.0)\n"
                    ]
                },
                {
                    "output_type": "error",
                    "ename": "ImportError",
                    "evalue": "\n\nIMPORTANT: PLEASE READ THIS FOR ADVICE ON HOW TO SOLVE THIS ISSUE!\n\nImporting the numpy c-extensions failed.\n- Try uninstalling and reinstalling numpy.\n- If you have already done that, then:\n  1. Check that you expected to use Python3.7 from \"C:\\Users\\wnsgu\\Miniconda3\\python.exe\",\n     and that you have no directories in your PATH or PYTHONPATH that can\n     interfere with the Python and numpy version \"1.18.1\" you're trying to use.\n  2. If (1) looks fine, you can open a new issue at\n     https://github.com/numpy/numpy/issues.  Please include details on:\n     - how you installed Python\n     - how you installed numpy\n     - your operating system\n     - whether or not you have multiple versions of Python installed\n     - if you built from source, your compiler versions and ideally a build log\n\n- If you're working with a numpy git repository, try `git clean -xdf`\n  (removes all files not under version control) and rebuild numpy.\n\nNote: this error has many possible causes, so please don't comment on\nan existing issue about this - open a new one instead.\n\nOriginal error was: DLL load failed: The specified module could not be found.\n",
                    "traceback": [
                        "\u001b[1;31m---------------------------------------------------------------------------\u001b[0m",
                        "\u001b[1;31mImportError\u001b[0m                               Traceback (most recent call last)",
                        "\u001b[1;32m~\\Miniconda3\\lib\\site-packages\\numpy\\core\\__init__.py\u001b[0m in \u001b[0;36m<module>\u001b[1;34m\u001b[0m\n\u001b[0;32m     23\u001b[0m \u001b[1;32mtry\u001b[0m\u001b[1;33m:\u001b[0m\u001b[1;33m\u001b[0m\u001b[1;33m\u001b[0m\u001b[0m\n\u001b[1;32m---> 24\u001b[1;33m     \u001b[1;32mfrom\u001b[0m \u001b[1;33m.\u001b[0m \u001b[1;32mimport\u001b[0m \u001b[0mmultiarray\u001b[0m\u001b[1;33m\u001b[0m\u001b[1;33m\u001b[0m\u001b[0m\n\u001b[0m\u001b[0;32m     25\u001b[0m \u001b[1;32mexcept\u001b[0m \u001b[0mImportError\u001b[0m \u001b[1;32mas\u001b[0m \u001b[0mexc\u001b[0m\u001b[1;33m:\u001b[0m\u001b[1;33m\u001b[0m\u001b[1;33m\u001b[0m\u001b[0m\n",
                        "\u001b[1;32m~\\Miniconda3\\lib\\site-packages\\numpy\\core\\multiarray.py\u001b[0m in \u001b[0;36m<module>\u001b[1;34m\u001b[0m\n\u001b[0;32m     13\u001b[0m \u001b[1;33m\u001b[0m\u001b[0m\n\u001b[1;32m---> 14\u001b[1;33m \u001b[1;32mfrom\u001b[0m \u001b[1;33m.\u001b[0m \u001b[1;32mimport\u001b[0m \u001b[0moverrides\u001b[0m\u001b[1;33m\u001b[0m\u001b[1;33m\u001b[0m\u001b[0m\n\u001b[0m\u001b[0;32m     15\u001b[0m \u001b[1;32mfrom\u001b[0m \u001b[1;33m.\u001b[0m \u001b[1;32mimport\u001b[0m \u001b[0m_multiarray_umath\u001b[0m\u001b[1;33m\u001b[0m\u001b[1;33m\u001b[0m\u001b[0m\n",
                        "\u001b[1;32m~\\Miniconda3\\lib\\site-packages\\numpy\\core\\overrides.py\u001b[0m in \u001b[0;36m<module>\u001b[1;34m\u001b[0m\n\u001b[0;32m      6\u001b[0m \u001b[1;33m\u001b[0m\u001b[0m\n\u001b[1;32m----> 7\u001b[1;33m from numpy.core._multiarray_umath import (\n\u001b[0m\u001b[0;32m      8\u001b[0m     add_docstring, implement_array_function, _get_implementing_args)\n",
                        "\u001b[1;31mImportError\u001b[0m: DLL load failed: The specified module could not be found.",
                        "\nDuring handling of the above exception, another exception occurred:\n",
                        "\u001b[1;31mImportError\u001b[0m                               Traceback (most recent call last)",
                        "\u001b[1;32m<ipython-input-8-c12376219537>\u001b[0m in \u001b[0;36m<module>\u001b[1;34m\u001b[0m\n\u001b[0;32m      6\u001b[0m \u001b[1;32mimport\u001b[0m \u001b[0msys\u001b[0m\u001b[1;33m\u001b[0m\u001b[1;33m\u001b[0m\u001b[0m\n\u001b[0;32m      7\u001b[0m \u001b[1;32mimport\u001b[0m \u001b[0mstring\u001b[0m\u001b[1;33m\u001b[0m\u001b[1;33m\u001b[0m\u001b[0m\n\u001b[1;32m----> 8\u001b[1;33m \u001b[1;32mfrom\u001b[0m \u001b[0mscipy\u001b[0m \u001b[1;32mimport\u001b[0m \u001b[0msparse\u001b[0m\u001b[1;33m\u001b[0m\u001b[1;33m\u001b[0m\u001b[0m\n\u001b[0m\u001b[0;32m      9\u001b[0m \u001b[1;32mfrom\u001b[0m \u001b[0mpprint\u001b[0m \u001b[1;32mimport\u001b[0m \u001b[0mpprint\u001b[0m\u001b[1;33m\u001b[0m\u001b[1;33m\u001b[0m\u001b[0m\n\u001b[0;32m     10\u001b[0m \u001b[1;32mimport\u001b[0m \u001b[0mpandas\u001b[0m \u001b[1;32mas\u001b[0m \u001b[0mpd\u001b[0m\u001b[1;33m\u001b[0m\u001b[1;33m\u001b[0m\u001b[0m\n",
                        "\u001b[1;32m~\\Miniconda3\\lib\\site-packages\\scipy\\__init__.py\u001b[0m in \u001b[0;36m<module>\u001b[1;34m\u001b[0m\n\u001b[0;32m     60\u001b[0m \u001b[0m__all__\u001b[0m \u001b[1;33m=\u001b[0m \u001b[1;33m[\u001b[0m\u001b[1;34m'test'\u001b[0m\u001b[1;33m]\u001b[0m\u001b[1;33m\u001b[0m\u001b[1;33m\u001b[0m\u001b[0m\n\u001b[0;32m     61\u001b[0m \u001b[1;33m\u001b[0m\u001b[0m\n\u001b[1;32m---> 62\u001b[1;33m \u001b[1;32mfrom\u001b[0m \u001b[0mnumpy\u001b[0m \u001b[1;32mimport\u001b[0m \u001b[0mshow_config\u001b[0m \u001b[1;32mas\u001b[0m \u001b[0mshow_numpy_config\u001b[0m\u001b[1;33m\u001b[0m\u001b[1;33m\u001b[0m\u001b[0m\n\u001b[0m\u001b[0;32m     63\u001b[0m \u001b[1;32mif\u001b[0m \u001b[0mshow_numpy_config\u001b[0m \u001b[1;32mis\u001b[0m \u001b[1;32mNone\u001b[0m\u001b[1;33m:\u001b[0m\u001b[1;33m\u001b[0m\u001b[1;33m\u001b[0m\u001b[0m\n\u001b[0;32m     64\u001b[0m     raise ImportError(\n",
                        "\u001b[1;32m~\\Miniconda3\\lib\\site-packages\\numpy\\__init__.py\u001b[0m in \u001b[0;36m<module>\u001b[1;34m\u001b[0m\n\u001b[0;32m    140\u001b[0m     \u001b[1;32mfrom\u001b[0m \u001b[1;33m.\u001b[0m \u001b[1;32mimport\u001b[0m \u001b[0m_distributor_init\u001b[0m\u001b[1;33m\u001b[0m\u001b[1;33m\u001b[0m\u001b[0m\n\u001b[0;32m    141\u001b[0m \u001b[1;33m\u001b[0m\u001b[0m\n\u001b[1;32m--> 142\u001b[1;33m     \u001b[1;32mfrom\u001b[0m \u001b[1;33m.\u001b[0m \u001b[1;32mimport\u001b[0m \u001b[0mcore\u001b[0m\u001b[1;33m\u001b[0m\u001b[1;33m\u001b[0m\u001b[0m\n\u001b[0m\u001b[0;32m    143\u001b[0m     \u001b[1;32mfrom\u001b[0m \u001b[1;33m.\u001b[0m\u001b[0mcore\u001b[0m \u001b[1;32mimport\u001b[0m \u001b[1;33m*\u001b[0m\u001b[1;33m\u001b[0m\u001b[1;33m\u001b[0m\u001b[0m\n\u001b[0;32m    144\u001b[0m     \u001b[1;32mfrom\u001b[0m \u001b[1;33m.\u001b[0m \u001b[1;32mimport\u001b[0m \u001b[0mcompat\u001b[0m\u001b[1;33m\u001b[0m\u001b[1;33m\u001b[0m\u001b[0m\n",
                        "\u001b[1;32m~\\Miniconda3\\lib\\site-packages\\numpy\\core\\__init__.py\u001b[0m in \u001b[0;36m<module>\u001b[1;34m\u001b[0m\n\u001b[0;32m     52\u001b[0m \"\"\" % (sys.version_info[0], sys.version_info[1], sys.executable,\n\u001b[0;32m     53\u001b[0m         __version__, exc)\n\u001b[1;32m---> 54\u001b[1;33m     \u001b[1;32mraise\u001b[0m \u001b[0mImportError\u001b[0m\u001b[1;33m(\u001b[0m\u001b[0mmsg\u001b[0m\u001b[1;33m)\u001b[0m\u001b[1;33m\u001b[0m\u001b[1;33m\u001b[0m\u001b[0m\n\u001b[0m\u001b[0;32m     55\u001b[0m \u001b[1;32mfinally\u001b[0m\u001b[1;33m:\u001b[0m\u001b[1;33m\u001b[0m\u001b[1;33m\u001b[0m\u001b[0m\n\u001b[0;32m     56\u001b[0m     \u001b[1;32mfor\u001b[0m \u001b[0menvkey\u001b[0m \u001b[1;32min\u001b[0m \u001b[0menv_added\u001b[0m\u001b[1;33m:\u001b[0m\u001b[1;33m\u001b[0m\u001b[1;33m\u001b[0m\u001b[0m\n",
                        "\u001b[1;31mImportError\u001b[0m: \n\nIMPORTANT: PLEASE READ THIS FOR ADVICE ON HOW TO SOLVE THIS ISSUE!\n\nImporting the numpy c-extensions failed.\n- Try uninstalling and reinstalling numpy.\n- If you have already done that, then:\n  1. Check that you expected to use Python3.7 from \"C:\\Users\\wnsgu\\Miniconda3\\python.exe\",\n     and that you have no directories in your PATH or PYTHONPATH that can\n     interfere with the Python and numpy version \"1.18.1\" you're trying to use.\n  2. If (1) looks fine, you can open a new issue at\n     https://github.com/numpy/numpy/issues.  Please include details on:\n     - how you installed Python\n     - how you installed numpy\n     - your operating system\n     - whether or not you have multiple versions of Python installed\n     - if you built from source, your compiler versions and ideally a build log\n\n- If you're working with a numpy git repository, try `git clean -xdf`\n  (removes all files not under version control) and rebuild numpy.\n\nNote: this error has many possible causes, so please don't comment on\nan existing issue about this - open a new one instead.\n\nOriginal error was: DLL load failed: The specified module could not be found.\n"
                    ]
                }
            ],
            "execution_count": 8
        },
        {
            "cell_type": "markdown",
            "source": [
                "## Getting our data \n",
                "\n",
                "Below is a definition of getData, a basic function to pull from the `trainingSet.txt` and `testSet.txt`. The data that we're using for this example is a set of reviews written by users on Yelp, classified as positive (1) or negative (0). \n",
                "\n",
                "We open the file, create temporary arrays, and pull from the file line by line.\n",
                "\n",
                "Open the cell if you'd like to peek into what the function looks like."
            ],
            "metadata": {
                "azdata_cell_guid": "9a1685b0-0396-4ed6-a19f-a43bf2293859"
            }
        },
        {
            "cell_type": "code",
            "source": [
                "# collapse-hide\n",
                "\n",
                "def getData(fileName):\n",
                "    f = open(fileName)\n",
                "    file = f.readlines()\n",
                "\n",
                "    sentences = []\n",
                "    sentiments = []\n",
                "\n",
                "    for line in file:\n",
                "        sentence, sentiment = line.split('\\t')\n",
                "        sentences.append(sentence.strip())\n",
                "        sentiments.append(int(sentiment.strip())) # Sentiment in {0,1}\n",
                "\n",
                "    return sentences, np.array(sentiments)"
            ],
            "metadata": {
                "azdata_cell_guid": "73b2409b-c9e0-4fc0-b5c3-93d0d70e9fc5"
            },
            "outputs": [],
            "execution_count": 6
        },
        {
            "cell_type": "code",
            "source": [
                "# get data from the training and testing files using the getData function defined above\n",
                "\n",
                "trainingSentences, trainingLabels = getData(trainingFile)\n",
                "testingSentences, testingLabels = getData(testingFile) "
            ],
            "metadata": {
                "azdata_cell_guid": "ea307c06-6f6f-4e2b-9dad-d353d5d63211",
                "tags": []
            },
            "outputs": [
                {
                    "output_type": "error",
                    "ename": "NameError",
                    "evalue": "name 'trainingFile' is not defined",
                    "traceback": [
                        "\u001b[1;31m---------------------------------------------------------------------------\u001b[0m",
                        "\u001b[1;31mNameError\u001b[0m                                 Traceback (most recent call last)",
                        "\u001b[1;32m<ipython-input-7-a474dbf6f6fd>\u001b[0m in \u001b[0;36m<module>\u001b[1;34m\u001b[0m\n\u001b[0;32m      1\u001b[0m \u001b[1;31m# get data from the training and testing files using the getData function defined above\u001b[0m\u001b[1;33m\u001b[0m\u001b[1;33m\u001b[0m\u001b[1;33m\u001b[0m\u001b[0m\n\u001b[0;32m      2\u001b[0m \u001b[1;33m\u001b[0m\u001b[0m\n\u001b[1;32m----> 3\u001b[1;33m \u001b[0mtrainingSentences\u001b[0m\u001b[1;33m,\u001b[0m \u001b[0mtrainingLabels\u001b[0m \u001b[1;33m=\u001b[0m \u001b[0mgetData\u001b[0m\u001b[1;33m(\u001b[0m\u001b[0mtrainingFile\u001b[0m\u001b[1;33m)\u001b[0m\u001b[1;33m\u001b[0m\u001b[1;33m\u001b[0m\u001b[0m\n\u001b[0m\u001b[0;32m      4\u001b[0m \u001b[0mtestingSentences\u001b[0m\u001b[1;33m,\u001b[0m \u001b[0mtestingLabels\u001b[0m \u001b[1;33m=\u001b[0m \u001b[0mgetData\u001b[0m\u001b[1;33m(\u001b[0m\u001b[0mtestingFile\u001b[0m\u001b[1;33m)\u001b[0m\u001b[1;33m\u001b[0m\u001b[1;33m\u001b[0m\u001b[0m\n",
                        "\u001b[1;31mNameError\u001b[0m: name 'trainingFile' is not defined"
                    ]
                }
            ],
            "execution_count": 7
        },
        {
            "cell_type": "markdown",
            "source": [
                "Let's take a peek at what this data looks like:"
            ],
            "metadata": {
                "azdata_cell_guid": "9859f856-7986-472f-a18b-a176e955b7e8"
            }
        },
        {
            "cell_type": "code",
            "source": [
                "#collapse-hide \n",
                "\n",
                "f = open(\"dataset/trainingSet.txt\")\n",
                "file = f.readlines()\n",
                "\n",
                "sentences = []\n",
                "sentiments = []\n",
                "\n",
                "for line in file:\n",
                "    sentence, sentiment = line.split('\\t')\n",
                "    sentences.append(sentence.strip())\n",
                "    sentiments.append(int(sentiment.strip())) \n",
                "    \n",
                "print(\"Sample sentences:\")\n",
                "pprint(sentences[:10]) \n",
                "print(\"Corresponding sentiments:\")\n",
                "pprint(sentiments[:10]) "
            ],
            "metadata": {
                "azdata_cell_guid": "0e6f77c6-9cee-4b4d-a474-9cd47d057bf7",
                "tags": []
            },
            "outputs": [
                {
                    "output_type": "stream",
                    "name": "stdout",
                    "text": [
                        "Sample sentences:\n"
                    ]
                },
                {
                    "output_type": "error",
                    "ename": "NameError",
                    "evalue": "name 'pprint' is not defined",
                    "traceback": [
                        "\u001b[1;31m---------------------------------------------------------------------------\u001b[0m",
                        "\u001b[1;31mNameError\u001b[0m                                 Traceback (most recent call last)",
                        "\u001b[1;32m<ipython-input-5-76b64ce05817>\u001b[0m in \u001b[0;36m<module>\u001b[1;34m\u001b[0m\n\u001b[0;32m     13\u001b[0m \u001b[1;33m\u001b[0m\u001b[0m\n\u001b[0;32m     14\u001b[0m \u001b[0mprint\u001b[0m\u001b[1;33m(\u001b[0m\u001b[1;34m\"Sample sentences:\"\u001b[0m\u001b[1;33m)\u001b[0m\u001b[1;33m\u001b[0m\u001b[1;33m\u001b[0m\u001b[0m\n\u001b[1;32m---> 15\u001b[1;33m \u001b[0mpprint\u001b[0m\u001b[1;33m(\u001b[0m\u001b[0msentences\u001b[0m\u001b[1;33m[\u001b[0m\u001b[1;33m:\u001b[0m\u001b[1;36m10\u001b[0m\u001b[1;33m]\u001b[0m\u001b[1;33m)\u001b[0m\u001b[1;33m\u001b[0m\u001b[1;33m\u001b[0m\u001b[0m\n\u001b[0m\u001b[0;32m     16\u001b[0m \u001b[0mprint\u001b[0m\u001b[1;33m(\u001b[0m\u001b[1;34m\"Corresponding sentiments:\"\u001b[0m\u001b[1;33m)\u001b[0m\u001b[1;33m\u001b[0m\u001b[1;33m\u001b[0m\u001b[0m\n\u001b[0;32m     17\u001b[0m \u001b[0mpprint\u001b[0m\u001b[1;33m(\u001b[0m\u001b[0msentiments\u001b[0m\u001b[1;33m[\u001b[0m\u001b[1;33m:\u001b[0m\u001b[1;36m10\u001b[0m\u001b[1;33m]\u001b[0m\u001b[1;33m)\u001b[0m\u001b[1;33m\u001b[0m\u001b[1;33m\u001b[0m\u001b[0m\n",
                        "\u001b[1;31mNameError\u001b[0m: name 'pprint' is not defined"
                    ]
                }
            ],
            "execution_count": 5
        },
        {
            "cell_type": "markdown",
            "source": [
                "## Pre-processing our data \n",
                "\n",
                "We need to modify these sentences by tokenizing them into individual strings (word by word) so that we can feed our model individual words and their associated sentiment (negative / positive)."
            ],
            "metadata": {
                "azdata_cell_guid": "38a166de-5063-4638-8c15-19a57e742c68"
            }
        },
        {
            "cell_type": "code",
            "source": [
                "def preProcess(sentences):\n",
                "\n",
                "    def cleanText(text):\n",
                "        # Make lower case\n",
                "        text = text.lower()\n",
                "\n",
                "        # Replace non-text characters with spaces\n",
                "        nonText = string.punctuation + (\"\")\n",
                "        text = text.translate(str.maketrans(nonText, ' ' * (len(nonText))))\n",
                "\n",
                "        # Split sentences into individual words - tokenize\n",
                "        words = text.split()\n",
                "\n",
                "        return words\n",
                "\n",
                "    return list(map(cleanText, sentences))"
            ],
            "metadata": {
                "azdata_cell_guid": "a0954a22-336d-469c-a32d-835d7329ba76"
            },
            "outputs": [],
            "execution_count": 5
        },
        {
            "cell_type": "code",
            "source": [
                "# Process both the training and testing tokens.\n",
                "\n",
                "trainingTokens = preProcess(trainingSentences)\n",
                "testingTokens = preProcess(testingSentences)"
            ],
            "metadata": {
                "azdata_cell_guid": "ad995853-5e2e-4ee7-a51f-b1a9a56561e0"
            },
            "outputs": [],
            "execution_count": 6
        },
        {
            "cell_type": "markdown",
            "source": [
                "Let's look at what these tokenized sentences look like now:"
            ],
            "metadata": {
                "azdata_cell_guid": "55a58566-03ca-4f68-b161-d53318d8b80a"
            }
        },
        {
            "cell_type": "code",
            "source": [
                "#collapse-hide\n",
                "print(\"Training tokens:\")\n",
                "pprint(trainingTokens[:2]) \n",
                "print(\"Testing tokens:\")\n",
                "pprint(testingTokens[:3]) "
            ],
            "metadata": {
                "azdata_cell_guid": "1e0deff3-61e4-4ad9-b470-e32366be70fb"
            },
            "outputs": [
                {
                    "output_type": "stream",
                    "name": "stdout",
                    "text": "Training tokens:\n[['wow', 'loved', 'this', 'place'],\n ['not', 'tasty', 'and', 'the', 'texture', 'was', 'just', 'nasty']]\nTesting tokens:\n[['crust', 'is', 'not', 'good'],\n ['would', 'not', 'go', 'back'],\n ['i', 'was', 'shocked', 'because', 'no', 'signs', 'indicate', 'cash', 'only']]\n"
                }
            ],
            "execution_count": 7
        },
        {
            "cell_type": "markdown",
            "source": [
                "## Vectorizing our data\n",
                "\n",
                "Now that we have our sentences tokenized, notice how our training tokens are nested arrays. We want to pull them out of nested arrays and into just one general vocabulary list."
            ],
            "metadata": {
                "azdata_cell_guid": "b88a3dd5-4436-454c-8ce9-3ada65a8f614"
            }
        },
        {
            "cell_type": "code",
            "source": [
                "#collapse-hide\n",
                "\n",
                "def getVocab(sentences):\n",
                "    vocab = set()\n",
                "    for sentence in sentences:\n",
                "        for word in sentence:\n",
                "            vocab.add(word)\n",
                "    return sorted(vocab)"
            ],
            "metadata": {
                "azdata_cell_guid": "7536bef9-a077-4690-8efe-a380f9ca0874"
            },
            "outputs": [],
            "execution_count": 8
        },
        {
            "cell_type": "code",
            "source": [
                "# Pull trainingTokens into one vocabulary listed, no nested arrays\n",
                "\n",
                "vocabulary = getVocab(trainingTokens)"
            ],
            "metadata": {
                "azdata_cell_guid": "c82b93b2-09b1-466f-881b-5c2730b57388",
                "tags": []
            },
            "outputs": [],
            "execution_count": 9
        },
        {
            "cell_type": "markdown",
            "source": [
                "We can peek at our vocabulary list, an alphabetically sorted list of words, now at a random set of indices:"
            ],
            "metadata": {
                "azdata_cell_guid": "c1fa23a6-2e9d-423f-b7e1-b3fb64d422be"
            }
        },
        {
            "cell_type": "code",
            "source": [
                "#collapse-hide\n",
                "\n",
                "pprint(vocabulary[50:70])"
            ],
            "metadata": {
                "azdata_cell_guid": "582421f1-1e8c-4e5b-9bee-a84b742b7a6a",
                "tags": []
            },
            "outputs": [
                {
                    "output_type": "stream",
                    "name": "stdout",
                    "text": "['amount',\n 'an',\n 'and',\n 'angry',\n 'another',\n 'anticipated',\n 'any',\n 'anything',\n 'anytime',\n 'anyway',\n 'apologize',\n 'app',\n 'appalling',\n 'appetizers',\n 'apple',\n 'approval',\n 'are',\n 'area',\n 'aren',\n 'aria']\n"
                }
            ],
            "execution_count": 10
        },
        {
            "cell_type": "markdown",
            "source": [
                "We want our arrays to actually be proper vectors to feed to our model, which we'll create below as well. This function, ```createVector``` transforms our arrays into vectors. "
            ],
            "metadata": {
                "azdata_cell_guid": "93e3c874-f1dc-45b8-9c3e-a1cbaf760660"
            }
        },
        {
            "cell_type": "code",
            "source": [
                "def createVector(vocab, sentences):\n",
                "    indices = []\n",
                "    wordOccurrences = []\n",
                "\n",
                "    for sentenceIndex, sentence in enumerate(sentences):\n",
                "        alreadyCounted = set() # Keep track of words so we don't double count.\n",
                "        for word in sentence:\n",
                "            if (word in vocab) and word not in alreadyCounted:\n",
                "                # If we just want {0,1} for the presence of the word (bernoulli NB),\n",
                "                # only count each word once. Otherwise (multinomial NB) count each\n",
                "                # occurrence of the word.\n",
                "                \n",
                "            \n",
                "                #which sentence, which word\n",
                "                indices.append((sentenceIndex, vocab.index(word)))\n",
                "                \n",
                "                wordOccurrences.append(1)\n",
                "                alreadyCounted.add(word)\n",
                "\n",
                "    # Unzip\n",
                "    rows = [row for row, _ in indices]\n",
                "    columns = [column for _, column in indices]\n",
                "\n",
                "    sentenceVectors = sparse.csr_matrix((wordOccurrences, (rows, columns)), dtype=int, shape=(len(sentences), len(vocab)))\n",
                "\n",
                "    return sentenceVectors"
            ],
            "metadata": {
                "azdata_cell_guid": "f25af79b-16e4-49b7-acec-18f489f356a6"
            },
            "outputs": [],
            "execution_count": 11
        },
        {
            "cell_type": "code",
            "source": [
                "training = createVector(vocabulary, trainingTokens)\n",
                "testing = createVector(vocabulary, testingTokens)"
            ],
            "metadata": {
                "azdata_cell_guid": "a1683930-c447-4f33-ba91-4a8c3f55ea6e"
            },
            "outputs": [],
            "execution_count": 12
        },
        {
            "cell_type": "markdown",
            "source": [
                "Our training and test data has gone through some transformation. Here's what the training data looks like now:"
            ],
            "metadata": {
                "azdata_cell_guid": "4bbb4757-1f81-4a1c-8341-9879a215fbea"
            }
        },
        {
            "cell_type": "code",
            "source": [
                "#collapse-hide\n",
                "\n",
                "print(\"Training data:\")\n",
                "print(training[:2])"
            ],
            "metadata": {
                "azdata_cell_guid": "95527d26-176d-41d6-b90a-3aca0ec7421d"
            },
            "outputs": [
                {
                    "output_type": "stream",
                    "name": "stdout",
                    "text": "Training data:\n  (0, 694)\t1\n  (0, 884)\t1\n  (0, 1186)\t1\n  (0, 1335)\t1\n  (1, 52)\t1\n  (1, 640)\t1\n  (1, 768)\t1\n  (1, 788)\t1\n  (1, 1158)\t1\n  (1, 1166)\t1\n  (1, 1171)\t1\n  (1, 1281)\t1\n"
                }
            ],
            "execution_count": 13
        },
        {
            "cell_type": "markdown",
            "source": [
                "# A Naive Bayes model"
            ],
            "metadata": {
                "azdata_cell_guid": "17e17740-7130-4387-93ae-882b87c03e80"
            }
        },
        {
            "cell_type": "markdown",
            "source": [
                "## Creating and Training our Model\n",
                "\n",
                "Below is our Naive Bayes classifier, which is the model we've chosen to use for our sentiment analysis of restaurant reviews."
            ],
            "metadata": {
                "azdata_cell_guid": "750df53a-3c17-48ae-a977-7199732afc21"
            }
        },
        {
            "cell_type": "code",
            "source": [
                "class NaiveBayesClassifier:\n",
                "    def __init__(self):\n",
                "        self.priorPositive = None  # Probability that a review is positive\n",
                "        self.priorNegative = None  # Probability that a review is negative\n",
                "        self.positiveLogConditionals = None\n",
                "        self.negativeLogConditionals = None\n",
                "\n",
                "    def computePriorProbabilities(self, labels):\n",
                "        self.priorPositive = len([y for y in labels if y == 1]) / len(labels)\n",
                "        self.priorNegative = 1 - self.priorPositive\n",
                "\n",
                "    def computeConditionProbabilities(self, examples, labels, dirichlet=1):\n",
                "        _, vocabularyLength = examples.shape\n",
                "\n",
                "        # How many of each word are there in all of the positive reviews\n",
                "        positiveCounts = np.array([dirichlet for _ in range(vocabularyLength)])\n",
                "        # How many of each word are there in all of the negative reviews\n",
                "        negativeCounts = np.array([dirichlet for _ in range(vocabularyLength)])\n",
                "\n",
                "        # Here's how to iterate through a spare array\n",
                "        coordinates = examples.tocoo()  # Converted to a `coordinate` format\n",
                "        for exampleIndex, featureIndex, observationCount in zip(coordinates.row, coordinates.col, coordinates.data):\n",
                "            # For sentence {exampleIndex}, for word at index {featureIndex}, the word occurred {observationCount} times\n",
                "            if labels[exampleIndex] == 1:\n",
                "                positiveCounts[featureIndex] += observationCount\n",
                "            else:\n",
                "                negativeCounts[featureIndex] += observationCount\n",
                "\n",
                "        # [!] Make sure to use the logs of the probabilities\n",
                "        positiveReviewCount = len([y for y in labels if y == 1])\n",
                "        negativeReviewCount = len([y for y in labels if y == 0])\n",
                "\n",
                "        # We are using bernoulli NB (single occurance of a word)\n",
                "        self.positiveLogConditionals = np.log(positiveCounts) - np.log(positiveReviewCount + dirichlet*2)\n",
                "        self.negativeLogConditionals = np.log(negativeCounts) - np.log(negativeReviewCount + dirichlet*2)\n",
                "\n",
                "        # This works for multinomial NB (multiple occurances of a word)\n",
                "        # self.positiveLogConditionals = np.log(positiveCounts) - np.log(sum(positiveCounts))\n",
                "        # self.negativeLogConditionals = np.log(negativeCounts) - np.log(sum(negativeCounts))\n",
                "\n",
                "    # Calculate all of the parameters for making a naive bayes classification\n",
                "    def fit(self, trainingExamples, trainingLabels):\n",
                "        # Compute the probability of positive/negative review\n",
                "        self.computePriorProbabilities(trainingLabels)\n",
                "\n",
                "        # Compute\n",
                "        self.computeConditionProbabilities(trainingExamples, trainingLabels)\n",
                "\n",
                "    def computeLogPosteriors(self, sentence):\n",
                "        return ((np.log(self.priorPositive) + sum(sentence * self.positiveLogConditionals)),\n",
                "                (np.log(self.priorNegative) + sum(sentence * self.negativeLogConditionals)))\n",
                " \n",
                "    # Have the model try predicting if a review if positive or negative\n",
                "    def predict(self, examples):\n",
                "        totalReviewCount, _ = examples.shape\n",
                "        conf_list = []\n",
                "\n",
                "        predictions = np.array([0 for _ in range(totalReviewCount)])\n",
                "\n",
                "        for index, sentence in enumerate(examples):\n",
                "            logProbabilityPositive, logProbabilityNegative = self.computeLogPosteriors(\n",
                "                sentence)\n",
                "            conf_list.append([np.exp(logProbabilityPositive), np.exp(logProbabilityNegative)])\n",
                "            predictions[index] = 1 if logProbabilityPositive > logProbabilityNegative else 0\n",
                "\n",
                "        return conf_list, predictions"
            ],
            "metadata": {
                "azdata_cell_guid": "17220d70-73b4-4fe6-a5e4-b4ba2dd08e59",
                "tags": []
            },
            "outputs": [],
            "execution_count": 14
        },
        {
            "cell_type": "markdown",
            "source": [
                "Initialize an instance of model and begin to fit the model with our training data and corresponding labels."
            ],
            "metadata": {
                "azdata_cell_guid": "168fc97b-dd2a-46cf-8e79-3934ca77e2b3"
            }
        },
        {
            "cell_type": "code",
            "source": [
                "nbClassifier = NaiveBayesClassifier()\n",
                "nbClassifier.fit(training, trainingLabels)"
            ],
            "metadata": {
                "azdata_cell_guid": "65960622-8f88-49d2-aebe-53ffce20d0bb"
            },
            "outputs": [],
            "execution_count": 15
        },
        {
            "cell_type": "code",
            "source": [
                "# determine the accuracy of our model\n",
                "\n",
                "def accuracy(predictions, actual):\n",
                "    return sum((predictions == actual)) / len(actual)"
            ],
            "metadata": {
                "azdata_cell_guid": "15eea9e6-790e-4ada-bd84-26de239c8295"
            },
            "outputs": [],
            "execution_count": 16
        },
        {
            "cell_type": "markdown",
            "source": [
                "Let's take our model for a spin, using both the training set and the testing set. You may notice discrepencies in accuracy between training and testing - _why is that_?"
            ],
            "metadata": {
                "azdata_cell_guid": "53d3f21a-63f5-4f29-b7bf-ae1a888370c9"
            }
        },
        {
            "cell_type": "code",
            "source": [
                "# run our training and test using the Naive Bayes classifier\n",
                "\n",
                "train_confidence_scores, trainingPredictions = nbClassifier.predict(training)\n",
                "test_confidence_scores, testingPredictions = nbClassifier.predict(testing)"
            ],
            "metadata": {
                "azdata_cell_guid": "48ca6a8b-5d89-44f0-a018-78a890bb1916"
            },
            "outputs": [],
            "execution_count": 17
        },
        {
            "cell_type": "code",
            "source": [
                "#collapse-hide\n",
                "print(\"Training accuracy:\", accuracy(trainingPredictions, trainingLabels))\n",
                "print(\"Testing accuracy:\", accuracy(testingPredictions, testingLabels))"
            ],
            "metadata": {
                "azdata_cell_guid": "4abd7d0b-f009-4fcb-bbcf-92ef339ffa73",
                "tags": []
            },
            "outputs": [
                {
                    "output_type": "stream",
                    "name": "stdout",
                    "text": "Training accuracy: 0.9519038076152304\nTesting accuracy: 0.7947686116700201\n"
                }
            ],
            "execution_count": 18
        },
        {
            "cell_type": "markdown",
            "source": [
                "## Visualizing Results\n",
                "\n",
                "Here's another to visualize our results using a confusion matrix."
            ],
            "metadata": {
                "azdata_cell_guid": "8ad9abfb-46b3-4a23-a3a7-f13924cf2aac"
            }
        },
        {
            "cell_type": "code",
            "source": [
                "#collapse-hide\n",
                "\n",
                "data = {'Actual':    testingLabels,\n",
                "        'Predicted': testingPredictions\n",
                "        }\n",
                "\n",
                "df = pd.DataFrame(data, columns=['Actual','Predicted'])\n",
                "confusion_matrix = pd.crosstab(df['Actual'], df['Predicted'], rownames=['Actual'], colnames=['Predicted'])\n",
                "\n",
                "ax = sns.heatmap(confusion_matrix, annot=True,cmap=\"YlGnBu\")\n",
                "ax.set_ylim(2.0, 0)\n",
                "\n",
                "plt.title('Confusion Matrix of Testing')\n",
                "plt.show()"
            ],
            "metadata": {
                "azdata_cell_guid": "04e2d67d-41a2-47a5-9504-6b8a02cd331a",
                "tags": []
            },
            "outputs": [
                {
                    "output_type": "display_data",
                    "data": {
                        "image/png": "[encoded data removed]",
                        "text/plain": "<Figure size 432x288 with 2 Axes>"
                    },
                    "metadata": {
                        "needs_background": "light"
                    }
                }
            ],
            "execution_count": 19
        },
        {
            "cell_type": "markdown",
            "source": [
                "## A Closer Look \n",
                "\n",
                "Let's look at the general results for our model - notably, we can look at its precision for predicting negative and positive sentiment in a given sentence."
            ],
            "metadata": {
                "azdata_cell_guid": "03641042-6d20-485f-af4f-cb781092da6a"
            }
        },
        {
            "cell_type": "code",
            "source": [
                "target_names = ['negative', 'positive']\n",
                "print(classification_report(testingLabels, testingPredictions, target_names=target_names))"
            ],
            "metadata": {
                "azdata_cell_guid": "a8f1107c-edf7-434e-b4bf-9357b2d39e9e"
            },
            "outputs": [
                {
                    "traceback": [
                        "\u001b[0;31m---------------------------------------------------------------------------\u001b[0m",
                        "\u001b[0;31mNameError\u001b[0m                                 Traceback (most recent call last)",
                        "\u001b[0;32m<ipython-input-1-73b7949ec6a0>\u001b[0m in \u001b[0;36m<module>\u001b[0;34m\u001b[0m\n\u001b[1;32m      1\u001b[0m \u001b[0mtarget_names\u001b[0m \u001b[0;34m=\u001b[0m \u001b[0;34m[\u001b[0m\u001b[0;34m'negative'\u001b[0m\u001b[0;34m,\u001b[0m \u001b[0;34m'positive'\u001b[0m\u001b[0;34m]\u001b[0m\u001b[0;34m\u001b[0m\u001b[0;34m\u001b[0m\u001b[0m\n\u001b[0;32m----> 2\u001b[0;31m \u001b[0mprint\u001b[0m\u001b[0;34m(\u001b[0m\u001b[0mclassification_report\u001b[0m\u001b[0;34m(\u001b[0m\u001b[0mtestingLabels\u001b[0m\u001b[0;34m,\u001b[0m \u001b[0mtestingPredictions\u001b[0m\u001b[0;34m,\u001b[0m \u001b[0mtarget_names\u001b[0m\u001b[0;34m=\u001b[0m\u001b[0mtarget_names\u001b[0m\u001b[0;34m)\u001b[0m\u001b[0;34m)\u001b[0m\u001b[0;34m\u001b[0m\u001b[0;34m\u001b[0m\u001b[0m\n\u001b[0m",
                        "\u001b[0;31mNameError\u001b[0m: name 'classification_report' is not defined"
                    ],
                    "ename": "NameError",
                    "evalue": "name 'classification_report' is not defined",
                    "output_type": "error"
                }
            ],
            "execution_count": 1
        },
        {
            "cell_type": "markdown",
            "source": [
                "Now, we want to make an interactive confusion matrix so we can precisely see which results are accurately classified and which are mis-classified, as well as the confidence at which the model has classified that result. "
            ],
            "metadata": {
                "azdata_cell_guid": "d9da7c80-9581-4910-a39c-233435906799"
            }
        },
        {
            "cell_type": "code",
            "source": [
                "# collapse-hide\n",
                "\n",
                "# work with the model results to create a JSON dump of the data for future use\n",
                "\n",
                "import json\n",
                "\n",
                "output_filename = \"predict_naive.json\"\n",
                "data = []\n",
                "for i in range(len(testingPredictions)):\n",
                "  data.append({\n",
                "      'index': i,\n",
                "      'true_label': int(testingLabels[i]),\n",
                "      'predicted_label': int(testingPredictions[i]),\n",
                "      'confidence_score': test_confidence_scores[i],\n",
                "      'text': testingSentences[i]\n",
                "  })\n",
                "\n",
                "with open(output_filename, 'w') as outfile:\n",
                "    json.dump(data, outfile, indent=4, sort_keys=False)"
            ],
            "metadata": {
                "azdata_cell_guid": "8341b403-049a-4deb-935a-0007ffb43f90",
                "tags": []
            },
            "outputs": [],
            "execution_count": 37
        },
        {
            "cell_type": "code",
            "source": [
                "# collapse-hide\n",
                "\n",
                "from IPython.core.display import display, HTML\n",
                "from string import Template\n",
                "\n",
                "\n",
                "json_filepath = \"\\\"\" + output_filename + \"\\\"\"\n",
                "HTML('<script src=\"https://d3js.org/d3.v3.min.js\" charset=\"utf-8\"></script>')"
            ],
            "metadata": {
                "azdata_cell_guid": "95038aa7-dc75-4a32-a550-bb4c05f2e0a7"
            },
            "outputs": [
                {
                    "output_type": "execute_result",
                    "execution_count": 38,
                    "data": {
                        "text/html": "<script src=\"https://d3js.org/d3.v3.min.js\" charset=\"utf-8\"></script>",
                        "text/plain": "<IPython.core.display.HTML object>"
                    },
                    "metadata": {}
                }
            ],
            "execution_count": 38
        }
    ]
}